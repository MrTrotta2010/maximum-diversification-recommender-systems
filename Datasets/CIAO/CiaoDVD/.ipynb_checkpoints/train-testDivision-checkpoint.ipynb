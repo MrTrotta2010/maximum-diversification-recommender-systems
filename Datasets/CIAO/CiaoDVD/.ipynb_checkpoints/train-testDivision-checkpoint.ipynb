{
 "cells": [
  {
   "cell_type": "code",
   "execution_count": 18,
   "metadata": {},
   "outputs": [],
   "source": [
    "datain = open(\"movieRatings.txt\", \"r\")\n",
    "train = open(\"trainSet.csv\", \"w+\")\n",
    "test = open(\"testSet.csv\", \"w+\")"
   ]
  },
  {
   "cell_type": "code",
   "execution_count": 19,
   "metadata": {},
   "outputs": [],
   "source": [
    "dic = {}"
   ]
  },
  {
   "cell_type": "code",
   "execution_count": 20,
   "metadata": {},
   "outputs": [],
   "source": [
    "for line in datain:\n",
    "    line = line.rstrip()\n",
    "    v = line.split(\",\")\n",
    "    \n",
    "    key = v[0] + \",\" + v[1] + \",\" + v[2] + \",\"\n",
    "        \n",
    "    time = v[3].split(\"-\")\n",
    "    time = time[0] + time[1] + time[2]\n",
    "\n",
    "    dic[key] = int(time)"
   ]
  },
  {
   "cell_type": "code",
   "execution_count": 39,
   "metadata": {},
   "outputs": [],
   "source": [
    "from collections import OrderedDict\n",
    "oDic = OrderedDict(sorted(dic.items(), key=lambda k: k[1]))"
   ]
  },
  {
   "cell_type": "code",
   "execution_count": 45,
   "metadata": {},
   "outputs": [
    {
     "name": "stdout",
     "output_type": "stream",
     "text": [
      "72418 50693 21725\n"
     ]
    }
   ],
   "source": [
    "import math\n",
    "size = len(oDic)\n",
    "trainSize = math.ceil(size * 0.7)\n",
    "testSize = size - trainSize\n",
    "print(size, trainSize, testSize)"
   ]
  },
  {
   "cell_type": "code",
   "execution_count": 48,
   "metadata": {},
   "outputs": [],
   "source": [
    "cont = 0\n",
    "\n",
    "for i in oDic:\n",
    "    time = str(oDic[i])\n",
    "    time = time[0:4] + \"-\" + time[4:6] + \"-\" + time[6:8]\n",
    "    \n",
    "    if cont < trainSize:\n",
    "        train.write(i + time + \"\\n\")\n",
    "    else:\n",
    "        test.write(i + time + \"\\n\")\n",
    "    \n",
    "    cont += 1"
   ]
  },
  {
   "cell_type": "code",
   "execution_count": null,
   "metadata": {
    "collapsed": true
   },
   "outputs": [],
   "source": []
  },
  {
   "cell_type": "raw",
   "metadata": {},
   "source": []
  }
 ],
 "metadata": {
  "kernelspec": {
   "display_name": "Python 3",
   "language": "python",
   "name": "python3"
  },
  "language_info": {
   "codemirror_mode": {
    "name": "ipython",
    "version": 3
   },
   "file_extension": ".py",
   "mimetype": "text/x-python",
   "name": "python",
   "nbconvert_exporter": "python",
   "pygments_lexer": "ipython3",
   "version": "3.6.4"
  }
 },
 "nbformat": 4,
 "nbformat_minor": 2
}
