{
 "cells": [
  {
   "cell_type": "code",
   "execution_count": 2,
   "metadata": {},
   "outputs": [],
   "source": [
    "datain = open(\"movie-ratings.txt\", \"r\")\n",
    "dataout = open(\"movieRatings.txt\", \"w\")"
   ]
  },
  {
   "cell_type": "code",
   "execution_count": 7,
   "metadata": {},
   "outputs": [],
   "source": [
    "for line in datain:\n",
    "    line = line.rstrip()\n",
    "    v = line.split(\",\")\n",
    "    \n",
    "    dataout.write(v[0] + \",\" + v[1] + \",\" + v[4] + \",\" + v[5] + \"\\n\") # Retira as colunas genreID e reviewID"
   ]
  },
  {
   "cell_type": "code",
   "execution_count": 8,
   "metadata": {},
   "outputs": [],
   "source": [
    "datain.close()\n",
    "dataout.close()"
   ]
  },
  {
   "cell_type": "code",
   "execution_count": 20,
   "metadata": {},
   "outputs": [],
   "source": [
    "datain = open(\"movie-ratings.txt\", \"r\")\n",
    "dataout = open(\"featuresItems.txt\", \"w\")"
   ]
  },
  {
   "cell_type": "code",
   "execution_count": 10,
   "metadata": {},
   "outputs": [],
   "source": [
    "movies = {}"
   ]
  },
  {
   "cell_type": "code",
   "execution_count": 11,
   "metadata": {},
   "outputs": [],
   "source": [
    "for line in datain:\n",
    "    line = line.rstrip()\n",
    "    v = line.split(\",\")\n",
    "    movie = v[1]\n",
    "    genre = v[2]\n",
    "    \n",
    "    if movie not in movies.keys():\n",
    "        movies[movie] = genre\n",
    "    else:\n",
    "        if movies[movie] != genre:\n",
    "            print(\"Q!\")"
   ]
  },
  {
   "cell_type": "code",
   "execution_count": 21,
   "metadata": {},
   "outputs": [
    {
     "data": {
      "text/plain": [
       "238"
      ]
     },
     "execution_count": 21,
     "metadata": {},
     "output_type": "execute_result"
    }
   ],
   "source": [
    "dataout.write(\"Action & Adventure::Comedy::Family::Drama::Horror::Science Fiction & Fantasy::Thriller & Mystery::Martial Arts::Musicals & Music Films::War::Westerns::Documentaries & Biographies::Special Interests::Sports::World Cinema::TV Series::Anime\\n\")"
   ]
  },
  {
   "cell_type": "code",
   "execution_count": 22,
   "metadata": {},
   "outputs": [],
   "source": [
    "for movie in movies:\n",
    "    \n",
    "    dataout.write(movie + \" \")\n",
    "    \n",
    "    for i in range(1, 18):\n",
    "        if i == int(movies[movie]):\n",
    "            dataout.write(\"1 \")\n",
    "        else:\n",
    "            dataout.write(\"0 \")\n",
    "            \n",
    "    dataout.write(\"\\n\")"
   ]
  },
  {
   "cell_type": "code",
   "execution_count": 23,
   "metadata": {},
   "outputs": [],
   "source": [
    "dataout.close()"
   ]
  }
 ],
 "metadata": {
  "kernelspec": {
   "display_name": "Python 3",
   "language": "python",
   "name": "python3"
  },
  "language_info": {
   "codemirror_mode": {
    "name": "ipython",
    "version": 3
   },
   "file_extension": ".py",
   "mimetype": "text/x-python",
   "name": "python",
   "nbconvert_exporter": "python",
   "pygments_lexer": "ipython3",
   "version": "3.6.4"
  }
 },
 "nbformat": 4,
 "nbformat_minor": 2
}
