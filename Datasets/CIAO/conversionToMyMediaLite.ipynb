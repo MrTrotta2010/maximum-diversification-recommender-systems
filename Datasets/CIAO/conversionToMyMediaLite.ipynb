{
 "cells": [
  {
   "cell_type": "code",
   "execution_count": 78,
   "metadata": {
    "ExecuteTime": {
     "end_time": "2018-12-17T18:19:05.448325Z",
     "start_time": "2018-12-17T18:19:05.445525Z"
    }
   },
   "outputs": [],
   "source": [
    "datain = open(\"ratings.dat\", \"r\")\n",
    "dataout = open(\"movieRatings.txt\", \"w\")"
   ]
  },
  {
   "cell_type": "code",
   "execution_count": 79,
   "metadata": {
    "ExecuteTime": {
     "end_time": "2018-12-17T18:19:05.520498Z",
     "start_time": "2018-12-17T18:19:05.452831Z"
    }
   },
   "outputs": [],
   "source": [
    "dic = {}"
   ]
  },
  {
   "cell_type": "code",
   "execution_count": 80,
   "metadata": {
    "ExecuteTime": {
     "end_time": "2018-12-17T18:19:05.739923Z",
     "start_time": "2018-12-17T18:19:05.522164Z"
    }
   },
   "outputs": [],
   "source": [
    "for line in datain:\n",
    "    line = line.rstrip()\n",
    "    v = line.split(\"::\")\n",
    "    \n",
    "    #dataout.write(v[0] + \",\" + v[1] + \",\" + v[4] + \",\" + v[5] + \"\\n\") # Retira as colunas genreID e reviewID\n",
    "    dataout.write(v[0] + \",\" + v[1] + \",\" + v[2] + \",\" + v[3] + \"\\n\") # Muda :: para ,\n",
    "    \n",
    "    if v[0] not in dic.keys():\n",
    "        dic[v[0]] = 1\n",
    "    else:\n",
    "        dic[v[0]] += 1    "
   ]
  },
  {
   "cell_type": "code",
   "execution_count": 81,
   "metadata": {
    "ExecuteTime": {
     "end_time": "2018-12-17T18:19:05.744619Z",
     "start_time": "2018-12-17T18:19:05.742050Z"
    }
   },
   "outputs": [],
   "source": [
    "datain.close()\n",
    "dataout.close()"
   ]
  },
  {
   "cell_type": "code",
   "execution_count": 82,
   "metadata": {
    "ExecuteTime": {
     "end_time": "2018-12-17T18:19:05.844654Z",
     "start_time": "2018-12-17T18:19:05.746174Z"
    }
   },
   "outputs": [],
   "source": [
    "datain = open(\"movie-ratings.txt\", \"r\")\n",
    "dataout = open(\"featuresItems.txt\", \"w\")"
   ]
  },
  {
   "cell_type": "code",
   "execution_count": 83,
   "metadata": {
    "ExecuteTime": {
     "end_time": "2018-12-17T18:19:05.937392Z",
     "start_time": "2018-12-17T18:19:05.846807Z"
    }
   },
   "outputs": [],
   "source": [
    "movies = {}"
   ]
  },
  {
   "cell_type": "code",
   "execution_count": 84,
   "metadata": {
    "ExecuteTime": {
     "end_time": "2018-12-17T18:19:06.093476Z",
     "start_time": "2018-12-17T18:19:05.939642Z"
    }
   },
   "outputs": [],
   "source": [
    "for line in datain:\n",
    "    line = line.rstrip()\n",
    "    v = line.split(\",\")\n",
    "    movie = v[1]\n",
    "    genre = v[2]\n",
    "    \n",
    "    if movie not in movies.keys():\n",
    "        movies[movie] = genre\n",
    "    else:\n",
    "        if movies[movie] != genre:\n",
    "            print(\"Q!\")"
   ]
  },
  {
   "cell_type": "code",
   "execution_count": 85,
   "metadata": {
    "ExecuteTime": {
     "end_time": "2018-12-17T18:19:06.128782Z",
     "start_time": "2018-12-17T18:19:06.095625Z"
    }
   },
   "outputs": [
    {
     "data": {
      "text/plain": [
       "238"
      ]
     },
     "execution_count": 85,
     "metadata": {},
     "output_type": "execute_result"
    }
   ],
   "source": [
    "dataout.write(\"Action & Adventure::Comedy::Family::Drama::Horror::Science Fiction & Fantasy::Thriller & Mystery::Martial Arts::Musicals & Music Films::War::Westerns::Documentaries & Biographies::Special Interests::Sports::World Cinema::TV Series::Anime\\n\")"
   ]
  },
  {
   "cell_type": "code",
   "execution_count": 86,
   "metadata": {
    "ExecuteTime": {
     "end_time": "2018-12-17T18:19:06.391480Z",
     "start_time": "2018-12-17T18:19:06.130814Z"
    }
   },
   "outputs": [],
   "source": [
    "for movie in movies:\n",
    "    \n",
    "    dataout.write(movie + \" \")\n",
    "    \n",
    "    for i in range(1, 18):\n",
    "        if i == int(movies[movie]):\n",
    "            dataout.write(\"1 \")\n",
    "        else:\n",
    "            dataout.write(\"0 \")\n",
    "            \n",
    "    dataout.write(\"\\n\")"
   ]
  },
  {
   "cell_type": "code",
   "execution_count": 87,
   "metadata": {
    "ExecuteTime": {
     "end_time": "2018-12-17T18:19:06.395852Z",
     "start_time": "2018-12-17T18:19:06.393296Z"
    }
   },
   "outputs": [],
   "source": [
    "dataout.close()"
   ]
  },
  {
   "cell_type": "code",
   "execution_count": 88,
   "metadata": {
    "ExecuteTime": {
     "end_time": "2018-12-17T18:19:06.489588Z",
     "start_time": "2018-12-17T18:19:06.398313Z"
    }
   },
   "outputs": [],
   "source": [
    "cont = 0\n",
    "for user in dic:\n",
    "    if dic[user] == 1:\n",
    "        cont += 1"
   ]
  },
  {
   "cell_type": "code",
   "execution_count": 89,
   "metadata": {
    "ExecuteTime": {
     "end_time": "2018-12-17T18:19:06.580254Z",
     "start_time": "2018-12-17T18:19:06.491953Z"
    }
   },
   "outputs": [
    {
     "data": {
      "text/plain": [
       "9968"
      ]
     },
     "execution_count": 89,
     "metadata": {},
     "output_type": "execute_result"
    }
   ],
   "source": [
    "cont"
   ]
  }
 ],
 "metadata": {
  "kernelspec": {
   "display_name": "Python 3",
   "language": "python",
   "name": "python3"
  },
  "language_info": {
   "codemirror_mode": {
    "name": "ipython",
    "version": 3
   },
   "file_extension": ".py",
   "mimetype": "text/x-python",
   "name": "python",
   "nbconvert_exporter": "python",
   "pygments_lexer": "ipython3",
   "version": "3.6.5"
  },
  "toc": {
   "base_numbering": 1,
   "nav_menu": {},
   "number_sections": true,
   "sideBar": true,
   "skip_h1_title": false,
   "title_cell": "Table of Contents",
   "title_sidebar": "Contents",
   "toc_cell": false,
   "toc_position": {},
   "toc_section_display": true,
   "toc_window_display": false
  },
  "varInspector": {
   "cols": {
    "lenName": 16,
    "lenType": 16,
    "lenVar": 40
   },
   "kernels_config": {
    "python": {
     "delete_cmd_postfix": "",
     "delete_cmd_prefix": "del ",
     "library": "var_list.py",
     "varRefreshCmd": "print(var_dic_list())"
    },
    "r": {
     "delete_cmd_postfix": ") ",
     "delete_cmd_prefix": "rm(",
     "library": "var_list.r",
     "varRefreshCmd": "cat(var_dic_list()) "
    }
   },
   "types_to_exclude": [
    "module",
    "function",
    "builtin_function_or_method",
    "instance",
    "_Feature"
   ],
   "window_display": false
  }
 },
 "nbformat": 4,
 "nbformat_minor": 2
}
