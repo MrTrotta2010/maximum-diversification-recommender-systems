{
 "cells": [
  {
   "cell_type": "code",
   "execution_count": 18,
   "metadata": {
    "ExecuteTime": {
     "end_time": "2018-12-17T18:21:33.977054Z",
     "start_time": "2018-12-17T18:21:33.971753Z"
    }
   },
   "outputs": [],
   "source": [
    "datain = open(\"movieRatings.txt\", \"r\")\n",
    "train = open(\"ratings_train.txt\", \"w+\")\n",
    "test = open(\"ratings_test.txt\", \"w+\")"
   ]
  },
  {
   "cell_type": "code",
   "execution_count": 19,
   "metadata": {
    "ExecuteTime": {
     "end_time": "2018-12-17T18:21:34.048557Z",
     "start_time": "2018-12-17T18:21:33.979153Z"
    }
   },
   "outputs": [],
   "source": [
    "dic = {}"
   ]
  },
  {
   "cell_type": "code",
   "execution_count": 20,
   "metadata": {
    "ExecuteTime": {
     "end_time": "2018-12-17T18:21:34.280230Z",
     "start_time": "2018-12-17T18:21:34.050572Z"
    }
   },
   "outputs": [],
   "source": [
    "for line in datain:\n",
    "    line = line.rstrip()\n",
    "    v = line.split(\",\")\n",
    "    \n",
    "    user = v[0] + \"::\"\n",
    "    \n",
    "    key = v[1] + \"::\" + v[2] + \"::\"\n",
    "        \n",
    "    time = float(v[3])#.split(\"-\")\n",
    "    #time = time[0] + time[1] + time[2]\n",
    "\n",
    "    if user not in dic.keys():\n",
    "        dic[user] = {}\n",
    "        \n",
    "    dic[user][key] = time\n",
    "    #print (user, key, time)"
   ]
  },
  {
   "cell_type": "code",
   "execution_count": 21,
   "metadata": {
    "ExecuteTime": {
     "end_time": "2018-12-17T18:21:34.381489Z",
     "start_time": "2018-12-17T18:21:34.282302Z"
    }
   },
   "outputs": [],
   "source": [
    "from collections import OrderedDict\n",
    "oDic = {}\n",
    "for user in dic: \n",
    "    oDic[user] = OrderedDict(sorted(dic[user].items(), key=lambda k: k[0]))"
   ]
  },
  {
   "cell_type": "code",
   "execution_count": 22,
   "metadata": {
    "ExecuteTime": {
     "end_time": "2018-12-17T18:21:34.614787Z",
     "start_time": "2018-12-17T18:21:34.383209Z"
    }
   },
   "outputs": [],
   "source": [
    "import math\n",
    "\n",
    "otarios = 0\n",
    "\n",
    "for user in oDic:\n",
    "    \n",
    "    size = len(oDic[user])\n",
    "    \n",
    "    if size >= 2:\n",
    "        trainSize = math.floor(size * 0.7)\n",
    "        #print (user, size, trainSize)\n",
    "        #print(oDic[user])\n",
    "\n",
    "        cont = 0\n",
    "\n",
    "        for key in oDic[user]:\n",
    "\n",
    "            time = str(oDic[user][key])\n",
    "            #time = time[0:4] + \"-\" + time[4:6] + \"-\" + time[6:8]\n",
    "\n",
    "            #print (key, time)\n",
    "\n",
    "            if cont < trainSize:\n",
    "                train.write(user + key + time + \"\\n\")\n",
    "                #sTrain += 1\n",
    "            else:\n",
    "                test.write(user+ key + time + \"\\n\")\n",
    "                #sTest += 1\n",
    "\n",
    "            cont += 1"
   ]
  },
  {
   "cell_type": "code",
   "execution_count": 23,
   "metadata": {
    "ExecuteTime": {
     "end_time": "2018-12-17T18:21:34.619260Z",
     "start_time": "2018-12-17T18:21:34.616774Z"
    }
   },
   "outputs": [],
   "source": [
    "train.close()\n",
    "test.close()"
   ]
  },
  {
   "cell_type": "code",
   "execution_count": 24,
   "metadata": {
    "ExecuteTime": {
     "end_time": "2018-12-17T18:21:34.711042Z",
     "start_time": "2018-12-17T18:21:34.620897Z"
    }
   },
   "outputs": [
    {
     "name": "stdout",
     "output_type": "stream",
     "text": [
      "17615\n"
     ]
    }
   ],
   "source": [
    "print(len(dic) - otarios)"
   ]
  }
 ],
 "metadata": {
  "kernelspec": {
   "display_name": "Python 3",
   "language": "python",
   "name": "python3"
  },
  "language_info": {
   "codemirror_mode": {
    "name": "ipython",
    "version": 3
   },
   "file_extension": ".py",
   "mimetype": "text/x-python",
   "name": "python",
   "nbconvert_exporter": "python",
   "pygments_lexer": "ipython3",
   "version": "3.6.4"
  },
  "toc": {
   "base_numbering": 1,
   "nav_menu": {},
   "number_sections": true,
   "sideBar": true,
   "skip_h1_title": false,
   "title_cell": "Table of Contents",
   "title_sidebar": "Contents",
   "toc_cell": false,
   "toc_position": {},
   "toc_section_display": true,
   "toc_window_display": false
  },
  "varInspector": {
   "cols": {
    "lenName": 16,
    "lenType": 16,
    "lenVar": 40
   },
   "kernels_config": {
    "python": {
     "delete_cmd_postfix": "",
     "delete_cmd_prefix": "del ",
     "library": "var_list.py",
     "varRefreshCmd": "print(var_dic_list())"
    },
    "r": {
     "delete_cmd_postfix": ") ",
     "delete_cmd_prefix": "rm(",
     "library": "var_list.r",
     "varRefreshCmd": "cat(var_dic_list()) "
    }
   },
   "types_to_exclude": [
    "module",
    "function",
    "builtin_function_or_method",
    "instance",
    "_Feature"
   ],
   "window_display": false
  }
 },
 "nbformat": 4,
 "nbformat_minor": 2
}
