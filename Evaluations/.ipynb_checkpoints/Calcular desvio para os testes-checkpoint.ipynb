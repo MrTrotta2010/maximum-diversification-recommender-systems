{
 "cells": [
  {
   "cell_type": "code",
   "execution_count": 1,
   "metadata": {},
   "outputs": [],
   "source": [
    "import numpy as np\n",
    "from math import sqrt"
   ]
  },
  {
   "cell_type": "code",
   "execution_count": 2,
   "metadata": {},
   "outputs": [],
   "source": [
    "recs = [\"ItemKNN\", \"UserKNN\", \"WRMF\"]\n",
    "alphas = [\"0.000000\", \"0.250000\", \"0.500000\", \"0.750000\", \"0.100000\"]"
   ]
  },
  {
   "cell_type": "code",
   "execution_count": 6,
   "metadata": {},
   "outputs": [],
   "source": [
    "def metrics(msg, valores):\n",
    "    print(msg)\n",
    "    \n",
    "    # numero de testes\n",
    "    n = 10\n",
    "    \n",
    "    # media\n",
    "    media = np.array(valores).mean()\n",
    "    print(\"media:\", media)\n",
    "\n",
    "    # variancia\n",
    "    variancia = 0\n",
    "    for valor in valores:\n",
    "        variancia = variancia + (valor - media)**2\n",
    "        \n",
    "\n",
    "    variancia = variancia/n\n",
    "    print(\"variancia: \", variancia)\n",
    "    #print np.var(valores)\n",
    "\n",
    "    # desvio\n",
    "    desvio = sqrt(variancia)\n",
    "    print(\"desvio: \", desvio)\n",
    "    #print np.std(valores)\n",
    "\n",
    "    # IC de 95%\n",
    "    inferior = media - 2.262*(desvio/sqrt(n))\n",
    "    superior = media + 2.262*(desvio/sqrt(n))\n",
    "\n",
    "    # Imprime\n",
    "    print(msg+\": \"+ str(inferior) + \" <= \" + str(media) + \" <= \" + str(superior))"
   ]
  },
  {
   "cell_type": "code",
   "execution_count": null,
   "metadata": {},
   "outputs": [],
   "source": [
    "#MDRS:\n",
    "for alpha in alphas:\n",
    "    for rec in recs:\n",
    "        mean = []\n",
    "        median = []\n",
    "        print(rec)\n",
    "        \n",
    "        filepath = \"MDRS_Output/alfa\"+alpha+\"/\"+rec+\"/eval.txt\"\n",
    "        filepath = \"Standard/\"+rec+\"/eval.txt\"\n",
    "        user_id = []\n",
    "        acc = []\n",
    "        acc_rel = []\n",
    "        div = []\n",
    "        filein = open(filepath, 'r')\n",
    "        for line in filein:\n",
    "            line = line.rstrip()\n",
    "            values = line.split(\"\\t\")\n",
    "            user_id.append(int(values[0]))\n",
    "            acc.append(float(values[1]))\n",
    "            acc_rel.append(float(values[2]))\n",
    "            div.append(float(values[3]))\n",
    "\n",
    "        print(\"Teste\"+str(i))\n",
    "        print(np.mean(np.array(acc)))\n",
    "        mean.append(np.mean(np.array(acc)))\n",
    "\n",
    "        metrics(\"Mean\", mean)"
   ]
  },
  {
   "cell_type": "code",
   "execution_count": null,
   "metadata": {},
   "outputs": [],
   "source": []
  },
  {
   "cell_type": "code",
   "execution_count": null,
   "metadata": {},
   "outputs": [],
   "source": []
  }
 ],
 "metadata": {
  "kernelspec": {
   "display_name": "Python 3",
   "language": "python",
   "name": "python3"
  },
  "language_info": {
   "codemirror_mode": {
    "name": "ipython",
    "version": 3
   },
   "file_extension": ".py",
   "mimetype": "text/x-python",
   "name": "python",
   "nbconvert_exporter": "python",
   "pygments_lexer": "ipython3",
   "version": "3.6.4"
  }
 },
 "nbformat": 4,
 "nbformat_minor": 2
}
