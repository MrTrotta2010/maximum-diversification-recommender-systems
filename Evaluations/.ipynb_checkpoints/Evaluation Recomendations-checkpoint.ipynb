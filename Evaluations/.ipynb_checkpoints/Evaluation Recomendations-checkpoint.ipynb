{
 "cells": [
  {
   "cell_type": "code",
   "execution_count": 1,
   "metadata": {},
   "outputs": [],
   "source": [
    "import numpy as np\n",
    "from scipy import stats\n",
    "from sklearn import metrics"
   ]
  },
  {
   "cell_type": "code",
   "execution_count": 6,
   "metadata": {},
   "outputs": [
    {
     "name": "stdout",
     "output_type": "stream",
     "text": [
      "59.900000000000006\n",
      "0.11980000000000002\n",
      "35.95\n",
      "0.0719\n",
      "344.22223099999997\n",
      "0.688444462\n",
      "STANDARD\n",
      "59.2\n",
      "0.1184\n",
      "35.4\n",
      "0.0708\n",
      "136.66665589999997\n",
      "0.2733333117999999\n",
      "Wilcoxon\n"
     ]
    },
    {
     "data": {
      "text/plain": [
       "WilcoxonResult(statistic=0.0, pvalue=2.5680963588331353e-84)"
      ]
     },
     "execution_count": 6,
     "metadata": {},
     "output_type": "execute_result"
    }
   ],
   "source": [
    "### MDRS\n",
    "filepath = \"MDRS_Output/alfa05/ItemKNN/Teste1/eval.txt\"\n",
    "user_id = []\n",
    "mdrs_acc = []\n",
    "mdrs_acc_rel = []\n",
    "mdrs_div = []\n",
    "filein = open(filepath, 'r')\n",
    "for line in filein:\n",
    "    line = line.rstrip()\n",
    "    values = line.split(\"\\t\")\n",
    "    user_id.append(int(values[0]))\n",
    "    mdrs_acc.append(float(values[1]))\n",
    "    mdrs_acc_rel.append(float(values[2]))\n",
    "    mdrs_div.append(float(values[3]))\n",
    "\n",
    "mdrs_acc.sort()\n",
    "print(metrics.auc(x=np.array(user_id), y=np.array(mdrs_acc)) / 500)\n",
    "\n",
    "mdrs_acc_rel.sort()\n",
    "print(metrics.auc(x=np.array(user_id), y=np.array(mdrs_acc_rel)) / 500)\n",
    "\n",
    "mdrs_div.sort()\n",
    "print(metrics.auc(x=np.array(user_id), y=np.array(mdrs_div)) / 500)\n",
    "\n",
    "\n",
    "###STANDARD\n",
    "print(\"STANDARD\")\n",
    "filepath = \"Standard/ItemKNN/eval.txt\"\n",
    "user_id = []\n",
    "acc = []\n",
    "acc_rel = []\n",
    "div = []\n",
    "filein = open(filepath, 'r')\n",
    "for line in filein:\n",
    "    line = line.rstrip()\n",
    "    values = line.split(\"\\t\")\n",
    "    user_id.append(int(values[0]))\n",
    "    acc.append(float(values[1]))\n",
    "    acc_rel.append(float(values[2]))\n",
    "    div.append(float(values[3]))\n",
    "\n",
    "acc.sort()\n",
    "print(metrics.auc(x=np.array(user_id), y=np.array(acc)) / 500)\n",
    "\n",
    "acc_rel.sort()\n",
    "print(metrics.auc(x=np.array(user_id), y=np.array(acc_rel)) / 500)\n",
    "\n",
    "div.sort()\n",
    "print(metrics.auc(x=np.array(user_id), y=np.array(div)) / 500)\n",
    "\n",
    "\n",
    "### Wilcoxon\n",
    "print(\"Wilcoxon\")\n",
    "stats.wilcoxon(np.array(mdrs_acc), np.array(acc))\n",
    "stats.wilcoxon(np.array(mdrs_acc_rel), np.array(acc_rel))\n",
    "stats.wilcoxon(np.array(mdrs_div), np.array(div))"
   ]
  },
  {
   "cell_type": "code",
   "execution_count": 45,
   "metadata": {},
   "outputs": [
    {
     "data": {
      "text/plain": [
       "WilcoxonResult(statistic=33639.0, pvalue=0.8081378748590541)"
      ]
     },
     "execution_count": 45,
     "metadata": {},
     "output_type": "execute_result"
    }
   ],
   "source": [
    "stats.wilcoxon(np.array(mdrs_acc), np.array(acc))"
   ]
  },
  {
   "cell_type": "code",
   "execution_count": 46,
   "metadata": {},
   "outputs": [
    {
     "data": {
      "text/plain": [
       "WilcoxonResult(statistic=23627.5, pvalue=0.8356013615160081)"
      ]
     },
     "execution_count": 46,
     "metadata": {},
     "output_type": "execute_result"
    }
   ],
   "source": [
    "stats.wilcoxon(np.array(mdrs_acc_rel), np.array(acc_rel))"
   ]
  },
  {
   "cell_type": "code",
   "execution_count": 47,
   "metadata": {
    "scrolled": true
   },
   "outputs": [
    {
     "data": {
      "text/plain": [
       "WilcoxonResult(statistic=79.0, pvalue=2.5848069059689106e-82)"
      ]
     },
     "execution_count": 47,
     "metadata": {},
     "output_type": "execute_result"
    }
   ],
   "source": [
    "stats.wilcoxon(np.array(mdrs_div), np.array(div))"
   ]
  },
  {
   "cell_type": "code",
   "execution_count": null,
   "metadata": {},
   "outputs": [],
   "source": []
  }
 ],
 "metadata": {
  "kernelspec": {
   "display_name": "Python 3",
   "language": "python",
   "name": "python3"
  },
  "language_info": {
   "codemirror_mode": {
    "name": "ipython",
    "version": 3
   },
   "file_extension": ".py",
   "mimetype": "text/x-python",
   "name": "python",
   "nbconvert_exporter": "python",
   "pygments_lexer": "ipython3",
   "version": "3.6.5"
  }
 },
 "nbformat": 4,
 "nbformat_minor": 2
}
