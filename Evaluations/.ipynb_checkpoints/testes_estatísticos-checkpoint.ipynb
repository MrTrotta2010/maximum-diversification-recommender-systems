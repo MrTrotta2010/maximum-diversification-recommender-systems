{
 "cells": [
  {
   "cell_type": "code",
   "execution_count": 28,
   "metadata": {
    "ExecuteTime": {
     "end_time": "2019-07-04T15:09:48.895164Z",
     "start_time": "2019-07-04T15:09:48.892455Z"
    }
   },
   "outputs": [],
   "source": [
    "import numpy as np\n",
    "from scipy import stats"
   ]
  },
  {
   "cell_type": "markdown",
   "metadata": {},
   "source": [
    "Definir qual é a coluna inicial de avaliação do arquivo de distribuições:"
   ]
  },
  {
   "cell_type": "code",
   "execution_count": 29,
   "metadata": {
    "ExecuteTime": {
     "end_time": "2019-07-04T15:09:49.399351Z",
     "start_time": "2019-07-04T15:09:49.395765Z"
    }
   },
   "outputs": [],
   "source": [
    "col_metrica = 2"
   ]
  },
  {
   "cell_type": "markdown",
   "metadata": {},
   "source": [
    "Definir qual é a coluna para fazer o teste estatístico: @5 = 0; @10 = 1; @20 = 3"
   ]
  },
  {
   "cell_type": "code",
   "execution_count": 30,
   "metadata": {
    "ExecuteTime": {
     "end_time": "2019-07-04T15:09:51.543513Z",
     "start_time": "2019-07-04T15:09:51.539765Z"
    }
   },
   "outputs": [],
   "source": [
    "coluna = 1"
   ]
  },
  {
   "cell_type": "markdown",
   "metadata": {},
   "source": [
    "Carregar as informações de distribuição do PSO"
   ]
  },
  {
   "cell_type": "code",
   "execution_count": 24,
   "metadata": {
    "ExecuteTime": {
     "end_time": "2019-07-04T15:08:47.868151Z",
     "start_time": "2019-07-04T15:08:47.853819Z"
    }
   },
   "outputs": [],
   "source": [
    "resultados_pso = []\n",
    "dados_pso = open(\"Comparações/ML-1M/PSO/eval.txt\",\"r\")\n",
    "for linha in dados_pso:\n",
    "    resultados_pso.append(linha.split())\n",
    "dados_pso.close()\n",
    "resultados_pso = np.array(resultados_pso,dtype='<U30')"
   ]
  },
  {
   "cell_type": "code",
   "execution_count": 25,
   "metadata": {
    "ExecuteTime": {
     "end_time": "2019-07-04T15:08:48.095702Z",
     "start_time": "2019-07-04T15:08:48.091034Z"
    }
   },
   "outputs": [
    {
     "data": {
      "text/plain": [
       "array([['User', 'Acc', 'Acc-Rel', 'Div', 'Div-Rel'],\n",
       "       ['6040', '0.7', '0.5', '0.833333', '0.777778'],\n",
       "       ['6039', '0.3', '0.3', '0.888889', '0.833333'],\n",
       "       ..., \n",
       "       ['3206', '0.1', '0.1', '0.888889', '0.722222'],\n",
       "       ['3207', '0.2', '0.1', '0.833333', '0.722222'],\n",
       "       ['3208', '0.1', '0.1', '0.888889', '0.888889']],\n",
       "      dtype='<U30')"
      ]
     },
     "execution_count": 25,
     "metadata": {},
     "output_type": "execute_result"
    }
   ],
   "source": [
    "resultados_pso"
   ]
  },
  {
   "cell_type": "code",
   "execution_count": 26,
   "metadata": {
    "ExecuteTime": {
     "end_time": "2019-07-04T15:08:49.438292Z",
     "start_time": "2019-07-04T15:08:49.430289Z"
    }
   },
   "outputs": [
    {
     "data": {
      "text/plain": [
       "array([['Acc-Rel'],\n",
       "       ['0.5'],\n",
       "       ['0.3'],\n",
       "       ..., \n",
       "       ['0.1'],\n",
       "       ['0.1'],\n",
       "       ['0.1']],\n",
       "      dtype='<U30')"
      ]
     },
     "execution_count": 26,
     "metadata": {},
     "output_type": "execute_result"
    }
   ],
   "source": [
    "pso = np.array(resultados_pso[:,col_metrica:col_metrica+1][:].copy())\n",
    "pso"
   ]
  },
  {
   "cell_type": "code",
   "execution_count": 27,
   "metadata": {
    "ExecuteTime": {
     "end_time": "2019-07-04T15:09:41.632881Z",
     "start_time": "2019-07-04T15:09:41.622698Z"
    }
   },
   "outputs": [
    {
     "ename": "NameError",
     "evalue": "name 'geodiv' is not defined",
     "output_type": "error",
     "traceback": [
      "\u001b[0;31m---------------------------------------------------------------------------\u001b[0m",
      "\u001b[0;31mNameError\u001b[0m                                 Traceback (most recent call last)",
      "\u001b[0;32m<ipython-input-27-86ccfb5580f7>\u001b[0m in \u001b[0;36m<module>\u001b[0;34m()\u001b[0m\n\u001b[0;32m----> 1\u001b[0;31m \u001b[0mdist1\u001b[0m \u001b[0;34m=\u001b[0m \u001b[0mgeodiv\u001b[0m\u001b[0;34m[\u001b[0m\u001b[0;36m1\u001b[0m\u001b[0;34m:\u001b[0m\u001b[0;34m,\u001b[0m\u001b[0;36m0\u001b[0m\u001b[0;34m:\u001b[0m\u001b[0;36m4\u001b[0m\u001b[0;34m]\u001b[0m\u001b[0;34m.\u001b[0m\u001b[0mcopy\u001b[0m\u001b[0;34m(\u001b[0m\u001b[0;34m)\u001b[0m\u001b[0;34m\u001b[0m\u001b[0m\n\u001b[0m\u001b[1;32m      2\u001b[0m \u001b[0mdist1\u001b[0m \u001b[0;34m=\u001b[0m \u001b[0mnp\u001b[0m\u001b[0;34m.\u001b[0m\u001b[0mcore\u001b[0m\u001b[0;34m.\u001b[0m\u001b[0mdefchararray\u001b[0m\u001b[0;34m.\u001b[0m\u001b[0mreplace\u001b[0m\u001b[0;34m(\u001b[0m\u001b[0mdist1\u001b[0m\u001b[0;34m,\u001b[0m\u001b[0;34m','\u001b[0m\u001b[0;34m,\u001b[0m\u001b[0;34m'.'\u001b[0m\u001b[0;34m)\u001b[0m\u001b[0;34m\u001b[0m\u001b[0m\n\u001b[1;32m      3\u001b[0m \u001b[0mdist1\u001b[0m \u001b[0;34m=\u001b[0m \u001b[0mnp\u001b[0m\u001b[0;34m.\u001b[0m\u001b[0mcore\u001b[0m\u001b[0;34m.\u001b[0m\u001b[0mdefchararray\u001b[0m\u001b[0;34m.\u001b[0m\u001b[0mreplace\u001b[0m\u001b[0;34m(\u001b[0m\u001b[0mdist1\u001b[0m\u001b[0;34m,\u001b[0m\u001b[0;34m'NaN'\u001b[0m\u001b[0;34m,\u001b[0m\u001b[0;34m'0.000'\u001b[0m\u001b[0;34m)\u001b[0m\u001b[0;34m\u001b[0m\u001b[0m\n\u001b[1;32m      4\u001b[0m \u001b[0mdist1\u001b[0m \u001b[0;34m=\u001b[0m \u001b[0mdist1\u001b[0m\u001b[0;34m.\u001b[0m\u001b[0mastype\u001b[0m\u001b[0;34m(\u001b[0m\u001b[0mfloat\u001b[0m\u001b[0;34m)\u001b[0m\u001b[0;34m\u001b[0m\u001b[0m\n\u001b[1;32m      5\u001b[0m \u001b[0;34m\u001b[0m\u001b[0m\n",
      "\u001b[0;31mNameError\u001b[0m: name 'geodiv' is not defined"
     ]
    }
   ],
   "source": [
    "dist1 = resultados_pso[1:,0:4].copy()\n",
    "dist1 = np.core.defchararray.replace(dist1,',','.')\n",
    "dist1 = np.core.defchararray.replace(dist1,'NaN','0.000')\n",
    "dist1 = dist1.astype(float)\n",
    "\n",
    "print('Total de Recomendações: {:.4f}'.format(len(dist1[:,coluna])))\n",
    "print('Média: {:.4f}'.format(np.mean(dist1[:,coluna])))\n",
    "print('Mediana: {:.4f}'.format(np.median(dist1[:,coluna])))\n",
    "print('Variância: {:.4f}'.format(np.var(dist1[:,coluna])))\n",
    "print('Desvio Padrão: {:.4f}'.format(np.std(dist1[:,coluna])))\n",
    "print('Menor Valor: {:.4f}'.format(np.min(dist1[:,coluna])))\n",
    "print('Maior Valor: {:.4f}'.format(np.max(dist1[:,coluna])))\n"
   ]
  },
  {
   "cell_type": "code",
   "execution_count": 287,
   "metadata": {},
   "outputs": [
    {
     "data": {
      "text/plain": [
       "array([[0.        , 0.        , 0.        , 0.        ],\n",
       "       [0.        , 0.        , 0.        , 0.        ],\n",
       "       [0.        , 0.        , 0.        , 0.        ],\n",
       "       ...,\n",
       "       [0.        , 0.        , 0.09090909, 0.09090909],\n",
       "       [0.        , 0.        , 0.        , 0.        ],\n",
       "       [0.25      , 0.25      , 0.25      , 0.25      ]])"
      ]
     },
     "execution_count": 287,
     "metadata": {},
     "output_type": "execute_result"
    }
   ],
   "source": [
    "dist1"
   ]
  },
  {
   "cell_type": "markdown",
   "metadata": {},
   "source": [
    "Carregar as informações da outra distribuição que será comparada com o geodiv"
   ]
  },
  {
   "cell_type": "code",
   "execution_count": 288,
   "metadata": {
    "ExecuteTime": {
     "end_time": "2019-02-15T05:53:16.253090Z",
     "start_time": "2019-02-15T05:53:16.201283Z"
    },
    "collapsed": true
   },
   "outputs": [],
   "source": [
    "resultados_outra = []\n",
    "dados_outra = open(\"./Phoenix/0.5/Phoenix_GeoMF.dat\",\"r\")\n",
    "for linha in dados_outra:\n",
    "    resultados_outra.append(linha.split())\n",
    "dados_outra.close()\n",
    "resultados_outra = np.array(resultados_outra,dtype='<U30')"
   ]
  },
  {
   "cell_type": "code",
   "execution_count": 289,
   "metadata": {
    "ExecuteTime": {
     "end_time": "2019-02-15T05:53:16.367616Z",
     "start_time": "2019-02-15T05:53:16.358064Z"
    }
   },
   "outputs": [
    {
     "data": {
      "text/plain": [
       "array([['mrr@5', 'mrr@10', 'mrr@15', 'mrr@20'],\n",
       "       ['0.0', '0.0', '0.0', '0.0'],\n",
       "       ['0.0', '0.0', '0.0', '0.0'],\n",
       "       ...,\n",
       "       ['0.0', '0.0', '0.0', '0.0625'],\n",
       "       ['0.0', '0.0', '0.0', '0.0'],\n",
       "       ['0.25', '0.25', '0.25', '0.25']], dtype='<U30')"
      ]
     },
     "execution_count": 289,
     "metadata": {},
     "output_type": "execute_result"
    }
   ],
   "source": [
    "outra = np.array(resultados_outra[:,col_metrica:col_metrica][:].copy())\n",
    "outra"
   ]
  },
  {
   "cell_type": "code",
   "execution_count": 290,
   "metadata": {
    "ExecuteTime": {
     "end_time": "2019-02-15T05:53:16.901854Z",
     "start_time": "2019-02-15T05:53:16.587853Z"
    }
   },
   "outputs": [
    {
     "name": "stdout",
     "output_type": "stream",
     "text": [
      "Total de Recomendações: 11930.0000\n",
      "Média: 0.0958\n",
      "Mediana: 0.0000\n",
      "Variância: 0.0464\n",
      "Desvio Padrão: 0.2153\n",
      "Menor Valor: 0.0000\n",
      "Maior Valor: 1.0000\n"
     ]
    }
   ],
   "source": [
    "dist2 = outra[1:,0:4].copy()\n",
    "dist2 = np.core.defchararray.replace(dist2,',','.')\n",
    "dist2 = np.core.defchararray.replace(dist2,'NaN','0.000')\n",
    "dist2 = dist2.astype(float)\n",
    "\n",
    "print('Total de Recomendações: {:.4f}'.format(len(dist2[:,coluna])))\n",
    "print('Média: {:.4f}'.format(np.mean(dist2[:,coluna])))\n",
    "print('Mediana: {:.4f}'.format(np.median(dist2[:,coluna])))\n",
    "print('Variância: {:.4f}'.format(np.var(dist2[:,coluna])))\n",
    "print('Desvio Padrão: {:.4f}'.format(np.std(dist2[:,coluna])))\n",
    "print('Menor Valor: {:.4f}'.format(np.min(dist2[:,coluna])))\n",
    "print('Maior Valor: {:.4f}'.format(np.max(dist2[:,coluna])))"
   ]
  },
  {
   "cell_type": "markdown",
   "metadata": {},
   "source": [
    "Teste de Kolmogorov para comparar as duas distribuições com uma distribuição normal (se o valor de \"pvalue\" é menor que 0.05 significa que existe diferença estatística entre as distribuições):"
   ]
  },
  {
   "cell_type": "code",
   "execution_count": 292,
   "metadata": {
    "ExecuteTime": {
     "end_time": "2019-02-15T05:53:16.929101Z",
     "start_time": "2019-02-15T05:53:16.918519Z"
    }
   },
   "outputs": [
    {
     "name": "stdout",
     "output_type": "stream",
     "text": [
      "KstestResult(statistic=0.5, pvalue=0.0)\n",
      "KstestResult(statistic=0.5, pvalue=0.0)\n"
     ]
    }
   ],
   "source": [
    "print(stats.kstest(dist1[:,coluna], 'norm'))\n",
    "print(stats.kstest(dist2[:,coluna], 'norm'))"
   ]
  },
  {
   "cell_type": "markdown",
   "metadata": {},
   "source": [
    "Teste de Kolmogorov para comparar as duas distribuições entre si:"
   ]
  },
  {
   "cell_type": "code",
   "execution_count": 293,
   "metadata": {
    "ExecuteTime": {
     "end_time": "2019-02-15T05:53:17.194136Z",
     "start_time": "2019-02-15T05:53:17.184380Z"
    },
    "scrolled": true
   },
   "outputs": [
    {
     "name": "stdout",
     "output_type": "stream",
     "text": [
      "Ks_2sampResult(statistic=0.005448449287510537, pvalue=0.994271536579202)\n"
     ]
    }
   ],
   "source": [
    "print(stats.ks_2samp(dist1[:,coluna], dist2[:,coluna]))"
   ]
  },
  {
   "cell_type": "markdown",
   "metadata": {},
   "source": [
    "Teste de Wilcoxon para comparar as duas distribuições entre si (se o valor de \"pvalue\" é menor que 0.05 significa que há diferença estatística entre as distribuições):"
   ]
  },
  {
   "cell_type": "code",
   "execution_count": 294,
   "metadata": {
    "ExecuteTime": {
     "end_time": "2019-02-15T05:53:17.558574Z",
     "start_time": "2019-02-15T05:53:17.552479Z"
    }
   },
   "outputs": [
    {
     "name": "stdout",
     "output_type": "stream",
     "text": [
      "WilcoxonResult(statistic=1332563.5, pvalue=0.8357499789857377)\n"
     ]
    }
   ],
   "source": [
    "print(stats.wilcoxon(dist1[:,coluna], dist2[:,coluna]))"
   ]
  },
  {
   "cell_type": "code",
   "execution_count": null,
   "metadata": {
    "collapsed": true
   },
   "outputs": [],
   "source": []
  },
  {
   "cell_type": "code",
   "execution_count": null,
   "metadata": {
    "collapsed": true
   },
   "outputs": [],
   "source": []
  },
  {
   "cell_type": "code",
   "execution_count": null,
   "metadata": {
    "collapsed": true
   },
   "outputs": [],
   "source": []
  },
  {
   "cell_type": "code",
   "execution_count": null,
   "metadata": {
    "collapsed": true
   },
   "outputs": [],
   "source": []
  },
  {
   "cell_type": "code",
   "execution_count": null,
   "metadata": {
    "collapsed": true
   },
   "outputs": [],
   "source": []
  },
  {
   "cell_type": "code",
   "execution_count": null,
   "metadata": {
    "collapsed": true
   },
   "outputs": [],
   "source": []
  },
  {
   "cell_type": "code",
   "execution_count": null,
   "metadata": {
    "collapsed": true
   },
   "outputs": [],
   "source": []
  },
  {
   "cell_type": "code",
   "execution_count": null,
   "metadata": {
    "collapsed": true
   },
   "outputs": [],
   "source": []
  },
  {
   "cell_type": "code",
   "execution_count": null,
   "metadata": {
    "collapsed": true
   },
   "outputs": [],
   "source": []
  },
  {
   "cell_type": "code",
   "execution_count": null,
   "metadata": {
    "collapsed": true
   },
   "outputs": [],
   "source": []
  },
  {
   "cell_type": "code",
   "execution_count": null,
   "metadata": {
    "collapsed": true
   },
   "outputs": [],
   "source": []
  },
  {
   "cell_type": "code",
   "execution_count": null,
   "metadata": {
    "collapsed": true
   },
   "outputs": [],
   "source": []
  },
  {
   "cell_type": "markdown",
   "metadata": {
    "collapsed": true
   },
   "source": [
    "## "
   ]
  },
  {
   "cell_type": "code",
   "execution_count": null,
   "metadata": {
    "collapsed": true
   },
   "outputs": [],
   "source": []
  },
  {
   "cell_type": "code",
   "execution_count": null,
   "metadata": {
    "collapsed": true
   },
   "outputs": [],
   "source": []
  },
  {
   "cell_type": "code",
   "execution_count": null,
   "metadata": {
    "collapsed": true
   },
   "outputs": [],
   "source": []
  },
  {
   "cell_type": "code",
   "execution_count": null,
   "metadata": {
    "collapsed": true
   },
   "outputs": [],
   "source": []
  },
  {
   "cell_type": "code",
   "execution_count": null,
   "metadata": {
    "collapsed": true
   },
   "outputs": [],
   "source": []
  }
 ],
 "metadata": {
  "kernelspec": {
   "display_name": "Python 3",
   "language": "python",
   "name": "python3"
  },
  "language_info": {
   "codemirror_mode": {
    "name": "ipython",
    "version": 3
   },
   "file_extension": ".py",
   "mimetype": "text/x-python",
   "name": "python",
   "nbconvert_exporter": "python",
   "pygments_lexer": "ipython3",
   "version": "3.6.5"
  },
  "toc": {
   "base_numbering": 1,
   "nav_menu": {},
   "number_sections": true,
   "sideBar": true,
   "skip_h1_title": false,
   "title_cell": "Table of Contents",
   "title_sidebar": "Contents",
   "toc_cell": false,
   "toc_position": {},
   "toc_section_display": true,
   "toc_window_display": false
  },
  "varInspector": {
   "cols": {
    "lenName": 16,
    "lenType": 16,
    "lenVar": 40
   },
   "kernels_config": {
    "python": {
     "delete_cmd_postfix": "",
     "delete_cmd_prefix": "del ",
     "library": "var_list.py",
     "varRefreshCmd": "print(var_dic_list())"
    },
    "r": {
     "delete_cmd_postfix": ") ",
     "delete_cmd_prefix": "rm(",
     "library": "var_list.r",
     "varRefreshCmd": "cat(var_dic_list()) "
    }
   },
   "types_to_exclude": [
    "module",
    "function",
    "builtin_function_or_method",
    "instance",
    "_Feature"
   ],
   "window_display": false
  }
 },
 "nbformat": 4,
 "nbformat_minor": 2
}
