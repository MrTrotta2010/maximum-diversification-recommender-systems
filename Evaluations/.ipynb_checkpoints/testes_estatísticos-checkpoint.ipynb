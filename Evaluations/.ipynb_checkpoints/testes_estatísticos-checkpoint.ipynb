{
 "cells": [
  {
   "cell_type": "code",
   "execution_count": 1,
   "metadata": {
    "ExecuteTime": {
     "end_time": "2019-07-05T16:14:12.284172Z",
     "start_time": "2019-07-05T16:14:12.101738Z"
    }
   },
   "outputs": [],
   "source": [
    "import numpy as np\n",
    "from scipy import stats"
   ]
  },
  {
   "cell_type": "markdown",
   "metadata": {},
   "source": [
    "Definir qual é a coluna inicial de avaliação do arquivo de distribuições:"
   ]
  },
  {
   "cell_type": "code",
   "execution_count": 2,
   "metadata": {
    "ExecuteTime": {
     "end_time": "2019-07-05T16:14:12.288236Z",
     "start_time": "2019-07-05T16:14:12.286140Z"
    }
   },
   "outputs": [],
   "source": [
    "col_metrica = 2"
   ]
  },
  {
   "cell_type": "markdown",
   "metadata": {},
   "source": [
    "Definir qual é a coluna para fazer o teste estatístico: @5 = 0; @10 = 1; @20 = 3"
   ]
  },
  {
   "cell_type": "code",
   "execution_count": 3,
   "metadata": {
    "ExecuteTime": {
     "end_time": "2019-07-05T16:14:12.398285Z",
     "start_time": "2019-07-05T16:14:12.290013Z"
    }
   },
   "outputs": [],
   "source": [
    "coluna = 0"
   ]
  },
  {
   "cell_type": "markdown",
   "metadata": {},
   "source": [
    "Carregar as informações de distribuição do PSO"
   ]
  },
  {
   "cell_type": "code",
   "execution_count": 4,
   "metadata": {
    "ExecuteTime": {
     "end_time": "2019-07-05T16:14:12.507771Z",
     "start_time": "2019-07-05T16:14:12.401426Z"
    }
   },
   "outputs": [],
   "source": [
    "resultados_pso = []\n",
    "dados_pso = open(\"Comparações/ML-1M/PSO/eval.txt\",\"r\")\n",
    "for linha in dados_pso:\n",
    "    aux = linha.split()\n",
    "    try:\n",
    "        aux = [str(float(x)*100) for x in aux]\n",
    "    except:\n",
    "        pass\n",
    "    resultados_pso.append(aux)\n",
    "dados_pso.close()\n",
    "resultados_pso = np.array(resultados_pso,dtype='<U30')"
   ]
  },
  {
   "cell_type": "code",
   "execution_count": 5,
   "metadata": {
    "ExecuteTime": {
     "end_time": "2019-07-05T16:14:12.589960Z",
     "start_time": "2019-07-05T16:14:12.509488Z"
    },
    "scrolled": false
   },
   "outputs": [
    {
     "data": {
      "text/plain": [
       "array([['Acc-Rel'],\n",
       "       ['50.0'],\n",
       "       ['30.0'],\n",
       "       ..., \n",
       "       ['10.0'],\n",
       "       ['10.0'],\n",
       "       ['10.0']],\n",
       "      dtype='<U30')"
      ]
     },
     "execution_count": 5,
     "metadata": {},
     "output_type": "execute_result"
    }
   ],
   "source": [
    "pso = np.array(resultados_pso[:,col_metrica:col_metrica+1][:].copy())\n",
    "pso"
   ]
  },
  {
   "cell_type": "code",
   "execution_count": 6,
   "metadata": {
    "ExecuteTime": {
     "end_time": "2019-07-05T16:14:12.740529Z",
     "start_time": "2019-07-05T16:14:12.592048Z"
    }
   },
   "outputs": [
    {
     "ename": "NameError",
     "evalue": "name 'Float64' is not defined",
     "output_type": "error",
     "traceback": [
      "\u001b[0;31m---------------------------------------------------------------------------\u001b[0m",
      "\u001b[0;31mNameError\u001b[0m                                 Traceback (most recent call last)",
      "\u001b[0;32m<ipython-input-6-acd38a7b6ae0>\u001b[0m in \u001b[0;36m<module>\u001b[0;34m()\u001b[0m\n\u001b[1;32m      2\u001b[0m \u001b[0mdist1\u001b[0m \u001b[0;34m=\u001b[0m \u001b[0mnp\u001b[0m\u001b[0;34m.\u001b[0m\u001b[0mcore\u001b[0m\u001b[0;34m.\u001b[0m\u001b[0mdefchararray\u001b[0m\u001b[0;34m.\u001b[0m\u001b[0mreplace\u001b[0m\u001b[0;34m(\u001b[0m\u001b[0mdist1\u001b[0m\u001b[0;34m,\u001b[0m\u001b[0;34m','\u001b[0m\u001b[0;34m,\u001b[0m\u001b[0;34m'.'\u001b[0m\u001b[0;34m)\u001b[0m\u001b[0;34m\u001b[0m\u001b[0m\n\u001b[1;32m      3\u001b[0m \u001b[0mdist1\u001b[0m \u001b[0;34m=\u001b[0m \u001b[0mnp\u001b[0m\u001b[0;34m.\u001b[0m\u001b[0mcore\u001b[0m\u001b[0;34m.\u001b[0m\u001b[0mdefchararray\u001b[0m\u001b[0;34m.\u001b[0m\u001b[0mreplace\u001b[0m\u001b[0;34m(\u001b[0m\u001b[0mdist1\u001b[0m\u001b[0;34m,\u001b[0m\u001b[0;34m'NaN'\u001b[0m\u001b[0;34m,\u001b[0m\u001b[0;34m'0.000'\u001b[0m\u001b[0;34m)\u001b[0m\u001b[0;34m\u001b[0m\u001b[0m\n\u001b[0;32m----> 4\u001b[0;31m \u001b[0mdist1\u001b[0m \u001b[0;34m=\u001b[0m \u001b[0mdist1\u001b[0m\u001b[0;34m.\u001b[0m\u001b[0mastype\u001b[0m\u001b[0;34m(\u001b[0m\u001b[0mFloat64\u001b[0m\u001b[0;34m)\u001b[0m\u001b[0;34m\u001b[0m\u001b[0m\n\u001b[0m\u001b[1;32m      5\u001b[0m \u001b[0;34m\u001b[0m\u001b[0m\n\u001b[1;32m      6\u001b[0m \u001b[0mprint\u001b[0m\u001b[0;34m(\u001b[0m\u001b[0;34m'Total de Recomendações: {:.4f}'\u001b[0m\u001b[0;34m.\u001b[0m\u001b[0mformat\u001b[0m\u001b[0;34m(\u001b[0m\u001b[0mlen\u001b[0m\u001b[0;34m(\u001b[0m\u001b[0mdist1\u001b[0m\u001b[0;34m[\u001b[0m\u001b[0;34m:\u001b[0m\u001b[0;34m,\u001b[0m\u001b[0mcoluna\u001b[0m\u001b[0;34m]\u001b[0m\u001b[0;34m)\u001b[0m\u001b[0;34m)\u001b[0m\u001b[0;34m)\u001b[0m\u001b[0;34m\u001b[0m\u001b[0m\n",
      "\u001b[0;31mNameError\u001b[0m: name 'Float64' is not defined"
     ]
    }
   ],
   "source": [
    "dist1 = pso[1:].copy()\n",
    "dist1 = np.core.defchararray.replace(dist1,',','.')\n",
    "dist1 = np.core.defchararray.replace(dist1,'NaN','0.000')\n",
    "dist1 = dist1.astype(np.Float64)\n",
    "\n",
    "print('Total de Recomendações: {:.4f}'.format(len(dist1[:,coluna])))\n",
    "print('Média: {:.4f}'.format(np.mean(dist1[:,coluna])))\n",
    "print('Mediana: {:.4f}'.format(np.median(dist1[:,coluna])))\n",
    "print('Variância: {:.4f}'.format(np.var(dist1[:,coluna])))\n",
    "print('Desvio Padrão: {:.4f}'.format(np.std(dist1[:,coluna])))\n",
    "print('Menor Valor: {:.4f}'.format(np.min(dist1[:,coluna])))\n",
    "print('Maior Valor: {:.4f}'.format(np.max(dist1[:,coluna])))"
   ]
  },
  {
   "cell_type": "markdown",
   "metadata": {},
   "source": [
    "Carregar as informações de distribuição do ITS"
   ]
  },
  {
   "cell_type": "code",
   "execution_count": null,
   "metadata": {
    "ExecuteTime": {
     "end_time": "2019-07-05T16:14:12.741215Z",
     "start_time": "2019-07-05T16:14:12.125Z"
    }
   },
   "outputs": [],
   "source": [
    "resultados_its = []\n",
    "dados_its = open(\"Comparações/ML-1M/ITS/eval.txt\",\"r\")\n",
    "for linha in dados_its:\n",
    "    aux = linha.split()\n",
    "    try:\n",
    "        aux = [str(float(x)*100) for x in aux]\n",
    "    except:\n",
    "        pass\n",
    "    resultados_its.append(aux)\n",
    "dados_its.close()\n",
    "resultados_its = np.array(resultados_its,dtype='<U30')"
   ]
  },
  {
   "cell_type": "code",
   "execution_count": null,
   "metadata": {
    "ExecuteTime": {
     "end_time": "2019-07-05T16:14:12.742103Z",
     "start_time": "2019-07-05T16:14:12.129Z"
    },
    "scrolled": true
   },
   "outputs": [],
   "source": [
    "its = np.array(resultados_its[:,col_metrica:col_metrica+1][:].copy())\n",
    "its"
   ]
  },
  {
   "cell_type": "code",
   "execution_count": null,
   "metadata": {
    "ExecuteTime": {
     "end_time": "2019-07-05T16:14:12.742877Z",
     "start_time": "2019-07-05T16:14:12.132Z"
    }
   },
   "outputs": [],
   "source": [
    "dist2 = its[1:].copy()\n",
    "dist2 = np.core.defchararray.replace(dist2,',','.')\n",
    "dist2 = np.core.defchararray.replace(dist2,'NaN','0.000')\n",
    "dist2 = dist2.astype(Float64)\n",
    "\n",
    "print('Total de Recomendações: {:.4f}'.format(len(dist2[:,coluna])))\n",
    "print('Média: {:.4f}'.format(np.mean(dist2[:,coluna])))\n",
    "print('Mediana: {:.4f}'.format(np.median(dist2[:,coluna])))\n",
    "print('Variância: {:.4f}'.format(np.var(dist2[:,coluna])))\n",
    "print('Desvio Padrão: {:.4f}'.format(np.std(dist2[:,coluna])))\n",
    "print('Menor Valor: {:.4f}'.format(np.min(dist2[:,coluna])))\n",
    "print('Maior Valor: {:.4f}'.format(np.max(dist2[:,coluna])))"
   ]
  },
  {
   "cell_type": "markdown",
   "metadata": {},
   "source": [
    "Carregar as informações de distribuição do Guloso"
   ]
  },
  {
   "cell_type": "code",
   "execution_count": null,
   "metadata": {
    "ExecuteTime": {
     "end_time": "2019-07-05T16:14:12.743692Z",
     "start_time": "2019-07-05T16:14:12.134Z"
    }
   },
   "outputs": [],
   "source": [
    "resultados_Guloso = []\n",
    "dados_Guloso = open(\"Comparações/ML-1M/Guloso/eval.txt\",\"r\")\n",
    "for linha in dados_Guloso:\n",
    "    aux = linha.split()\n",
    "    try:\n",
    "        aux = [str(float(x)*100) for x in aux]\n",
    "    except:\n",
    "        pass\n",
    "    resultados_Guloso.append(aux)\n",
    "dados_Guloso.close()\n",
    "resultados_Guloso = np.array(resultados_Guloso,dtype='<U30')"
   ]
  },
  {
   "cell_type": "code",
   "execution_count": null,
   "metadata": {
    "ExecuteTime": {
     "end_time": "2019-07-05T16:14:12.744406Z",
     "start_time": "2019-07-05T16:14:12.139Z"
    },
    "scrolled": true
   },
   "outputs": [],
   "source": [
    "Guloso = np.array(resultados_Guloso[:,col_metrica:col_metrica+1][:].copy())\n",
    "Guloso"
   ]
  },
  {
   "cell_type": "code",
   "execution_count": null,
   "metadata": {
    "ExecuteTime": {
     "end_time": "2019-07-05T16:14:12.745159Z",
     "start_time": "2019-07-05T16:14:12.143Z"
    }
   },
   "outputs": [],
   "source": [
    "dist3 = its[1:].copy()\n",
    "dist3 = np.core.defchararray.replace(dist3,',','.')\n",
    "dist3 = np.core.defchararray.replace(dist3,'NaN','0.000')\n",
    "dist3 = dist3.astype(Float64)\n",
    "\n",
    "print('Total de Recomendações: {:.4f}'.format(len(dist3[:,coluna])))\n",
    "print('Média: {:.4f}'.format(np.mean(dist3[:,coluna])))\n",
    "print('Mediana: {:.4f}'.format(np.median(dist3[:,coluna])))\n",
    "print('Variância: {:.4f}'.format(np.var(dist3[:,coluna])))\n",
    "print('Desvio Padrão: {:.4f}'.format(np.std(dist3[:,coluna])))\n",
    "print('Menor Valor: {:.4f}'.format(np.min(dist3[:,coluna])))\n",
    "print('Maior Valor: {:.4f}'.format(np.max(dist3[:,coluna])))"
   ]
  },
  {
   "cell_type": "markdown",
   "metadata": {},
   "source": [
    "Carregar as informações da distribuição do recomendação base"
   ]
  },
  {
   "cell_type": "code",
   "execution_count": null,
   "metadata": {
    "ExecuteTime": {
     "end_time": "2019-07-05T16:14:12.746053Z",
     "start_time": "2019-07-05T16:14:12.146Z"
    }
   },
   "outputs": [],
   "source": [
    "resultados_base = []\n",
    "dados_base = open(\"Comparações/ML-1M/userKNN/eval.txt\",\"r\")\n",
    "for linha in dados_base:\n",
    "    aux = linha.split()\n",
    "    try:\n",
    "        aux = [str(float(x)*100) for x in aux]\n",
    "    except:\n",
    "        pass\n",
    "    resultados_base.append(aux)\n",
    "dados_base.close()\n",
    "resultados_base = np.array(resultados_base,dtype='<U30')"
   ]
  },
  {
   "cell_type": "code",
   "execution_count": null,
   "metadata": {
    "ExecuteTime": {
     "end_time": "2019-07-05T16:14:12.746778Z",
     "start_time": "2019-07-05T16:14:12.148Z"
    }
   },
   "outputs": [],
   "source": [
    "base = np.array(resultados_base[:,col_metrica:col_metrica+1][:].copy())\n",
    "base"
   ]
  },
  {
   "cell_type": "code",
   "execution_count": null,
   "metadata": {
    "ExecuteTime": {
     "end_time": "2019-07-05T16:14:12.747520Z",
     "start_time": "2019-07-05T16:14:12.150Z"
    }
   },
   "outputs": [],
   "source": [
    "dist4 = base[1:].copy()\n",
    "dist4 = np.core.defchararray.replace(dist4,',','.')\n",
    "dist4 = np.core.defchararray.replace(dist4,'NaN','0.000')\n",
    "dist4 = dist4.astype(Float64)\n",
    "\n",
    "print('Total de Recomendações: {:.4f}'.format(len(dist4[:,coluna])))\n",
    "print('Média: {:.4f}'.format(np.mean(dist4[:,coluna])))\n",
    "print('Mediana: {:.4f}'.format(np.median(dist4[:,coluna])))\n",
    "print('Variância: {:.4f}'.format(np.var(dist4[:,coluna])))\n",
    "print('Desvio Padrão: {:.4f}'.format(np.std(dist4[:,coluna])))\n",
    "print('Menor Valor: {:.4f}'.format(np.min(dist4[:,coluna])))\n",
    "print('Maior Valor: {:.4f}'.format(np.max(dist4[:,coluna])))"
   ]
  },
  {
   "cell_type": "markdown",
   "metadata": {},
   "source": [
    "Teste de Kolmogorov para comparar as duas distribuições com uma distribuição normal (se o valor de \"pvalue\" é menor que 0.05 significa que existe diferença estatística entre as distribuições):"
   ]
  },
  {
   "cell_type": "code",
   "execution_count": null,
   "metadata": {
    "ExecuteTime": {
     "end_time": "2019-07-05T16:14:12.748374Z",
     "start_time": "2019-07-05T16:14:12.153Z"
    }
   },
   "outputs": [],
   "source": [
    "print(stats.kstest(dist1[:,coluna], 'norm')) # PSO\n",
    "print(stats.kstest(dist2[:,coluna], 'norm')) # ITS\n",
    "print(stats.kstest(dist3[:,coluna], 'norm')) # Guloso\n",
    "print(stats.kstest(dist4[:,coluna], 'norm')) # Base"
   ]
  },
  {
   "cell_type": "markdown",
   "metadata": {},
   "source": [
    "Teste de Kolmogorov para comparar as duas distribuições entre si:"
   ]
  },
  {
   "cell_type": "code",
   "execution_count": null,
   "metadata": {
    "ExecuteTime": {
     "end_time": "2019-07-05T16:14:12.749215Z",
     "start_time": "2019-07-05T16:14:12.155Z"
    },
    "scrolled": true
   },
   "outputs": [],
   "source": [
    "print(stats.ks_2samp(dist1[:,coluna], dist2[:,coluna]))"
   ]
  },
  {
   "cell_type": "markdown",
   "metadata": {},
   "source": [
    "Teste de Wilcoxon para comparar as duas distribuições entre si (se o valor de \"pvalue\" é menor que 0.05 significa que há diferença estatística entre as distribuições):"
   ]
  },
  {
   "cell_type": "code",
   "execution_count": null,
   "metadata": {
    "ExecuteTime": {
     "end_time": "2019-07-05T16:14:12.749961Z",
     "start_time": "2019-07-05T16:14:12.157Z"
    }
   },
   "outputs": [],
   "source": [
    "print('Base-Guloso: ', stats.wilcoxon(dist4[:,coluna], dist3[:,coluna]))"
   ]
  },
  {
   "cell_type": "code",
   "execution_count": null,
   "metadata": {
    "ExecuteTime": {
     "end_time": "2019-07-05T16:14:12.750650Z",
     "start_time": "2019-07-05T16:14:12.161Z"
    }
   },
   "outputs": [],
   "source": [
    "print('Base-Tabu: ', stats.wilcoxon(dist4[:,coluna], dist2[:,coluna]))"
   ]
  },
  {
   "cell_type": "code",
   "execution_count": null,
   "metadata": {
    "ExecuteTime": {
     "end_time": "2019-07-05T16:14:12.751373Z",
     "start_time": "2019-07-05T16:14:12.164Z"
    }
   },
   "outputs": [],
   "source": [
    "print('Base-PSO: ', stats.wilcoxon(dist4[:,coluna], dist1[:,coluna]))"
   ]
  },
  {
   "cell_type": "code",
   "execution_count": null,
   "metadata": {
    "ExecuteTime": {
     "end_time": "2019-07-05T16:14:12.752084Z",
     "start_time": "2019-07-05T16:14:12.167Z"
    }
   },
   "outputs": [],
   "source": [
    "print('Guloso-Tabu: ', stats.wilcoxon(dist3[:,coluna], dist2[:,coluna]))"
   ]
  },
  {
   "cell_type": "code",
   "execution_count": null,
   "metadata": {
    "ExecuteTime": {
     "end_time": "2019-07-05T16:14:12.752909Z",
     "start_time": "2019-07-05T16:14:12.170Z"
    }
   },
   "outputs": [],
   "source": [
    "print('Guloso-PSO: ', stats.wilcoxon(dist3[:,coluna], dist1[:,coluna]))"
   ]
  },
  {
   "cell_type": "code",
   "execution_count": null,
   "metadata": {
    "ExecuteTime": {
     "end_time": "2019-07-05T16:14:12.753610Z",
     "start_time": "2019-07-05T16:14:12.172Z"
    }
   },
   "outputs": [],
   "source": [
    "print('Tabu-PSO: ', stats.wilcoxon(dist2[:,coluna], dist1[:,coluna]))"
   ]
  },
  {
   "cell_type": "code",
   "execution_count": null,
   "metadata": {},
   "outputs": [],
   "source": []
  }
 ],
 "metadata": {
  "kernelspec": {
   "display_name": "Python 3",
   "language": "python",
   "name": "python3"
  },
  "language_info": {
   "codemirror_mode": {
    "name": "ipython",
    "version": 3
   },
   "file_extension": ".py",
   "mimetype": "text/x-python",
   "name": "python",
   "nbconvert_exporter": "python",
   "pygments_lexer": "ipython3",
   "version": "3.6.5"
  },
  "toc": {
   "base_numbering": 1,
   "nav_menu": {},
   "number_sections": true,
   "sideBar": true,
   "skip_h1_title": false,
   "title_cell": "Table of Contents",
   "title_sidebar": "Contents",
   "toc_cell": false,
   "toc_position": {},
   "toc_section_display": true,
   "toc_window_display": false
  },
  "varInspector": {
   "cols": {
    "lenName": 16,
    "lenType": 16,
    "lenVar": 40
   },
   "kernels_config": {
    "python": {
     "delete_cmd_postfix": "",
     "delete_cmd_prefix": "del ",
     "library": "var_list.py",
     "varRefreshCmd": "print(var_dic_list())"
    },
    "r": {
     "delete_cmd_postfix": ") ",
     "delete_cmd_prefix": "rm(",
     "library": "var_list.r",
     "varRefreshCmd": "cat(var_dic_list()) "
    }
   },
   "types_to_exclude": [
    "module",
    "function",
    "builtin_function_or_method",
    "instance",
    "_Feature"
   ],
   "window_display": false
  }
 },
 "nbformat": 4,
 "nbformat_minor": 2
}
