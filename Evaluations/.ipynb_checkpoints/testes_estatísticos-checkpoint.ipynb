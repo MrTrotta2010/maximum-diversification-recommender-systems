{
 "cells": [
  {
   "cell_type": "code",
   "execution_count": 140,
   "metadata": {
    "ExecuteTime": {
     "end_time": "2019-07-11T19:45:17.604883Z",
     "start_time": "2019-07-11T19:45:17.600986Z"
    }
   },
   "outputs": [],
   "source": [
    "import numpy as np\n",
    "from scipy import stats"
   ]
  },
  {
   "cell_type": "markdown",
   "metadata": {},
   "source": [
    "Definir qual é a coluna inicial de avaliação do arquivo de distribuições:"
   ]
  },
  {
   "cell_type": "code",
   "execution_count": 141,
   "metadata": {
    "ExecuteTime": {
     "end_time": "2019-07-11T19:45:17.802059Z",
     "start_time": "2019-07-11T19:45:17.737896Z"
    }
   },
   "outputs": [],
   "source": [
    "col_metrica = 4"
   ]
  },
  {
   "cell_type": "markdown",
   "metadata": {},
   "source": [
    "Definir qual é a coluna para fazer o teste estatístico: @5 = 0; @10 = 1; @20 = 3"
   ]
  },
  {
   "cell_type": "code",
   "execution_count": 142,
   "metadata": {
    "ExecuteTime": {
     "end_time": "2019-07-11T19:45:17.868841Z",
     "start_time": "2019-07-11T19:45:17.803919Z"
    }
   },
   "outputs": [],
   "source": [
    "coluna = 0"
   ]
  },
  {
   "cell_type": "markdown",
   "metadata": {},
   "source": [
    "Carregar as informações de distribuição do PSO"
   ]
  },
  {
   "cell_type": "code",
   "execution_count": 143,
   "metadata": {
    "ExecuteTime": {
     "end_time": "2019-07-11T19:45:17.971008Z",
     "start_time": "2019-07-11T19:45:17.871366Z"
    }
   },
   "outputs": [],
   "source": [
    "resultados_pso = []\n",
    "dados_pso = open(\"Comparações/ML-1M/PSO/eval.txt\",\"r\")\n",
    "for linha in dados_pso:\n",
    "    aux = linha.split()\n",
    "    try:\n",
    "        aux = [str(float(x)) for x in aux]\n",
    "    except:\n",
    "        pass\n",
    "    resultados_pso.append(aux)\n",
    "dados_pso.close()\n",
    "resultados_pso = np.array(resultados_pso,dtype='<U30')"
   ]
  },
  {
   "cell_type": "code",
   "execution_count": 144,
   "metadata": {
    "ExecuteTime": {
     "end_time": "2019-07-11T19:45:18.048003Z",
     "start_time": "2019-07-11T19:45:17.973379Z"
    },
    "scrolled": false
   },
   "outputs": [
    {
     "data": {
      "text/plain": [
       "array([['Div-Rel'],\n",
       "       ['0.777778'],\n",
       "       ['0.833333'],\n",
       "       ...,\n",
       "       ['0.722222'],\n",
       "       ['0.722222'],\n",
       "       ['0.888889']], dtype='<U30')"
      ]
     },
     "execution_count": 144,
     "metadata": {},
     "output_type": "execute_result"
    }
   ],
   "source": [
    "pso = np.array(resultados_pso[:,col_metrica:col_metrica+1][:].copy())\n",
    "pso"
   ]
  },
  {
   "cell_type": "code",
   "execution_count": 145,
   "metadata": {
    "ExecuteTime": {
     "end_time": "2019-07-11T19:45:18.135836Z",
     "start_time": "2019-07-11T19:45:18.051150Z"
    }
   },
   "outputs": [
    {
     "name": "stdout",
     "output_type": "stream",
     "text": [
      "Total de Recomendações: 6040.0000\n",
      "Média: 0.6619\n",
      "Mediana: 0.6667\n",
      "Variância: 0.0289\n",
      "Desvio Padrão: 0.1700\n",
      "Menor Valor: 0.0556\n",
      "Maior Valor: 1.0000\n"
     ]
    }
   ],
   "source": [
    "dist1 = pso[1:].copy()\n",
    "dist1 = np.core.defchararray.replace(dist1,',','.')\n",
    "dist1 = np.core.defchararray.replace(dist1,'NaN','0.000')\n",
    "dist1 = dist1.astype(float)\n",
    "\n",
    "print('Total de Recomendações: {:.4f}'.format(len(dist1[:,coluna])))\n",
    "print('Média: {:.4f}'.format(np.mean(dist1[:,coluna])))\n",
    "print('Mediana: {:.4f}'.format(np.median(dist1[:,coluna])))\n",
    "print('Variância: {:.4f}'.format(np.var(dist1[:,coluna])))\n",
    "print('Desvio Padrão: {:.4f}'.format(np.std(dist1[:,coluna])))\n",
    "print('Menor Valor: {:.4f}'.format(np.min(dist1[:,coluna])))\n",
    "print('Maior Valor: {:.4f}'.format(np.max(dist1[:,coluna])))"
   ]
  },
  {
   "cell_type": "markdown",
   "metadata": {},
   "source": [
    "Carregar as informações de distribuição do ITS"
   ]
  },
  {
   "cell_type": "code",
   "execution_count": 146,
   "metadata": {
    "ExecuteTime": {
     "end_time": "2019-07-11T19:45:18.208400Z",
     "start_time": "2019-07-11T19:45:18.137499Z"
    }
   },
   "outputs": [],
   "source": [
    "resultados_its = []\n",
    "dados_its = open(\"Comparações/ML-1M/ITS/eval.txt\",\"r\")\n",
    "for linha in dados_its:\n",
    "    aux = linha.split()\n",
    "    try:\n",
    "        aux = [str(float(x)) for x in aux]\n",
    "    except:\n",
    "        pass\n",
    "    resultados_its.append(aux)\n",
    "dados_its.close()\n",
    "resultados_its = np.array(resultados_its,dtype='<U30')"
   ]
  },
  {
   "cell_type": "code",
   "execution_count": 147,
   "metadata": {
    "ExecuteTime": {
     "end_time": "2019-07-11T19:45:18.317955Z",
     "start_time": "2019-07-11T19:45:18.210058Z"
    },
    "scrolled": true
   },
   "outputs": [
    {
     "data": {
      "text/plain": [
       "array([['Div-Rel'],\n",
       "       ['0.833333'],\n",
       "       ['0.888889'],\n",
       "       ...,\n",
       "       ['0.722222'],\n",
       "       ['0.722222'],\n",
       "       ['0.888889']], dtype='<U30')"
      ]
     },
     "execution_count": 147,
     "metadata": {},
     "output_type": "execute_result"
    }
   ],
   "source": [
    "its = np.array(resultados_its[:,col_metrica:col_metrica+1][:].copy())\n",
    "its"
   ]
  },
  {
   "cell_type": "code",
   "execution_count": 148,
   "metadata": {
    "ExecuteTime": {
     "end_time": "2019-07-11T19:45:18.413575Z",
     "start_time": "2019-07-11T19:45:18.320791Z"
    }
   },
   "outputs": [
    {
     "name": "stdout",
     "output_type": "stream",
     "text": [
      "Total de Recomendações: 6040.0000\n",
      "Média: 0.6774\n",
      "Mediana: 0.6667\n",
      "Variância: 0.0312\n",
      "Desvio Padrão: 0.1768\n",
      "Menor Valor: 0.0556\n",
      "Maior Valor: 1.0000\n"
     ]
    }
   ],
   "source": [
    "dist2 = its[1:].copy()\n",
    "dist2 = np.core.defchararray.replace(dist2,',','.')\n",
    "dist2 = np.core.defchararray.replace(dist2,'NaN','0.000')\n",
    "dist2 = dist2.astype(float)\n",
    "\n",
    "print('Total de Recomendações: {:.4f}'.format(len(dist2[:,coluna])))\n",
    "print('Média: {:.4f}'.format(np.mean(dist2[:,coluna])))\n",
    "print('Mediana: {:.4f}'.format(np.median(dist2[:,coluna])))\n",
    "print('Variância: {:.4f}'.format(np.var(dist2[:,coluna])))\n",
    "print('Desvio Padrão: {:.4f}'.format(np.std(dist2[:,coluna])))\n",
    "print('Menor Valor: {:.4f}'.format(np.min(dist2[:,coluna])))\n",
    "print('Maior Valor: {:.4f}'.format(np.max(dist2[:,coluna])))"
   ]
  },
  {
   "cell_type": "markdown",
   "metadata": {},
   "source": [
    "Carregar as informações de distribuição do Guloso"
   ]
  },
  {
   "cell_type": "code",
   "execution_count": 149,
   "metadata": {
    "ExecuteTime": {
     "end_time": "2019-07-11T19:45:18.473543Z",
     "start_time": "2019-07-11T19:45:18.415257Z"
    }
   },
   "outputs": [],
   "source": [
    "resultados_Guloso = []\n",
    "dados_Guloso = open(\"Comparações/ML-1M/Guloso/eval.txt\",\"r\")\n",
    "for linha in dados_Guloso:\n",
    "    aux = linha.split()\n",
    "    try:\n",
    "        aux = [str(float(x)) for x in aux]\n",
    "    except:\n",
    "        pass\n",
    "    resultados_Guloso.append(aux)\n",
    "dados_Guloso.close()\n",
    "resultados_Guloso = np.array(resultados_Guloso,dtype='<U30')"
   ]
  },
  {
   "cell_type": "code",
   "execution_count": 150,
   "metadata": {
    "ExecuteTime": {
     "end_time": "2019-07-11T19:45:18.555149Z",
     "start_time": "2019-07-11T19:45:18.475271Z"
    },
    "scrolled": true
   },
   "outputs": [
    {
     "data": {
      "text/plain": [
       "array([['Div-Rel'],\n",
       "       ['0.833333'],\n",
       "       ['0.888889'],\n",
       "       ...,\n",
       "       ['0.722222'],\n",
       "       ['0.666667'],\n",
       "       ['0.888889']], dtype='<U30')"
      ]
     },
     "execution_count": 150,
     "metadata": {},
     "output_type": "execute_result"
    }
   ],
   "source": [
    "Guloso = np.array(resultados_Guloso[:,col_metrica:col_metrica+1][:].copy())\n",
    "Guloso"
   ]
  },
  {
   "cell_type": "code",
   "execution_count": 151,
   "metadata": {
    "ExecuteTime": {
     "end_time": "2019-07-11T19:45:18.631101Z",
     "start_time": "2019-07-11T19:45:18.556799Z"
    }
   },
   "outputs": [
    {
     "name": "stdout",
     "output_type": "stream",
     "text": [
      "Total de Recomendações: 6040.0000\n",
      "Média: 0.6740\n",
      "Mediana: 0.6667\n",
      "Variância: 0.0308\n",
      "Desvio Padrão: 0.1754\n",
      "Menor Valor: 0.0556\n",
      "Maior Valor: 1.0000\n"
     ]
    }
   ],
   "source": [
    "dist3 = Guloso[1:].copy()\n",
    "dist3 = np.core.defchararray.replace(dist3,',','.')\n",
    "dist3 = np.core.defchararray.replace(dist3,'NaN','0.000')\n",
    "dist3 = dist3.astype(float)\n",
    "\n",
    "print('Total de Recomendações: {:.4f}'.format(len(dist3[:,coluna])))\n",
    "print('Média: {:.4f}'.format(np.mean(dist3[:,coluna])))\n",
    "print('Mediana: {:.4f}'.format(np.median(dist3[:,coluna])))\n",
    "print('Variância: {:.4f}'.format(np.var(dist3[:,coluna])))\n",
    "print('Desvio Padrão: {:.4f}'.format(np.std(dist3[:,coluna])))\n",
    "print('Menor Valor: {:.4f}'.format(np.min(dist3[:,coluna])))\n",
    "print('Maior Valor: {:.4f}'.format(np.max(dist3[:,coluna])))"
   ]
  },
  {
   "cell_type": "markdown",
   "metadata": {},
   "source": [
    "Carregar as informações da distribuição do recomendação base"
   ]
  },
  {
   "cell_type": "code",
   "execution_count": 152,
   "metadata": {
    "ExecuteTime": {
     "end_time": "2019-07-11T19:45:18.708625Z",
     "start_time": "2019-07-11T19:45:18.633629Z"
    }
   },
   "outputs": [],
   "source": [
    "resultados_base = []\n",
    "dados_base = open(\"Comparações/ML-1M/userKNN/eval.txt\",\"r\")\n",
    "for linha in dados_base:\n",
    "    aux = linha.split()\n",
    "    try:\n",
    "        aux = [str(float(x)) for x in aux]\n",
    "    except:\n",
    "        pass\n",
    "    resultados_base.append(aux)\n",
    "dados_base.close()\n",
    "resultados_base = np.array(resultados_base,dtype='<U30')"
   ]
  },
  {
   "cell_type": "code",
   "execution_count": 153,
   "metadata": {
    "ExecuteTime": {
     "end_time": "2019-07-11T19:45:18.812139Z",
     "start_time": "2019-07-11T19:45:18.710741Z"
    },
    "scrolled": true
   },
   "outputs": [
    {
     "data": {
      "text/plain": [
       "array([['Div-Rel'],\n",
       "       ['0.611111'],\n",
       "       ['0.444444'],\n",
       "       ...,\n",
       "       ['0.333333'],\n",
       "       ['0.388889'],\n",
       "       ['0.611111']], dtype='<U30')"
      ]
     },
     "execution_count": 153,
     "metadata": {},
     "output_type": "execute_result"
    }
   ],
   "source": [
    "base = np.array(resultados_base[:,col_metrica:col_metrica+1][:].copy())\n",
    "base"
   ]
  },
  {
   "cell_type": "code",
   "execution_count": 154,
   "metadata": {
    "ExecuteTime": {
     "end_time": "2019-07-11T19:45:18.882364Z",
     "start_time": "2019-07-11T19:45:18.814468Z"
    }
   },
   "outputs": [
    {
     "name": "stdout",
     "output_type": "stream",
     "text": [
      "Total de Recomendações: 6040.0000\n",
      "Média: 0.4483\n",
      "Mediana: 0.4444\n",
      "Variância: 0.0146\n",
      "Desvio Padrão: 0.1207\n",
      "Menor Valor: 0.0556\n",
      "Maior Valor: 0.8889\n"
     ]
    }
   ],
   "source": [
    "dist4 = base[1:].copy()\n",
    "dist4 = np.core.defchararray.replace(dist4,',','.')\n",
    "dist4 = np.core.defchararray.replace(dist4,'NaN','0.000')\n",
    "dist4 = dist4.astype(float)\n",
    "\n",
    "print('Total de Recomendações: {:.4f}'.format(len(dist4[:,coluna])))\n",
    "print('Média: {:.4f}'.format(np.mean(dist4[:,coluna])))\n",
    "print('Mediana: {:.4f}'.format(np.median(dist4[:,coluna])))\n",
    "print('Variância: {:.4f}'.format(np.var(dist4[:,coluna])))\n",
    "print('Desvio Padrão: {:.4f}'.format(np.std(dist4[:,coluna])))\n",
    "print('Menor Valor: {:.4f}'.format(np.min(dist4[:,coluna])))\n",
    "print('Maior Valor: {:.4f}'.format(np.max(dist4[:,coluna])))"
   ]
  },
  {
   "cell_type": "markdown",
   "metadata": {},
   "source": [
    "Carregar as informações da distribuição do Guloso Naive"
   ]
  },
  {
   "cell_type": "code",
   "execution_count": 155,
   "metadata": {
    "ExecuteTime": {
     "end_time": "2019-07-11T19:45:18.708625Z",
     "start_time": "2019-07-11T19:45:18.633629Z"
    }
   },
   "outputs": [],
   "source": [
    "resultados_naive = []\n",
    "dados_naive = open(\"Comparações/ML-1M/GulosoNaive/eval.txt\",\"r\")\n",
    "for linha in dados_naive:\n",
    "    aux = linha.split()\n",
    "    try:\n",
    "        aux = [str(float(x)) for x in aux]\n",
    "    except:\n",
    "        pass\n",
    "    resultados_naive.append(aux)\n",
    "dados_naive.close()\n",
    "resultados_naive = np.array(resultados_naive,dtype='<U30')"
   ]
  },
  {
   "cell_type": "code",
   "execution_count": 156,
   "metadata": {
    "ExecuteTime": {
     "end_time": "2019-07-11T19:45:18.812139Z",
     "start_time": "2019-07-11T19:45:18.710741Z"
    },
    "scrolled": true
   },
   "outputs": [
    {
     "data": {
      "text/plain": [
       "array([['Div-Rel'],\n",
       "       ['0.666667'],\n",
       "       ['0.722222'],\n",
       "       ...,\n",
       "       ['0.611111'],\n",
       "       ['0.5'],\n",
       "       ['0.777778']], dtype='<U30')"
      ]
     },
     "execution_count": 156,
     "metadata": {},
     "output_type": "execute_result"
    }
   ],
   "source": [
    "naive = np.array(resultados_naive[:,col_metrica:col_metrica+1][:].copy())\n",
    "naive"
   ]
  },
  {
   "cell_type": "code",
   "execution_count": 157,
   "metadata": {
    "ExecuteTime": {
     "end_time": "2019-07-11T19:45:18.882364Z",
     "start_time": "2019-07-11T19:45:18.814468Z"
    }
   },
   "outputs": [
    {
     "name": "stdout",
     "output_type": "stream",
     "text": [
      "Total de Recomendações: 6040.0000\n",
      "Média: 0.5597\n",
      "Mediana: 0.5556\n",
      "Variância: 0.0199\n",
      "Desvio Padrão: 0.1412\n",
      "Menor Valor: 0.0556\n",
      "Maior Valor: 0.9444\n"
     ]
    }
   ],
   "source": [
    "dist5 = naive[1:].copy()\n",
    "dist5 = np.core.defchararray.replace(dist5,',','.')\n",
    "dist5 = np.core.defchararray.replace(dist5,'NaN','0.000')\n",
    "dist5 = dist5.astype(float)\n",
    "\n",
    "print('Total de Recomendações: {:.4f}'.format(len(dist5[:,coluna])))\n",
    "print('Média: {:.4f}'.format(np.mean(dist5[:,coluna])))\n",
    "print('Mediana: {:.4f}'.format(np.median(dist5[:,coluna])))\n",
    "print('Variância: {:.4f}'.format(np.var(dist5[:,coluna])))\n",
    "print('Desvio Padrão: {:.4f}'.format(np.std(dist5[:,coluna])))\n",
    "print('Menor Valor: {:.4f}'.format(np.min(dist5[:,coluna])))\n",
    "print('Maior Valor: {:.4f}'.format(np.max(dist5[:,coluna])))"
   ]
  },
  {
   "cell_type": "markdown",
   "metadata": {},
   "source": [
    "Teste de Kolmogorov para comparar as duas distribuições com uma distribuição normal (se o valor de \"pvalue\" é menor que 0.05 significa que existe diferença estatística entre as distribuições):"
   ]
  },
  {
   "cell_type": "code",
   "execution_count": 158,
   "metadata": {
    "ExecuteTime": {
     "end_time": "2019-07-11T19:45:18.943723Z",
     "start_time": "2019-07-11T19:45:18.884078Z"
    }
   },
   "outputs": [
    {
     "name": "stdout",
     "output_type": "stream",
     "text": [
      "KstestResult(statistic=0.6042340307125619, pvalue=0.0)\n",
      "KstestResult(statistic=0.6055585340238201, pvalue=0.0)\n",
      "KstestResult(statistic=0.6055585340238201, pvalue=0.0)\n",
      "KstestResult(statistic=0.5872231794015367, pvalue=0.0)\n",
      "KstestResult(statistic=0.5665718497433557, pvalue=0.0)\n"
     ]
    }
   ],
   "source": [
    "print(stats.kstest(dist1[:,coluna], 'norm')) # PSO\n",
    "print(stats.kstest(dist2[:,coluna], 'norm')) # ITS\n",
    "print(stats.kstest(dist3[:,coluna], 'norm')) # Guloso\n",
    "print(stats.kstest(dist5[:,coluna], 'norm')) # Guloso Naive\n",
    "print(stats.kstest(dist4[:,coluna], 'norm')) # Base"
   ]
  },
  {
   "cell_type": "markdown",
   "metadata": {},
   "source": [
    "Teste de Kolmogorov para comparar as duas distribuições entre si:"
   ]
  },
  {
   "cell_type": "code",
   "execution_count": 159,
   "metadata": {
    "ExecuteTime": {
     "end_time": "2019-07-11T19:45:19.013054Z",
     "start_time": "2019-07-11T19:45:18.945599Z"
    },
    "scrolled": true
   },
   "outputs": [
    {
     "name": "stdout",
     "output_type": "stream",
     "text": [
      "Ks_2sampResult(statistic=0.05231788079470199, pvalue=1.3133913600049925e-07)\n"
     ]
    }
   ],
   "source": [
    "print(stats.ks_2samp(dist1[:,coluna], dist2[:,coluna]))"
   ]
  },
  {
   "cell_type": "markdown",
   "metadata": {},
   "source": [
    "Teste de Wilcoxon para comparar as duas distribuições entre si (se o valor de \"pvalue\" é menor que 0.05 significa que há diferença estatística entre as distribuições):"
   ]
  },
  {
   "cell_type": "code",
   "execution_count": 160,
   "metadata": {
    "ExecuteTime": {
     "end_time": "2019-07-11T19:45:19.079437Z",
     "start_time": "2019-07-11T19:45:19.015694Z"
    }
   },
   "outputs": [
    {
     "name": "stdout",
     "output_type": "stream",
     "text": [
      "Base-Guloso:  WilcoxonResult(statistic=0.0, pvalue=0.0)\n"
     ]
    }
   ],
   "source": [
    "print('Base-Guloso: ', stats.wilcoxon(dist4[:,coluna], dist3[:,coluna]))"
   ]
  },
  {
   "cell_type": "code",
   "execution_count": 161,
   "metadata": {
    "ExecuteTime": {
     "end_time": "2019-07-11T19:45:19.079437Z",
     "start_time": "2019-07-11T19:45:19.015694Z"
    }
   },
   "outputs": [
    {
     "name": "stdout",
     "output_type": "stream",
     "text": [
      "Base-Guloso Naive:  WilcoxonResult(statistic=0.0, pvalue=0.0)\n"
     ]
    }
   ],
   "source": [
    "print('Base-Guloso Naive: ', stats.wilcoxon(dist4[:,coluna], dist5[:,coluna]))"
   ]
  },
  {
   "cell_type": "code",
   "execution_count": 162,
   "metadata": {
    "ExecuteTime": {
     "end_time": "2019-07-11T19:45:19.155818Z",
     "start_time": "2019-07-11T19:45:19.082349Z"
    }
   },
   "outputs": [
    {
     "name": "stdout",
     "output_type": "stream",
     "text": [
      "Base-Tabu:  WilcoxonResult(statistic=0.0, pvalue=0.0)\n"
     ]
    }
   ],
   "source": [
    "print('Base-Tabu: ', stats.wilcoxon(dist4[:,coluna], dist2[:,coluna]))"
   ]
  },
  {
   "cell_type": "code",
   "execution_count": 163,
   "metadata": {
    "ExecuteTime": {
     "end_time": "2019-07-11T19:45:19.229526Z",
     "start_time": "2019-07-11T19:45:19.158023Z"
    }
   },
   "outputs": [
    {
     "name": "stdout",
     "output_type": "stream",
     "text": [
      "Base-PSO:  WilcoxonResult(statistic=0.0, pvalue=0.0)\n"
     ]
    }
   ],
   "source": [
    "print('Base-PSO: ', stats.wilcoxon(dist4[:,coluna], dist1[:,coluna]))"
   ]
  },
  {
   "cell_type": "code",
   "execution_count": 164,
   "metadata": {
    "ExecuteTime": {
     "end_time": "2019-07-11T19:45:19.462246Z",
     "start_time": "2019-07-11T19:45:19.398604Z"
    },
    "scrolled": true
   },
   "outputs": [
    {
     "name": "stdout",
     "output_type": "stream",
     "text": [
      "Guloso-Tabu:  WilcoxonResult(statistic=20109.5, pvalue=1.492015231173373e-42)\n"
     ]
    }
   ],
   "source": [
    "print('Guloso-Tabu: ', stats.wilcoxon(dist3[:,coluna], dist2[:,coluna]))"
   ]
  },
  {
   "cell_type": "code",
   "execution_count": 165,
   "metadata": {
    "ExecuteTime": {
     "end_time": "2019-07-11T19:45:19.654373Z",
     "start_time": "2019-07-11T19:45:19.612456Z"
    }
   },
   "outputs": [
    {
     "name": "stdout",
     "output_type": "stream",
     "text": [
      "Guloso-PSO:  WilcoxonResult(statistic=196415.0, pvalue=8.73731467476272e-139)\n"
     ]
    }
   ],
   "source": [
    "print('Guloso-PSO: ', stats.wilcoxon(dist3[:,coluna], dist1[:,coluna]))"
   ]
  },
  {
   "cell_type": "code",
   "execution_count": 166,
   "metadata": {
    "ExecuteTime": {
     "end_time": "2019-07-11T19:45:19.654373Z",
     "start_time": "2019-07-11T19:45:19.612456Z"
    }
   },
   "outputs": [
    {
     "name": "stdout",
     "output_type": "stream",
     "text": [
      "Guloso-Guloso Naive:  WilcoxonResult(statistic=618.5, pvalue=0.0)\n"
     ]
    }
   ],
   "source": [
    "print('Guloso-Guloso Naive: ', stats.wilcoxon(dist3[:,coluna], dist5[:,coluna]))"
   ]
  },
  {
   "cell_type": "code",
   "execution_count": 167,
   "metadata": {
    "ExecuteTime": {
     "end_time": "2019-07-11T19:45:19.729933Z",
     "start_time": "2019-07-11T19:45:19.656523Z"
    }
   },
   "outputs": [
    {
     "name": "stdout",
     "output_type": "stream",
     "text": [
      "Tabu-PSO:  WilcoxonResult(statistic=85042.0, pvalue=1.4929428195214915e-210)\n"
     ]
    }
   ],
   "source": [
    "print('Tabu-PSO: ', stats.wilcoxon(dist2[:,coluna], dist1[:,coluna]))"
   ]
  },
  {
   "cell_type": "code",
   "execution_count": 168,
   "metadata": {
    "ExecuteTime": {
     "end_time": "2019-07-11T19:45:19.729933Z",
     "start_time": "2019-07-11T19:45:19.656523Z"
    }
   },
   "outputs": [
    {
     "name": "stdout",
     "output_type": "stream",
     "text": [
      "Tabu-Guloso Naive:  WilcoxonResult(statistic=1701.5, pvalue=0.0)\n"
     ]
    }
   ],
   "source": [
    "print('Tabu-Guloso Naive: ', stats.wilcoxon(dist2[:,coluna], dist5[:,coluna]))"
   ]
  },
  {
   "cell_type": "code",
   "execution_count": 169,
   "metadata": {
    "ExecuteTime": {
     "end_time": "2019-07-11T19:45:19.853895Z",
     "start_time": "2019-07-11T19:45:19.732135Z"
    }
   },
   "outputs": [
    {
     "name": "stdout",
     "output_type": "stream",
     "text": [
      "4226 6041\n",
      "0.6995530541301109\n"
     ]
    }
   ],
   "source": [
    "cont = 0\n",
    "for i in range(len(resultados_its)):\n",
    "    if resultados_its[i][1] == resultados_Guloso[i][1]:\n",
    "#         print(resultados_its[i][1], resultados_Guloso[i][1])\n",
    "#         break\n",
    "        cont += 1\n",
    "        \n",
    "print(cont, len(resultados_its))\n",
    "print(cont/len(resultados_its))"
   ]
  }
 ],
 "metadata": {
  "kernelspec": {
   "display_name": "Python 3",
   "language": "python",
   "name": "python3"
  },
  "language_info": {
   "codemirror_mode": {
    "name": "ipython",
    "version": 3
   },
   "file_extension": ".py",
   "mimetype": "text/x-python",
   "name": "python",
   "nbconvert_exporter": "python",
   "pygments_lexer": "ipython3",
   "version": "3.6.8"
  },
  "toc": {
   "base_numbering": 1,
   "nav_menu": {},
   "number_sections": true,
   "sideBar": true,
   "skip_h1_title": false,
   "title_cell": "Table of Contents",
   "title_sidebar": "Contents",
   "toc_cell": false,
   "toc_position": {},
   "toc_section_display": true,
   "toc_window_display": false
  },
  "varInspector": {
   "cols": {
    "lenName": 16,
    "lenType": 16,
    "lenVar": 40
   },
   "kernels_config": {
    "python": {
     "delete_cmd_postfix": "",
     "delete_cmd_prefix": "del ",
     "library": "var_list.py",
     "varRefreshCmd": "print(var_dic_list())"
    },
    "r": {
     "delete_cmd_postfix": ") ",
     "delete_cmd_prefix": "rm(",
     "library": "var_list.r",
     "varRefreshCmd": "cat(var_dic_list()) "
    }
   },
   "types_to_exclude": [
    "module",
    "function",
    "builtin_function_or_method",
    "instance",
    "_Feature"
   ],
   "window_display": false
  }
 },
 "nbformat": 4,
 "nbformat_minor": 2
}
