{
 "cells": [
  {
   "cell_type": "code",
   "execution_count": 1,
   "metadata": {
    "ExecuteTime": {
     "end_time": "2019-06-06T22:36:31.646855Z",
     "start_time": "2019-06-06T22:36:31.643367Z"
    }
   },
   "outputs": [],
   "source": [
    "base = ['ML-1M']\n",
    "rec = ['userKNN']\n",
    "alg = ['PSO', 'ITS', 'Guloso']\n",
    "metric = ['Prec-Rel', 'GenCov-Rel']"
   ]
  },
  {
   "cell_type": "code",
   "execution_count": 29,
   "metadata": {
    "ExecuteTime": {
     "end_time": "2019-06-06T22:40:40.495934Z",
     "start_time": "2019-06-06T22:40:40.491455Z"
    }
   },
   "outputs": [],
   "source": [
    "dic = {}\n",
    "\n",
    "for a in alg:\n",
    "    dic[a] = {}"
   ]
  },
  {
   "cell_type": "code",
   "execution_count": 30,
   "metadata": {
    "ExecuteTime": {
     "end_time": "2019-06-06T22:40:40.887070Z",
     "start_time": "2019-06-06T22:40:40.814848Z"
    }
   },
   "outputs": [
    {
     "name": "stdout",
     "output_type": "stream",
     "text": [
      "Algoritmo: PSO\n",
      "Algoritmo: ITS\n",
      "Algoritmo: Guloso\n"
     ]
    }
   ],
   "source": [
    "for a in alg:\n",
    "    \n",
    "    datain = open(a+'/eval.txt')\n",
    "    \n",
    "    print('Algoritmo: '+a)\n",
    "    \n",
    "    for line in datain:\n",
    "        \n",
    "        values = line.split('\\t')\n",
    "        \n",
    "        dic[a][values[0]] = {}\n",
    "        dic[a][values[0]]['Prec-Rel'] = (values[2].replace('\\n', '')).replace('.', ',')\n",
    "        dic[a][values[0]]['GenCov-Rel'] = (values[4].replace('\\n', '')).replace('.', ',')\n",
    "        \n",
    "    datain.close()"
   ]
  },
  {
   "cell_type": "code",
   "execution_count": 31,
   "metadata": {
    "ExecuteTime": {
     "end_time": "2019-06-06T22:34:24.374462Z",
     "start_time": "2019-06-06T22:34:24.083734Z"
    }
   },
   "outputs": [
    {
     "name": "stdout",
     "output_type": "stream",
     "text": [
      "Métrica: Prec-Rel\n",
      "Métrica: GenCov-Rel\n"
     ]
    }
   ],
   "source": [
    "for a in alg:\n",
    "\n",
    "    dataout = open('plot_data_'+a, 'w')\n",
    "\n",
    "    print('Métrica: '+m)\n",
    "\n",
    "    dataout.write('User\\tPSO\\tITS\\tGuloso\\n')\n",
    "\n",
    "    for u in range(6041):\n",
    "\n",
    "        if str(u) in dic[a].keys():\n",
    "\n",
    "            data = []\n",
    "\n",
    "            for a in alg:\n",
    "                data.append(dic[a][str(u)][m])\n",
    "\n",
    "            dataout.write(str(u)+'\\t'+('\\t'.join(data))+'\\n')\n",
    "\n",
    "    dataout.close()"
   ]
  }
 ],
 "metadata": {
  "kernelspec": {
   "display_name": "Python 3",
   "language": "python",
   "name": "python3"
  },
  "language_info": {
   "codemirror_mode": {
    "name": "ipython",
    "version": 3
   },
   "file_extension": ".py",
   "mimetype": "text/x-python",
   "name": "python",
   "nbconvert_exporter": "python",
   "pygments_lexer": "ipython3",
   "version": "3.7.3"
  },
  "toc": {
   "base_numbering": 1,
   "nav_menu": {},
   "number_sections": true,
   "sideBar": true,
   "skip_h1_title": false,
   "title_cell": "Table of Contents",
   "title_sidebar": "Contents",
   "toc_cell": false,
   "toc_position": {},
   "toc_section_display": true,
   "toc_window_display": false
  },
  "varInspector": {
   "cols": {
    "lenName": 16,
    "lenType": 16,
    "lenVar": 40
   },
   "kernels_config": {
    "python": {
     "delete_cmd_postfix": "",
     "delete_cmd_prefix": "del ",
     "library": "var_list.py",
     "varRefreshCmd": "print(var_dic_list())"
    },
    "r": {
     "delete_cmd_postfix": ") ",
     "delete_cmd_prefix": "rm(",
     "library": "var_list.r",
     "varRefreshCmd": "cat(var_dic_list()) "
    }
   },
   "types_to_exclude": [
    "module",
    "function",
    "builtin_function_or_method",
    "instance",
    "_Feature"
   ],
   "window_display": false
  }
 },
 "nbformat": 4,
 "nbformat_minor": 2
}
