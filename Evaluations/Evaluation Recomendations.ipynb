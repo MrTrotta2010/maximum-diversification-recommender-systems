{
 "cells": [
  {
   "cell_type": "code",
   "execution_count": 1,
   "metadata": {},
   "outputs": [],
   "source": [
    "import numpy as np\n",
    "from scipy import stats\n",
    "from sklearn import metrics"
   ]
  },
  {
   "cell_type": "code",
   "execution_count": 2,
   "metadata": {},
   "outputs": [],
   "source": [
    "recommenders = [\"itemKNN\", \"userKNN\", \"WRMF\"]"
   ]
  },
  {
   "cell_type": "code",
   "execution_count": 22,
   "metadata": {},
   "outputs": [
    {
     "name": "stdout",
     "output_type": "stream",
     "text": [
      "0.15030000000000002\n",
      "0.09780000000000001\n",
      "0.7939999459999999\n",
      "STANDARD\n",
      "0.15819999999999998\n",
      "0.11139999999999999\n",
      "0.362999916\n",
      "Wilcoxon\n"
     ]
    },
    {
     "data": {
      "text/plain": [
       "'stats.wilcoxon(np.array(mdrs_acc), np.array(acc))\\nstats.wilcoxon(np.array(mdrs_acc_rel), np.array(acc_rel))\\nstats.wilcoxon(np.array(mdrs_div), np.array(div))'"
      ]
     },
     "execution_count": 22,
     "metadata": {},
     "output_type": "execute_result"
    }
   ],
   "source": [
    "### MDRS\n",
    "for alpha in alphas:\n",
    "    filepath = \"MDRS_Output/alfa0.00000/WRMF/Teste1/eval.txt\"\n",
    "    user_id = []\n",
    "    mdrs_acc = []\n",
    "    mdrs_acc_rel = []\n",
    "    mdrs_div = []\n",
    "    filein = open(filepath, 'r')\n",
    "    for line in filein:\n",
    "        line = line.rstrip()\n",
    "        values = line.split(\"\\t\")\n",
    "        user_id.append(int(values[0]))\n",
    "        mdrs_acc.append(float(values[1]))\n",
    "        mdrs_acc_rel.append(float(values[2]))\n",
    "        mdrs_div.append(float(values[3]))\n",
    "        mdrs_div_rel.append\n",
    "\n",
    "    mdrs_acc.sort()\n",
    "    print(metrics.auc(x=np.array(user_id), y=np.array(mdrs_acc)) / 500)\n",
    "\n",
    "    mdrs_acc_rel.sort()\n",
    "    print(metrics.auc(x=np.array(user_id), y=np.array(mdrs_acc_rel)) / 500)\n",
    "\n",
    "    mdrs_div.sort()\n",
    "    print(metrics.auc(x=np.array(user_id), y=np.array(mdrs_div)) / 500)\n",
    "\n",
    "\n",
    "###STANDARD\n",
    "print(\"STANDARD\")\n",
    "filepath = \"Standard/WRMF/eval.txt\"\n",
    "user_id = []\n",
    "acc = []\n",
    "acc_rel = []\n",
    "div = []\n",
    "filein = open(filepath, 'r')\n",
    "for line in filein:\n",
    "    line = line.rstrip()\n",
    "    values = line.split(\"\\t\")\n",
    "    user_id.append(int(values[0]))\n",
    "    acc.append(float(values[1]))\n",
    "    acc_rel.append(float(values[2]))\n",
    "    div.append(float(values[3]))\n",
    "\n",
    "acc.sort()\n",
    "print(metrics.auc(x=np.array(user_id), y=np.array(acc)) / 500)\n",
    "\n",
    "acc_rel.sort()\n",
    "print(metrics.auc(x=np.array(user_id), y=np.array(acc_rel)) / 500)\n",
    "\n",
    "div.sort()\n",
    "print(metrics.auc(x=np.array(user_id), y=np.array(div)) / 500)\n",
    "\n",
    "\n",
    "### Wilcoxon\n",
    "print(\"Wilcoxon\")\n",
    "\"\"\"stats.wilcoxon(np.array(mdrs_acc), np.array(acc))\n",
    "stats.wilcoxon(np.array(mdrs_acc_rel), np.array(acc_rel))\n",
    "stats.wilcoxon(np.array(mdrs_div), np.array(div))\"\"\""
   ]
  },
  {
   "cell_type": "code",
   "execution_count": 23,
   "metadata": {
    "scrolled": true
   },
   "outputs": [
    {
     "data": {
      "text/plain": [
       "WilcoxonResult(statistic=9487.5, pvalue=0.00032932415126391283)"
      ]
     },
     "execution_count": 23,
     "metadata": {},
     "output_type": "execute_result"
    }
   ],
   "source": [
    "stats.wilcoxon(np.array(mdrs_acc), np.array(acc))"
   ]
  },
  {
   "cell_type": "code",
   "execution_count": 24,
   "metadata": {},
   "outputs": [
    {
     "data": {
      "text/plain": [
       "WilcoxonResult(statistic=5670.0, pvalue=1.7563917852084814e-07)"
      ]
     },
     "execution_count": 24,
     "metadata": {},
     "output_type": "execute_result"
    }
   ],
   "source": [
    "stats.wilcoxon(np.array(mdrs_acc_rel), np.array(acc_rel))"
   ]
  },
  {
   "cell_type": "code",
   "execution_count": 25,
   "metadata": {
    "scrolled": true
   },
   "outputs": [
    {
     "data": {
      "text/plain": [
       "WilcoxonResult(statistic=0.0, pvalue=2.4033996697971144e-84)"
      ]
     },
     "execution_count": 25,
     "metadata": {},
     "output_type": "execute_result"
    }
   ],
   "source": [
    "stats.wilcoxon(np.array(mdrs_div), np.array(div))"
   ]
  },
  {
   "cell_type": "code",
   "execution_count": null,
   "metadata": {},
   "outputs": [],
   "source": []
  }
 ],
 "metadata": {
  "kernelspec": {
   "display_name": "Python 3",
   "language": "python",
   "name": "python3"
  },
  "language_info": {
   "codemirror_mode": {
    "name": "ipython",
    "version": 3
   },
   "file_extension": ".py",
   "mimetype": "text/x-python",
   "name": "python",
   "nbconvert_exporter": "python",
   "pygments_lexer": "ipython3",
   "version": "3.6.4"
  }
 },
 "nbformat": 4,
 "nbformat_minor": 2
}
