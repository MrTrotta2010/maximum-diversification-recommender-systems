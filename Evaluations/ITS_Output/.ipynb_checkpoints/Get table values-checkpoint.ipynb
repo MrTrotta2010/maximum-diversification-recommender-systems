{
 "cells": [
  {
   "cell_type": "code",
   "execution_count": 10,
   "metadata": {
    "ExecuteTime": {
     "end_time": "2019-03-21T14:23:13.061746Z",
     "start_time": "2019-03-21T14:23:13.059184Z"
    }
   },
   "outputs": [],
   "source": [
    "alfas = ['0.000000', '0.250000', '0.500000', '0.750000', '1.000000']\n",
    "bases = [\"ML-1M\"]\n",
    "rec = [\"userKNN\"]"
   ]
  },
  {
   "cell_type": "code",
   "execution_count": 9,
   "metadata": {
    "ExecuteTime": {
     "end_time": "2019-03-21T14:15:48.710480Z",
     "start_time": "2019-03-21T14:15:48.705665Z"
    }
   },
   "outputs": [],
   "source": [
    "dataout = open(\"table_values.txt\", \"w\")"
   ]
  },
  {
   "cell_type": "code",
   "execution_count": 6,
   "metadata": {
    "ExecuteTime": {
     "end_time": "2019-03-21T14:15:21.131101Z",
     "start_time": "2019-03-21T14:15:21.125194Z"
    }
   },
   "outputs": [],
   "source": [
    "for b in bases:\n",
    "    for a in alfas:\n",
    "        for r in rec:\n",
    "            datain = open(b+\"/alfa\"+a+\"/\"+r+\"/eval.txt\", \"r\")\n",
    "\n",
    "            maxs = [0, 0, 0, 0]\n",
    "            mins = [1, 1, 1, 1]\n",
    "            means = [0, 0, 0, 0]\n",
    "            std = [0, 0, 0, 0]\n",
    "            cont = 0          \n",
    "            \n",
    "            for line in datain:\n",
    "                line = line.rstrip()\n",
    "                values = line.split('')\n",
    "\n",
    "            datain.close"
   ]
  },
  {
   "cell_type": "code",
   "execution_count": 7,
   "metadata": {
    "ExecuteTime": {
     "end_time": "2019-03-21T14:15:26.453978Z",
     "start_time": "2019-03-21T14:15:26.451821Z"
    }
   },
   "outputs": [],
   "source": [
    "dataout.close()"
   ]
  }
 ],
 "metadata": {
  "kernelspec": {
   "display_name": "Python 3",
   "language": "python",
   "name": "python3"
  },
  "language_info": {
   "codemirror_mode": {
    "name": "ipython",
    "version": 3
   },
   "file_extension": ".py",
   "mimetype": "text/x-python",
   "name": "python",
   "nbconvert_exporter": "python",
   "pygments_lexer": "ipython3",
   "version": "3.6.5"
  },
  "toc": {
   "base_numbering": 1,
   "nav_menu": {},
   "number_sections": true,
   "sideBar": true,
   "skip_h1_title": false,
   "title_cell": "Table of Contents",
   "title_sidebar": "Contents",
   "toc_cell": false,
   "toc_position": {},
   "toc_section_display": true,
   "toc_window_display": false
  },
  "varInspector": {
   "cols": {
    "lenName": 16,
    "lenType": 16,
    "lenVar": 40
   },
   "kernels_config": {
    "python": {
     "delete_cmd_postfix": "",
     "delete_cmd_prefix": "del ",
     "library": "var_list.py",
     "varRefreshCmd": "print(var_dic_list())"
    },
    "r": {
     "delete_cmd_postfix": ") ",
     "delete_cmd_prefix": "rm(",
     "library": "var_list.r",
     "varRefreshCmd": "cat(var_dic_list()) "
    }
   },
   "types_to_exclude": [
    "module",
    "function",
    "builtin_function_or_method",
    "instance",
    "_Feature"
   ],
   "window_display": false
  }
 },
 "nbformat": 4,
 "nbformat_minor": 2
}
