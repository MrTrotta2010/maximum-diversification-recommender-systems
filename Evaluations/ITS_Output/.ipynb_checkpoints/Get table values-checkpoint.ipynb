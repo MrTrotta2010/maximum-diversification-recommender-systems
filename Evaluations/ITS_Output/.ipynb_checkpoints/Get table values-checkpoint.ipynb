{
 "cells": [
  {
   "cell_type": "code",
   "execution_count": 4,
   "metadata": {
    "ExecuteTime": {
     "end_time": "2019-03-22T19:47:07.989935Z",
     "start_time": "2019-03-22T19:47:07.987418Z"
    }
   },
   "outputs": [],
   "source": [
    "import math\n",
    "import numpy"
   ]
  },
  {
   "cell_type": "code",
   "execution_count": 8,
   "metadata": {
    "ExecuteTime": {
     "end_time": "2019-03-22T19:47:08.365206Z",
     "start_time": "2019-03-22T19:47:08.361487Z"
    }
   },
   "outputs": [],
   "source": [
    "# alfas = ['0.000000', '0.250000', '0.500000', '0.750000', '1.000000']\n",
    "alfas = ['0.5']\n",
    "bases = [\"ML-1M\"]\n",
    "rec = [\"userKNN\"]\n",
    "metrics = [\"Acurácia\", \"Rel-Acurácia\", \"C.G.\", \"Rel-C.G.\"]"
   ]
  },
  {
   "cell_type": "code",
   "execution_count": 9,
   "metadata": {
    "ExecuteTime": {
     "end_time": "2019-03-22T19:47:08.866718Z",
     "start_time": "2019-03-22T19:47:08.863076Z"
    }
   },
   "outputs": [],
   "source": [
    "dataout = open(\"table_values.txt\", \"w\")"
   ]
  },
  {
   "cell_type": "code",
   "execution_count": 13,
   "metadata": {
    "ExecuteTime": {
     "end_time": "2019-03-22T19:47:09.901810Z",
     "start_time": "2019-03-22T19:47:09.568691Z"
    },
    "scrolled": false
   },
   "outputs": [
    {
     "name": "stdout",
     "output_type": "stream",
     "text": [
      "0\n",
      "0\n",
      "0\n",
      "0\n",
      "1\n",
      "1\n",
      "1\n",
      "1\n",
      "2\n",
      "2\n",
      "2\n",
      "2\n",
      "3\n",
      "3\n",
      "3\n",
      "3\n",
      "4\n",
      "4\n",
      "4\n",
      "4\n",
      "5\n",
      "5\n",
      "5\n",
      "5\n",
      "6\n",
      "6\n",
      "6\n",
      "6\n",
      "7\n",
      "7\n",
      "7\n",
      "7\n",
      "8\n",
      "8\n",
      "8\n",
      "8\n",
      "9\n",
      "9\n",
      "9\n",
      "9\n",
      "10\n",
      "10\n",
      "10\n",
      "10\n",
      "11\n",
      "11\n",
      "11\n",
      "11\n",
      "12\n",
      "12\n",
      "12\n",
      "12\n",
      "13\n",
      "13\n",
      "13\n",
      "13\n",
      "14\n",
      "14\n",
      "14\n",
      "14\n",
      "15\n",
      "15\n",
      "15\n",
      "15\n",
      "16\n",
      "16\n",
      "16\n",
      "16\n",
      "17\n",
      "17\n",
      "17\n",
      "17\n",
      "18\n",
      "18\n",
      "18\n",
      "18\n",
      "19\n",
      "19\n",
      "19\n",
      "19\n",
      "20\n",
      "20\n",
      "20\n",
      "20\n",
      "21\n"
     ]
    },
    {
     "ename": "ZeroDivisionError",
     "evalue": "division by zero",
     "output_type": "error",
     "traceback": [
      "\u001b[0;31m---------------------------------------------------------------------------\u001b[0m",
      "\u001b[0;31mZeroDivisionError\u001b[0m                         Traceback (most recent call last)",
      "\u001b[0;32m<ipython-input-13-0976cf162688>\u001b[0m in \u001b[0;36m<module>\u001b[0;34m()\u001b[0m\n\u001b[1;32m     34\u001b[0m                 \u001b[0;32mfor\u001b[0m \u001b[0mv\u001b[0m \u001b[0;32min\u001b[0m \u001b[0mrange\u001b[0m\u001b[0;34m(\u001b[0m\u001b[0;36m0\u001b[0m\u001b[0;34m,\u001b[0m \u001b[0;36m4\u001b[0m\u001b[0;34m)\u001b[0m\u001b[0;34m:\u001b[0m\u001b[0;34m\u001b[0m\u001b[0;34m\u001b[0m\u001b[0m\n\u001b[1;32m     35\u001b[0m                     \u001b[0mprint\u001b[0m\u001b[0;34m(\u001b[0m\u001b[0mt\u001b[0m\u001b[0;34m)\u001b[0m\u001b[0;34m\u001b[0m\u001b[0;34m\u001b[0m\u001b[0m\n\u001b[0;32m---> 36\u001b[0;31m                     \u001b[0mmeans\u001b[0m\u001b[0;34m[\u001b[0m\u001b[0mv\u001b[0m\u001b[0;34m]\u001b[0m \u001b[0;34m/=\u001b[0m \u001b[0mcont\u001b[0m\u001b[0;34m\u001b[0m\u001b[0;34m\u001b[0m\u001b[0m\n\u001b[0m\u001b[1;32m     37\u001b[0m \u001b[0;34m\u001b[0m\u001b[0m\n\u001b[1;32m     38\u001b[0m                 \u001b[0mdatain\u001b[0m\u001b[0;34m.\u001b[0m\u001b[0mclose\u001b[0m\u001b[0;34m(\u001b[0m\u001b[0;34m)\u001b[0m\u001b[0;34m\u001b[0m\u001b[0;34m\u001b[0m\u001b[0m\n",
      "\u001b[0;31mZeroDivisionError\u001b[0m: division by zero"
     ]
    }
   ],
   "source": [
    "for b in bases:\n",
    "    dataout.write(b+\" :\\n\")\n",
    "    \n",
    "    for r in rec:      \n",
    "        dataout.write(\"\\t\"+r+\" :\\n\")\n",
    "        for a in alfas:\n",
    "            for t in range(0, 31):\n",
    "                t = str(t)\n",
    "                dataout.write(\"\\tTESTE \"+t+\"\\n-------------\\n\")\n",
    "                datain = open(b+\"/alfa\"+a+\"/\"+r+t+\"/eval.txt\", \"r\")\n",
    "\n",
    "                maxs = [0, 0, 0, 0]\n",
    "                mins = [1, 1, 1, 1]\n",
    "                means = [0, 0, 0, 0]\n",
    "                std = [0.0, 0.0, 0.0, 0.0]\n",
    "                cont = 0          \n",
    "\n",
    "                for line in datain: #Calcula máximo, mínimo e média\n",
    "                    line = line.rstrip()\n",
    "                    values = line.split('\\t')\n",
    "\n",
    "                    for v in range(0, 4):\n",
    "                        values[v+1] = float(values[v+1])                    \n",
    "                        means[v] += values[v+1]\n",
    "\n",
    "                        if values[v+1] > maxs[v]:\n",
    "                            maxs[v] = values[v+1]\n",
    "\n",
    "                        if values[v+1] < mins[v]:\n",
    "                            mins[v] = values[v+1]\n",
    "\n",
    "                    cont += 1\n",
    "\n",
    "                for v in range(0, 4):\n",
    "                    means[v] /= cont\n",
    "\n",
    "                datain.close()\n",
    "                datain = open(b+\"/alfa\"+a+\"/\"+r+t+\"/eval.txt\", \"r\")\n",
    "\n",
    "                values = [[], [], [], []]\n",
    "\n",
    "                for line in datain: #Agora calculará o desvio padrão\n",
    "                    line = line.rstrip()\n",
    "                    aux = line.split('\\t')[1:5]\n",
    "\n",
    "                    for v in range(0, 4):\n",
    "                        values[v].append(float(aux[v]))\n",
    "\n",
    "                for v in range(0, 4):\n",
    "                    std[v] = numpy.std(values[v])\n",
    "\n",
    "                #Impressão na saída\n",
    "                dataout.write(\"\\t\\tAlfa = \"+a+\" :\\n\")\n",
    "\n",
    "                for v in range(0,4):\n",
    "                    dataout.write(\"\\t\\t\\t\"+metrics[v]+\" :\\n\")\n",
    "                    dataout.write(\"\\t\\t\\t\\tMax: \"+str(maxs[v])+\":\\n\"+\n",
    "                                  \"\\t\\t\\t\\tMin: \"+str(mins[v])+\":\\n\"+\n",
    "                                  \"\\t\\t\\t\\tMédia: \"+str(means[v])+\":\\n\"+\n",
    "                                  \"\\t\\t\\t\\tSTD: \"+str(std[v])+\":\\n\\n\")"
   ]
  },
  {
   "cell_type": "code",
   "execution_count": 9,
   "metadata": {
    "ExecuteTime": {
     "end_time": "2019-03-22T19:47:13.067162Z",
     "start_time": "2019-03-22T19:47:13.063214Z"
    }
   },
   "outputs": [],
   "source": [
    "dataout.close()"
   ]
  },
  {
   "cell_type": "code",
   "execution_count": 10,
   "metadata": {
    "ExecuteTime": {
     "end_time": "2019-03-22T19:47:16.786795Z",
     "start_time": "2019-03-22T19:47:16.773879Z"
    }
   },
   "outputs": [
    {
     "data": {
      "text/plain": [
       "[0.14740463343934526,\n",
       " 0.11178431182055169,\n",
       " 0.050590647342625229,\n",
       " 0.1841891871721836]"
      ]
     },
     "execution_count": 10,
     "metadata": {},
     "output_type": "execute_result"
    }
   ],
   "source": [
    "std"
   ]
  },
  {
   "cell_type": "code",
   "execution_count": 71,
   "metadata": {
    "ExecuteTime": {
     "end_time": "2019-03-21T22:16:18.304167Z",
     "start_time": "2019-03-21T22:16:18.232157Z"
    }
   },
   "outputs": [
    {
     "data": {
      "text/plain": [
       "['3208', 0.1, 0.0, 0.944444, 0.944444]"
      ]
     },
     "execution_count": 71,
     "metadata": {},
     "output_type": "execute_result"
    }
   ],
   "source": [
    "values"
   ]
  },
  {
   "cell_type": "code",
   "execution_count": 72,
   "metadata": {
    "ExecuteTime": {
     "end_time": "2019-03-21T22:16:18.410304Z",
     "start_time": "2019-03-21T22:16:18.307160Z"
    }
   },
   "outputs": [],
   "source": [
    "datain = open(b+\"/\"+r+\"/alfa\"+a+\"/eval.txt\", \"r\")\n",
    "\n",
    "for line in datain: #Agora calculará o desvio padrão\n",
    "    line = line.rstrip()\n",
    "    values = line.split('\\t')\n",
    "\n",
    "    for v in range(0, 4):\n",
    "        values[v+1] = float(values[v+1]) \n",
    "        std[v] += math.pow(means[v] - values[v+1], 2)\n",
    "\n",
    "for v in range(0, 4):\n",
    "    std[v] /= cont\n",
    "    std[v] = math.sqrt(means[v])"
   ]
  }
 ],
 "metadata": {
  "kernelspec": {
   "display_name": "Python 3",
   "language": "python",
   "name": "python3"
  },
  "language_info": {
   "codemirror_mode": {
    "name": "ipython",
    "version": 3
   },
   "file_extension": ".py",
   "mimetype": "text/x-python",
   "name": "python",
   "nbconvert_exporter": "python",
   "pygments_lexer": "ipython3",
   "version": "3.6.7"
  },
  "toc": {
   "base_numbering": 1,
   "nav_menu": {},
   "number_sections": true,
   "sideBar": true,
   "skip_h1_title": false,
   "title_cell": "Table of Contents",
   "title_sidebar": "Contents",
   "toc_cell": false,
   "toc_position": {},
   "toc_section_display": true,
   "toc_window_display": false
  },
  "varInspector": {
   "cols": {
    "lenName": 16,
    "lenType": 16,
    "lenVar": 40
   },
   "kernels_config": {
    "python": {
     "delete_cmd_postfix": "",
     "delete_cmd_prefix": "del ",
     "library": "var_list.py",
     "varRefreshCmd": "print(var_dic_list())"
    },
    "r": {
     "delete_cmd_postfix": ") ",
     "delete_cmd_prefix": "rm(",
     "library": "var_list.r",
     "varRefreshCmd": "cat(var_dic_list()) "
    }
   },
   "types_to_exclude": [
    "module",
    "function",
    "builtin_function_or_method",
    "instance",
    "_Feature"
   ],
   "window_display": false
  }
 },
 "nbformat": 4,
 "nbformat_minor": 2
}
