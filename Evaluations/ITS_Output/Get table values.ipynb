{
 "cells": [
  {
   "cell_type": "code",
   "execution_count": 65,
   "metadata": {
    "ExecuteTime": {
     "end_time": "2019-03-21T22:16:17.630737Z",
     "start_time": "2019-03-21T22:16:17.626425Z"
    }
   },
   "outputs": [],
   "source": [
    "import math"
   ]
  },
  {
   "cell_type": "code",
   "execution_count": 66,
   "metadata": {
    "ExecuteTime": {
     "end_time": "2019-03-21T22:16:17.709895Z",
     "start_time": "2019-03-21T22:16:17.633118Z"
    }
   },
   "outputs": [],
   "source": [
    "alfas = ['0.000000', '0.250000', '0.500000', '0.750000', '1.000000']\n",
    "bases = [\"ML-1M\"]\n",
    "rec = [\"userKNN\"]\n",
    "metrics = [\"Acurácia\", \"Rel-Acurácia\", \"C.G.\", \"Rel-C.G.\"]"
   ]
  },
  {
   "cell_type": "code",
   "execution_count": 67,
   "metadata": {
    "ExecuteTime": {
     "end_time": "2019-03-21T22:16:17.768933Z",
     "start_time": "2019-03-21T22:16:17.712794Z"
    }
   },
   "outputs": [],
   "source": [
    "dataout = open(\"table_values.txt\", \"w\")"
   ]
  },
  {
   "cell_type": "code",
   "execution_count": 68,
   "metadata": {
    "ExecuteTime": {
     "end_time": "2019-03-21T22:16:18.125242Z",
     "start_time": "2019-03-21T22:16:17.771784Z"
    },
    "scrolled": false
   },
   "outputs": [],
   "source": [
    "for b in bases:\n",
    "    dataout.write(b+\" :\\n\")\n",
    "    \n",
    "    for r in rec:      \n",
    "        dataout.write(\"\\t\"+r+\" :\\n\")\n",
    "        for a in alfas:\n",
    "            datain = open(b+\"/\"+r+\"/alfa\"+a+\"/eval.txt\", \"r\")\n",
    "\n",
    "            maxs = [0, 0, 0, 0]\n",
    "            mins = [1, 1, 1, 1]\n",
    "            means = [0, 0, 0, 0]\n",
    "            std = [0.0, 0.0, 0.0, 0.0]\n",
    "            cont = 0          \n",
    "            \n",
    "            for line in datain: #Calcula máximo, mínimo e média\n",
    "                line = line.rstrip()\n",
    "                values = line.split('\\t')\n",
    "                \n",
    "                for v in range(0, 4):\n",
    "                    values[v+1] = float(values[v+1])                    \n",
    "                    means[v] += values[v+1]\n",
    "                    \n",
    "                    if values[v+1] > maxs[v]:\n",
    "                        maxs[v] = values[v+1]\n",
    "                        \n",
    "                    if values[v+1] < mins[v]:\n",
    "                        mins[v] = values[v+1]\n",
    "                \n",
    "                cont += 1\n",
    "            \n",
    "            for v in range(0, 4):\n",
    "                means[v] /= cont\n",
    "                \n",
    "            datain.close()\n",
    "            datain = open(b+\"/\"+r+\"/alfa\"+a+\"/eval.txt\", \"r\")\n",
    "            \n",
    "            for line in datain: #Agora calculará o desvio padrão\n",
    "                line = line.rstrip()\n",
    "                values = line.split('\\t')\n",
    "                \n",
    "                for v in range(0, 4):\n",
    "                    values[v+1] = float(values[v+1]) \n",
    "                    std[v] += math.pow(means[v] - values[v+1], 2)\n",
    "            \n",
    "            for v in range(0, 4):\n",
    "                std[v] /= cont\n",
    "                std[v] = math.sqrt(means[v])\n",
    "                \n",
    "            #Impressão na saída\n",
    "            dataout.write(\"\\t\\tAlfa = \"+a+\" :\\n\")\n",
    "            \n",
    "            for v in range(0,4):\n",
    "                dataout.write(\"\\t\\t\\t\"+metrics[v]+\" :\\n\")\n",
    "                dataout.write(\"\\t\\t\\t\\tMax: \"+str(maxs[v])+\":\\n\"+\n",
    "                              \"\\t\\t\\t\\tMin: \"+str(mins[v])+\":\\n\"+\n",
    "                              \"\\t\\t\\t\\tMédia: \"+str(means[v])+\":\\n\"+\n",
    "                              \"\\t\\t\\t\\tSTD: \"+str(std[v])+\":\\n\\n\")"
   ]
  },
  {
   "cell_type": "code",
   "execution_count": 69,
   "metadata": {
    "ExecuteTime": {
     "end_time": "2019-03-21T22:16:18.130320Z",
     "start_time": "2019-03-21T22:16:18.127386Z"
    }
   },
   "outputs": [],
   "source": [
    "dataout.close()"
   ]
  },
  {
   "cell_type": "code",
   "execution_count": 70,
   "metadata": {
    "ExecuteTime": {
     "end_time": "2019-03-21T22:16:18.229532Z",
     "start_time": "2019-03-21T22:16:18.132443Z"
    }
   },
   "outputs": [
    {
     "data": {
      "text/plain": [
       "6040"
      ]
     },
     "execution_count": 70,
     "metadata": {},
     "output_type": "execute_result"
    }
   ],
   "source": [
    "cont"
   ]
  },
  {
   "cell_type": "code",
   "execution_count": 71,
   "metadata": {
    "ExecuteTime": {
     "end_time": "2019-03-21T22:16:18.304167Z",
     "start_time": "2019-03-21T22:16:18.232157Z"
    }
   },
   "outputs": [
    {
     "data": {
      "text/plain": [
       "['3208', 0.1, 0.0, 0.944444, 0.944444]"
      ]
     },
     "execution_count": 71,
     "metadata": {},
     "output_type": "execute_result"
    }
   ],
   "source": [
    "values"
   ]
  },
  {
   "cell_type": "code",
   "execution_count": 72,
   "metadata": {
    "ExecuteTime": {
     "end_time": "2019-03-21T22:16:18.410304Z",
     "start_time": "2019-03-21T22:16:18.307160Z"
    }
   },
   "outputs": [],
   "source": [
    "datain = open(b+\"/\"+r+\"/alfa\"+a+\"/eval.txt\", \"r\")\n",
    "\n",
    "for line in datain: #Agora calculará o desvio padrão\n",
    "    line = line.rstrip()\n",
    "    values = line.split('\\t')\n",
    "\n",
    "    for v in range(0, 4):\n",
    "        values[v+1] = float(values[v+1]) \n",
    "        std[v] += math.pow(means[v] - values[v+1], 2)\n",
    "\n",
    "for v in range(0, 4):\n",
    "    std[v] /= cont\n",
    "    std[v] = math.sqrt(means[v])"
   ]
  }
 ],
 "metadata": {
  "kernelspec": {
   "display_name": "Python 3",
   "language": "python",
   "name": "python3"
  },
  "language_info": {
   "codemirror_mode": {
    "name": "ipython",
    "version": 3
   },
   "file_extension": ".py",
   "mimetype": "text/x-python",
   "name": "python",
   "nbconvert_exporter": "python",
   "pygments_lexer": "ipython3",
   "version": "3.6.5"
  },
  "toc": {
   "base_numbering": 1,
   "nav_menu": {},
   "number_sections": true,
   "sideBar": true,
   "skip_h1_title": false,
   "title_cell": "Table of Contents",
   "title_sidebar": "Contents",
   "toc_cell": false,
   "toc_position": {},
   "toc_section_display": true,
   "toc_window_display": false
  },
  "varInspector": {
   "cols": {
    "lenName": 16,
    "lenType": 16,
    "lenVar": 40
   },
   "kernels_config": {
    "python": {
     "delete_cmd_postfix": "",
     "delete_cmd_prefix": "del ",
     "library": "var_list.py",
     "varRefreshCmd": "print(var_dic_list())"
    },
    "r": {
     "delete_cmd_postfix": ") ",
     "delete_cmd_prefix": "rm(",
     "library": "var_list.r",
     "varRefreshCmd": "cat(var_dic_list()) "
    }
   },
   "types_to_exclude": [
    "module",
    "function",
    "builtin_function_or_method",
    "instance",
    "_Feature"
   ],
   "window_display": false
  }
 },
 "nbformat": 4,
 "nbformat_minor": 2
}
