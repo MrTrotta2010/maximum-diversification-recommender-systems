{
 "cells": [
  {
   "cell_type": "code",
   "execution_count": null,
   "metadata": {
    "collapsed": true
   },
   "outputs": [],
   "source": [
    "\"\"\"if window.parameters['diversity_novelty']:\n",
    "        for j in range(len(window.parameters['file_recommender'])):\n",
    "            name_recommender = window.parameters['file_recommender'][j][0]\n",
    "            file_top_n = window.parameters['file_recommender'][j][1]\n",
    "            amount_n = int(window.parameters['file_recommender'][j][2])\n",
    "\n",
    "            # settings output Directory\n",
    "            output_directory = output_root + name_recommender + '/Complementary-Dimensions-of-Quality'\n",
    "            # create output directory if it does not exist\n",
    "            try:\n",
    "                if not os.path.exists(output_directory):\n",
    "                    os.makedirs(output_directory)\n",
    "            except:\n",
    "                print(str(sys.exc_info()[0]))\n",
    "                print('error creating the folder in : %s' % output_directory)\n",
    "                sys.exit(2)\n",
    "            # settings output Directory\n",
    "            output_file = output_directory + '/'\n",
    "\n",
    "            print(name_recommender + ': diversity_novelty_metrics')\n",
    "            if window.parameters['mymedialite']:\n",
    "                convert_file_mymedialite(file_top_n, output_file)\n",
    "            config['loader_weight'] += 3\n",
    "            value = config['loader_weight'] * config['loader_value']\n",
    "            text = name_recommender + ': Executing Diversity and Novelty'\n",
    "            send_message(loader_window, value, text)\n",
    "            if window.parameters['mymedialite']:\n",
    "                diversity_novelty_metrics(file_test,\n",
    "                                          file_train,\n",
    "                                          output_file + \"file_mymedialite_topn.txt\",\n",
    "                                          users, amount_n, output_file)\n",
    "\n",
    "                if not subprocess.call(\"cd \" + output_file_change + \" && rm file_mymedialite_topn.txt\", shell=True):\n",
    "                    pass;\n",
    "                else:\n",
    "                    output_file_change = output_file.replace(\" \", \"\\ \")\n",
    "                    subprocess.call(\"cd \" + output_file_change + \" && rm file_mymedialite_topn.txt\", shell=True)\n",
    "            else:\n",
    "                diversity_novelty_metrics(file_test,\n",
    "                                          file_train,\n",
    "                                          file_top_n,\n",
    "                                          users, amount_n, output_file)\"\"\""
   ]
  }
 ],
 "metadata": {
  "kernelspec": {
   "display_name": "Python 3",
   "language": "python",
   "name": "python3"
  },
  "language_info": {
   "codemirror_mode": {
    "name": "ipython",
    "version": 3
   },
   "file_extension": ".py",
   "mimetype": "text/x-python",
   "name": "python",
   "nbconvert_exporter": "python",
   "pygments_lexer": "ipython3",
   "version": "3.6.1"
  }
 },
 "nbformat": 4,
 "nbformat_minor": 2
}
