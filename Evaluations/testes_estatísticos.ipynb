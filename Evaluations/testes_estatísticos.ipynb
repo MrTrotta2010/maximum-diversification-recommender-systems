{
 "cells": [
  {
   "cell_type": "code",
   "execution_count": 116,
   "metadata": {
    "ExecuteTime": {
     "end_time": "2019-07-05T17:24:20.227711Z",
     "start_time": "2019-07-05T17:24:20.225247Z"
    }
   },
   "outputs": [],
   "source": [
    "import numpy as np\n",
    "from scipy import stats"
   ]
  },
  {
   "cell_type": "code",
   "execution_count": 117,
   "metadata": {
    "ExecuteTime": {
     "end_time": "2019-07-05T17:24:20.290221Z",
     "start_time": "2019-07-05T17:24:20.231806Z"
    }
   },
   "outputs": [
    {
     "name": "stderr",
     "output_type": "stream",
     "text": [
      "/home/labpi/anaconda3/lib/python3.6/site-packages/ipykernel_launcher.py:1: DeprecationWarning: Numeric-style type codes are deprecated and will result in an error in the future.\n",
      "  \"\"\"Entry point for launching an IPython kernel.\n"
     ]
    }
   ],
   "source": [
    "dt = np.dtype('Float64')"
   ]
  },
  {
   "cell_type": "code",
   "execution_count": 118,
   "metadata": {
    "ExecuteTime": {
     "end_time": "2019-07-05T17:24:20.366037Z",
     "start_time": "2019-07-05T17:24:20.292033Z"
    }
   },
   "outputs": [
    {
     "data": {
      "text/plain": [
       "dtype('float64')"
      ]
     },
     "execution_count": 118,
     "metadata": {},
     "output_type": "execute_result"
    }
   ],
   "source": [
    "dt"
   ]
  },
  {
   "cell_type": "markdown",
   "metadata": {},
   "source": [
    "Definir qual é a coluna inicial de avaliação do arquivo de distribuições:"
   ]
  },
  {
   "cell_type": "code",
   "execution_count": 119,
   "metadata": {
    "ExecuteTime": {
     "end_time": "2019-07-05T17:24:20.452142Z",
     "start_time": "2019-07-05T17:24:20.368167Z"
    }
   },
   "outputs": [],
   "source": [
    "col_metrica = 1"
   ]
  },
  {
   "cell_type": "markdown",
   "metadata": {},
   "source": [
    "Definir qual é a coluna para fazer o teste estatístico: @5 = 0; @10 = 1; @20 = 3"
   ]
  },
  {
   "cell_type": "code",
   "execution_count": 120,
   "metadata": {
    "ExecuteTime": {
     "end_time": "2019-07-05T17:24:20.526914Z",
     "start_time": "2019-07-05T17:24:20.454485Z"
    }
   },
   "outputs": [],
   "source": [
    "coluna = 0"
   ]
  },
  {
   "cell_type": "markdown",
   "metadata": {},
   "source": [
    "Carregar as informações de distribuição do PSO"
   ]
  },
  {
   "cell_type": "code",
   "execution_count": 121,
   "metadata": {
    "ExecuteTime": {
     "end_time": "2019-07-05T17:24:20.627324Z",
     "start_time": "2019-07-05T17:24:20.529201Z"
    }
   },
   "outputs": [],
   "source": [
    "resultados_pso = []\n",
    "dados_pso = open(\"Comparações/ML-1M/PSO/eval.txt\",\"r\")\n",
    "for linha in dados_pso:\n",
    "    aux = linha.split()\n",
    "    try:\n",
    "        aux = [str(float(x)) for x in aux]\n",
    "    except:\n",
    "        pass\n",
    "    resultados_pso.append(aux)\n",
    "dados_pso.close()\n",
    "resultados_pso = np.array(resultados_pso,dtype='<U30')"
   ]
  },
  {
   "cell_type": "code",
   "execution_count": 122,
   "metadata": {
    "ExecuteTime": {
     "end_time": "2019-07-05T17:24:20.702191Z",
     "start_time": "2019-07-05T17:24:20.629228Z"
    },
    "scrolled": false
   },
   "outputs": [
    {
     "data": {
      "text/plain": [
       "array([['Acc'],\n",
       "       ['0.7'],\n",
       "       ['0.3'],\n",
       "       ..., \n",
       "       ['0.1'],\n",
       "       ['0.2'],\n",
       "       ['0.1']],\n",
       "      dtype='<U30')"
      ]
     },
     "execution_count": 122,
     "metadata": {},
     "output_type": "execute_result"
    }
   ],
   "source": [
    "pso = np.array(resultados_pso[:,col_metrica:col_metrica+1][:].copy())\n",
    "pso"
   ]
  },
  {
   "cell_type": "code",
   "execution_count": 123,
   "metadata": {
    "ExecuteTime": {
     "end_time": "2019-07-05T17:24:20.815511Z",
     "start_time": "2019-07-05T17:24:20.705609Z"
    }
   },
   "outputs": [
    {
     "name": "stdout",
     "output_type": "stream",
     "text": [
      "Total de Recomendações: 6040.0000\n",
      "Média: 0.1629\n",
      "Mediana: 0.1000\n",
      "Variância: 0.0305\n",
      "Desvio Padrão: 0.1748\n",
      "Menor Valor: 0.0000\n",
      "Maior Valor: 1.0000\n"
     ]
    }
   ],
   "source": [
    "dist1 = pso[1:].copy()\n",
    "dist1 = np.core.defchararray.replace(dist1,',','.')\n",
    "dist1 = np.core.defchararray.replace(dist1,'NaN','0.000')\n",
    "dist1 = dist1.astype(dt)\n",
    "\n",
    "print('Total de Recomendações: {:.4f}'.format(len(dist1[:,coluna])))\n",
    "print('Média: {:.4f}'.format(np.mean(dist1[:,coluna])))\n",
    "print('Mediana: {:.4f}'.format(np.median(dist1[:,coluna])))\n",
    "print('Variância: {:.4f}'.format(np.var(dist1[:,coluna])))\n",
    "print('Desvio Padrão: {:.4f}'.format(np.std(dist1[:,coluna])))\n",
    "print('Menor Valor: {:.4f}'.format(np.min(dist1[:,coluna])))\n",
    "print('Maior Valor: {:.4f}'.format(np.max(dist1[:,coluna])))"
   ]
  },
  {
   "cell_type": "markdown",
   "metadata": {},
   "source": [
    "Carregar as informações de distribuição do ITS"
   ]
  },
  {
   "cell_type": "code",
   "execution_count": 124,
   "metadata": {
    "ExecuteTime": {
     "end_time": "2019-07-05T17:24:20.904809Z",
     "start_time": "2019-07-05T17:24:20.817114Z"
    }
   },
   "outputs": [],
   "source": [
    "resultados_its = []\n",
    "dados_its = open(\"Comparações/ML-1M/ITS/eval.txt\",\"r\")\n",
    "for linha in dados_its:\n",
    "    aux = linha.split()\n",
    "    try:\n",
    "        aux = [str(float(x)) for x in aux]\n",
    "    except:\n",
    "        pass\n",
    "    resultados_its.append(aux)\n",
    "dados_its.close()\n",
    "resultados_its = np.array(resultados_its,dtype='<U30')"
   ]
  },
  {
   "cell_type": "code",
   "execution_count": 125,
   "metadata": {
    "ExecuteTime": {
     "end_time": "2019-07-05T17:24:20.968180Z",
     "start_time": "2019-07-05T17:24:20.906643Z"
    },
    "scrolled": true
   },
   "outputs": [
    {
     "data": {
      "text/plain": [
       "array([['Acc'],\n",
       "       ['0.6'],\n",
       "       ['0.2'],\n",
       "       ..., \n",
       "       ['0.2'],\n",
       "       ['0.2'],\n",
       "       ['0.3']],\n",
       "      dtype='<U30')"
      ]
     },
     "execution_count": 125,
     "metadata": {},
     "output_type": "execute_result"
    }
   ],
   "source": [
    "its = np.array(resultados_its[:,col_metrica:col_metrica+1][:].copy())\n",
    "its"
   ]
  },
  {
   "cell_type": "code",
   "execution_count": 126,
   "metadata": {
    "ExecuteTime": {
     "end_time": "2019-07-05T17:24:21.072816Z",
     "start_time": "2019-07-05T17:24:20.970809Z"
    }
   },
   "outputs": [
    {
     "name": "stdout",
     "output_type": "stream",
     "text": [
      "Total de Recomendações: 6040.0000\n",
      "Média: 0.1655\n",
      "Mediana: 0.1000\n",
      "Variância: 0.0336\n",
      "Desvio Padrão: 0.1832\n",
      "Menor Valor: 0.0000\n",
      "Maior Valor: 1.0000\n"
     ]
    }
   ],
   "source": [
    "dist2 = its[1:].copy()\n",
    "dist2 = np.core.defchararray.replace(dist2,',','.')\n",
    "dist2 = np.core.defchararray.replace(dist2,'NaN','0.000')\n",
    "dist2 = dist2.astype(dt)\n",
    "\n",
    "print('Total de Recomendações: {:.4f}'.format(len(dist2[:,coluna])))\n",
    "print('Média: {:.4f}'.format(np.mean(dist2[:,coluna])))\n",
    "print('Mediana: {:.4f}'.format(np.median(dist2[:,coluna])))\n",
    "print('Variância: {:.4f}'.format(np.var(dist2[:,coluna])))\n",
    "print('Desvio Padrão: {:.4f}'.format(np.std(dist2[:,coluna])))\n",
    "print('Menor Valor: {:.4f}'.format(np.min(dist2[:,coluna])))\n",
    "print('Maior Valor: {:.4f}'.format(np.max(dist2[:,coluna])))"
   ]
  },
  {
   "cell_type": "markdown",
   "metadata": {},
   "source": [
    "Carregar as informações de distribuição do Guloso"
   ]
  },
  {
   "cell_type": "code",
   "execution_count": 127,
   "metadata": {
    "ExecuteTime": {
     "end_time": "2019-07-05T17:24:21.169153Z",
     "start_time": "2019-07-05T17:24:21.074592Z"
    }
   },
   "outputs": [],
   "source": [
    "resultados_Guloso = []\n",
    "dados_Guloso = open(\"Comparações/ML-1M/Guloso/eval.txt\",\"r\")\n",
    "for linha in dados_Guloso:\n",
    "    aux = linha.split()\n",
    "    try:\n",
    "        aux = [str(float(x)) for x in aux]\n",
    "    except:\n",
    "        pass\n",
    "    resultados_Guloso.append(aux)\n",
    "dados_Guloso.close()\n",
    "resultados_Guloso = np.array(resultados_Guloso,dtype='<U30')"
   ]
  },
  {
   "cell_type": "code",
   "execution_count": 128,
   "metadata": {
    "ExecuteTime": {
     "end_time": "2019-07-05T17:24:21.238780Z",
     "start_time": "2019-07-05T17:24:21.170858Z"
    },
    "scrolled": true
   },
   "outputs": [
    {
     "data": {
      "text/plain": [
       "array([['Acc'],\n",
       "       ['0.5'],\n",
       "       ['0.2'],\n",
       "       ..., \n",
       "       ['0.1'],\n",
       "       ['0.2'],\n",
       "       ['0.2']],\n",
       "      dtype='<U30')"
      ]
     },
     "execution_count": 128,
     "metadata": {},
     "output_type": "execute_result"
    }
   ],
   "source": [
    "Guloso = np.array(resultados_Guloso[:,col_metrica:col_metrica+1][:].copy())\n",
    "Guloso"
   ]
  },
  {
   "cell_type": "code",
   "execution_count": 129,
   "metadata": {
    "ExecuteTime": {
     "end_time": "2019-07-05T17:24:21.338754Z",
     "start_time": "2019-07-05T17:24:21.241748Z"
    }
   },
   "outputs": [
    {
     "name": "stdout",
     "output_type": "stream",
     "text": [
      "Total de Recomendações: 6040.0000\n",
      "Média: 0.1655\n",
      "Mediana: 0.1000\n",
      "Variância: 0.0336\n",
      "Desvio Padrão: 0.1832\n",
      "Menor Valor: 0.0000\n",
      "Maior Valor: 1.0000\n"
     ]
    }
   ],
   "source": [
    "dist3 = its[1:].copy()\n",
    "dist3 = np.core.defchararray.replace(dist3,',','.')\n",
    "dist3 = np.core.defchararray.replace(dist3,'NaN','0.000')\n",
    "dist3 = dist3.astype(dt)\n",
    "\n",
    "print('Total de Recomendações: {:.4f}'.format(len(dist3[:,coluna])))\n",
    "print('Média: {:.4f}'.format(np.mean(dist3[:,coluna])))\n",
    "print('Mediana: {:.4f}'.format(np.median(dist3[:,coluna])))\n",
    "print('Variância: {:.4f}'.format(np.var(dist3[:,coluna])))\n",
    "print('Desvio Padrão: {:.4f}'.format(np.std(dist3[:,coluna])))\n",
    "print('Menor Valor: {:.4f}'.format(np.min(dist3[:,coluna])))\n",
    "print('Maior Valor: {:.4f}'.format(np.max(dist3[:,coluna])))"
   ]
  },
  {
   "cell_type": "markdown",
   "metadata": {},
   "source": [
    "Carregar as informações da distribuição do recomendação base"
   ]
  },
  {
   "cell_type": "code",
   "execution_count": 130,
   "metadata": {
    "ExecuteTime": {
     "end_time": "2019-07-05T17:24:21.468497Z",
     "start_time": "2019-07-05T17:24:21.340796Z"
    }
   },
   "outputs": [],
   "source": [
    "resultados_base = []\n",
    "dados_base = open(\"Comparações/ML-1M/userKNN/eval.txt\",\"r\")\n",
    "for linha in dados_base:\n",
    "    aux = linha.split()\n",
    "    try:\n",
    "        aux = [str(float(x)) for x in aux]\n",
    "    except:\n",
    "        pass\n",
    "    resultados_base.append(aux)\n",
    "dados_base.close()\n",
    "resultados_base = np.array(resultados_base,dtype='<U30')"
   ]
  },
  {
   "cell_type": "code",
   "execution_count": 131,
   "metadata": {
    "ExecuteTime": {
     "end_time": "2019-07-05T17:24:21.510670Z",
     "start_time": "2019-07-05T17:24:21.470659Z"
    }
   },
   "outputs": [
    {
     "data": {
      "text/plain": [
       "array([['Acc'],\n",
       "       ['0.5'],\n",
       "       ['0.2'],\n",
       "       ..., \n",
       "       ['0.1'],\n",
       "       ['0.0'],\n",
       "       ['0.3']],\n",
       "      dtype='<U30')"
      ]
     },
     "execution_count": 131,
     "metadata": {},
     "output_type": "execute_result"
    }
   ],
   "source": [
    "base = np.array(resultados_base[:,col_metrica:col_metrica+1][:].copy())\n",
    "base"
   ]
  },
  {
   "cell_type": "code",
   "execution_count": 132,
   "metadata": {
    "ExecuteTime": {
     "end_time": "2019-07-05T17:24:21.598688Z",
     "start_time": "2019-07-05T17:24:21.512732Z"
    }
   },
   "outputs": [
    {
     "name": "stdout",
     "output_type": "stream",
     "text": [
      "Total de Recomendações: 6040.0000\n",
      "Média: 0.1734\n",
      "Mediana: 0.1000\n",
      "Variância: 0.0390\n",
      "Desvio Padrão: 0.1975\n",
      "Menor Valor: 0.0000\n",
      "Maior Valor: 1.0000\n"
     ]
    }
   ],
   "source": [
    "dist4 = base[1:].copy()\n",
    "dist4 = np.core.defchararray.replace(dist4,',','.')\n",
    "dist4 = np.core.defchararray.replace(dist4,'NaN','0.000')\n",
    "dist4 = dist4.astype(dt)\n",
    "\n",
    "print('Total de Recomendações: {:.4f}'.format(len(dist4[:,coluna])))\n",
    "print('Média: {:.4f}'.format(np.mean(dist4[:,coluna])))\n",
    "print('Mediana: {:.4f}'.format(np.median(dist4[:,coluna])))\n",
    "print('Variância: {:.4f}'.format(np.var(dist4[:,coluna])))\n",
    "print('Desvio Padrão: {:.4f}'.format(np.std(dist4[:,coluna])))\n",
    "print('Menor Valor: {:.4f}'.format(np.min(dist4[:,coluna])))\n",
    "print('Maior Valor: {:.4f}'.format(np.max(dist4[:,coluna])))"
   ]
  },
  {
   "cell_type": "markdown",
   "metadata": {},
   "source": [
    "Teste de Kolmogorov para comparar as duas distribuições com uma distribuição normal (se o valor de \"pvalue\" é menor que 0.05 significa que existe diferença estatística entre as distribuições):"
   ]
  },
  {
   "cell_type": "code",
   "execution_count": 133,
   "metadata": {
    "ExecuteTime": {
     "end_time": "2019-07-05T17:24:21.656221Z",
     "start_time": "2019-07-05T17:24:21.601286Z"
    }
   },
   "outputs": [
    {
     "name": "stdout",
     "output_type": "stream",
     "text": [
      "KstestResult(statistic=0.5, pvalue=0.0)\n",
      "KstestResult(statistic=0.5, pvalue=0.0)\n",
      "KstestResult(statistic=0.5, pvalue=0.0)\n",
      "KstestResult(statistic=0.5, pvalue=0.0)\n"
     ]
    }
   ],
   "source": [
    "print(stats.kstest(dist1[:,coluna], 'norm')) # PSO\n",
    "print(stats.kstest(dist2[:,coluna], 'norm')) # ITS\n",
    "print(stats.kstest(dist3[:,coluna], 'norm')) # Guloso\n",
    "print(stats.kstest(dist4[:,coluna], 'norm')) # Base"
   ]
  },
  {
   "cell_type": "markdown",
   "metadata": {},
   "source": [
    "Teste de Kolmogorov para comparar as duas distribuições entre si:"
   ]
  },
  {
   "cell_type": "code",
   "execution_count": 134,
   "metadata": {
    "ExecuteTime": {
     "end_time": "2019-07-05T17:24:21.727000Z",
     "start_time": "2019-07-05T17:24:21.658834Z"
    },
    "scrolled": true
   },
   "outputs": [
    {
     "name": "stdout",
     "output_type": "stream",
     "text": [
      "Ks_2sampResult(statistic=0.016887417218543033, pvalue=0.35253347374359989)\n"
     ]
    }
   ],
   "source": [
    "print(stats.ks_2samp(dist1[:,coluna], dist2[:,coluna]))"
   ]
  },
  {
   "cell_type": "markdown",
   "metadata": {},
   "source": [
    "Teste de Wilcoxon para comparar as duas distribuições entre si (se o valor de \"pvalue\" é menor que 0.05 significa que há diferença estatística entre as distribuições):"
   ]
  },
  {
   "cell_type": "code",
   "execution_count": 151,
   "metadata": {
    "ExecuteTime": {
     "end_time": "2019-07-05T17:35:04.675079Z",
     "start_time": "2019-07-05T17:35:04.670206Z"
    }
   },
   "outputs": [
    {
     "name": "stdout",
     "output_type": "stream",
     "text": [
      "Base-Guloso:  WilcoxonResult(statistic=6746237.0, pvalue=4.7490334729595459e-69)\n"
     ]
    }
   ],
   "source": [
    "print('Base-Guloso: ', stats.wilcoxon(dist4[:,coluna], dist3[:,coluna], zero_method='pratt'))"
   ]
  },
  {
   "cell_type": "code",
   "execution_count": 152,
   "metadata": {
    "ExecuteTime": {
     "end_time": "2019-07-05T17:35:25.178621Z",
     "start_time": "2019-07-05T17:35:25.173397Z"
    }
   },
   "outputs": [
    {
     "name": "stdout",
     "output_type": "stream",
     "text": [
      "Base-Tabu:  WilcoxonResult(statistic=6746237.0, pvalue=4.7490334729595459e-69)\n"
     ]
    }
   ],
   "source": [
    "print('Base-Tabu: ', stats.wilcoxon(dist4[:,coluna], dist2[:,coluna], zero_method='pratt'))"
   ]
  },
  {
   "cell_type": "code",
   "execution_count": 154,
   "metadata": {
    "ExecuteTime": {
     "end_time": "2019-07-05T17:35:48.876211Z",
     "start_time": "2019-07-05T17:35:48.868405Z"
    }
   },
   "outputs": [
    {
     "name": "stdout",
     "output_type": "stream",
     "text": [
      "Base-PSO:  WilcoxonResult(statistic=6112469.0, pvalue=1.3059345702668155e-109)\n"
     ]
    }
   ],
   "source": [
    "print('Base-PSO: ', stats.wilcoxon(dist4[:,coluna], dist1[:,coluna], zero_method='pratt'))"
   ]
  },
  {
   "cell_type": "code",
   "execution_count": 150,
   "metadata": {
    "ExecuteTime": {
     "end_time": "2019-07-05T17:34:54.148216Z",
     "start_time": "2019-07-05T17:34:54.141062Z"
    }
   },
   "outputs": [
    {
     "name": "stdout",
     "output_type": "stream",
     "text": [
      "Guloso-Tabu:  WilcoxonResult(statistic=0.0, pvalue=0.0)\n"
     ]
    }
   ],
   "source": [
    "print('Guloso-Tabu: ', stats.wilcoxon(dist3[:,coluna], dist2[:,coluna], zero_method='pratt'))"
   ]
  },
  {
   "cell_type": "code",
   "execution_count": 155,
   "metadata": {
    "ExecuteTime": {
     "end_time": "2019-07-05T17:36:00.729943Z",
     "start_time": "2019-07-05T17:36:00.725157Z"
    }
   },
   "outputs": [
    {
     "name": "stdout",
     "output_type": "stream",
     "text": [
      "Guloso-PSO:  WilcoxonResult(statistic=5782339.0, pvalue=2.6579252904201279e-134)\n"
     ]
    }
   ],
   "source": [
    "print('Guloso-PSO: ', stats.wilcoxon(dist3[:,coluna], dist1[:,coluna], zero_method='pratt'))"
   ]
  },
  {
   "cell_type": "code",
   "execution_count": 156,
   "metadata": {
    "ExecuteTime": {
     "end_time": "2019-07-05T17:36:12.297830Z",
     "start_time": "2019-07-05T17:36:12.291898Z"
    }
   },
   "outputs": [
    {
     "name": "stdout",
     "output_type": "stream",
     "text": [
      "Tabu-PSO:  WilcoxonResult(statistic=5782339.0, pvalue=2.6579252904201279e-134)\n"
     ]
    }
   ],
   "source": [
    "print('Tabu-PSO: ', stats.wilcoxon(dist2[:,coluna], dist1[:,coluna], zero_method='pratt'))"
   ]
  },
  {
   "cell_type": "code",
   "execution_count": 141,
   "metadata": {
    "ExecuteTime": {
     "end_time": "2019-07-05T17:24:22.263109Z",
     "start_time": "2019-07-05T17:24:22.178728Z"
    }
   },
   "outputs": [
    {
     "name": "stdout",
     "output_type": "stream",
     "text": [
      "4226 6041\n",
      "0.6995530541301109\n"
     ]
    }
   ],
   "source": [
    "cont = 0\n",
    "for i in range(len(resultados_its)):\n",
    "    if resultados_its[i][1] == resultados_Guloso[i][1]:\n",
    "#         print(resultados_its[i][1], resultados_Guloso[i][1])\n",
    "#         break\n",
    "        cont += 1\n",
    "        \n",
    "print(cont, len(resultados_its))\n",
    "print(cont/len(resultados_its))"
   ]
  }
 ],
 "metadata": {
  "kernelspec": {
   "display_name": "Python 3",
   "language": "python",
   "name": "python3"
  },
  "language_info": {
   "codemirror_mode": {
    "name": "ipython",
    "version": 3
   },
   "file_extension": ".py",
   "mimetype": "text/x-python",
   "name": "python",
   "nbconvert_exporter": "python",
   "pygments_lexer": "ipython3",
   "version": "3.6.5"
  },
  "toc": {
   "base_numbering": 1,
   "nav_menu": {},
   "number_sections": true,
   "sideBar": true,
   "skip_h1_title": false,
   "title_cell": "Table of Contents",
   "title_sidebar": "Contents",
   "toc_cell": false,
   "toc_position": {},
   "toc_section_display": true,
   "toc_window_display": false
  },
  "varInspector": {
   "cols": {
    "lenName": 16,
    "lenType": 16,
    "lenVar": 40
   },
   "kernels_config": {
    "python": {
     "delete_cmd_postfix": "",
     "delete_cmd_prefix": "del ",
     "library": "var_list.py",
     "varRefreshCmd": "print(var_dic_list())"
    },
    "r": {
     "delete_cmd_postfix": ") ",
     "delete_cmd_prefix": "rm(",
     "library": "var_list.r",
     "varRefreshCmd": "cat(var_dic_list()) "
    }
   },
   "types_to_exclude": [
    "module",
    "function",
    "builtin_function_or_method",
    "instance",
    "_Feature"
   ],
   "window_display": false
  }
 },
 "nbformat": 4,
 "nbformat_minor": 2
}
