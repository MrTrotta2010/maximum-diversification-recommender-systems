{
 "cells": [
  {
   "cell_type": "code",
   "execution_count": 1,
   "metadata": {
    "ExecuteTime": {
     "end_time": "2019-07-11T19:45:17.604883Z",
     "start_time": "2019-07-11T19:45:17.600986Z"
    }
   },
   "outputs": [],
   "source": [
    "import numpy as np\n",
    "from scipy import stats"
   ]
  },
  {
   "cell_type": "markdown",
   "metadata": {},
   "source": [
    "Definir qual é a coluna inicial de avaliação do arquivo de distribuições:"
   ]
  },
  {
   "cell_type": "code",
   "execution_count": 2,
   "metadata": {
    "ExecuteTime": {
     "end_time": "2019-07-11T19:45:17.802059Z",
     "start_time": "2019-07-11T19:45:17.737896Z"
    }
   },
   "outputs": [],
   "source": [
    "col_metrica = 3"
   ]
  },
  {
   "cell_type": "markdown",
   "metadata": {},
   "source": [
    "Definir qual é a coluna para fazer o teste estatístico: @5 = 0; @10 = 1; @20 = 3"
   ]
  },
  {
   "cell_type": "code",
   "execution_count": 3,
   "metadata": {
    "ExecuteTime": {
     "end_time": "2019-07-11T19:45:17.868841Z",
     "start_time": "2019-07-11T19:45:17.803919Z"
    }
   },
   "outputs": [],
   "source": [
    "coluna = 0"
   ]
  },
  {
   "cell_type": "markdown",
   "metadata": {},
   "source": [
    "Carregar as informações de distribuição do PSO"
   ]
  },
  {
   "cell_type": "code",
   "execution_count": 4,
   "metadata": {
    "ExecuteTime": {
     "end_time": "2019-07-11T19:45:17.971008Z",
     "start_time": "2019-07-11T19:45:17.871366Z"
    }
   },
   "outputs": [],
   "source": [
    "resultados_pso = []\n",
    "dados_pso = open(\"Comparações/ML-1M/PSO/eval.txt\",\"r\")\n",
    "for linha in dados_pso:\n",
    "    aux = linha.split()\n",
    "    try:\n",
    "        aux = [str(float(x)) for x in aux]\n",
    "    except:\n",
    "        pass\n",
    "    resultados_pso.append(aux)\n",
    "dados_pso.close()\n",
    "resultados_pso = np.array(resultados_pso,dtype='<U30')"
   ]
  },
  {
   "cell_type": "code",
   "execution_count": 5,
   "metadata": {
    "ExecuteTime": {
     "end_time": "2019-07-11T19:45:18.048003Z",
     "start_time": "2019-07-11T19:45:17.973379Z"
    },
    "scrolled": false
   },
   "outputs": [
    {
     "data": {
      "text/plain": [
       "array([['Div'],\n",
       "       ['0.833333'],\n",
       "       ['0.888889'],\n",
       "       ...,\n",
       "       ['0.888889'],\n",
       "       ['0.833333'],\n",
       "       ['0.888889']], dtype='<U30')"
      ]
     },
     "execution_count": 5,
     "metadata": {},
     "output_type": "execute_result"
    }
   ],
   "source": [
    "pso = np.array(resultados_pso[:,col_metrica:col_metrica+1][:].copy())\n",
    "pso"
   ]
  },
  {
   "cell_type": "code",
   "execution_count": 6,
   "metadata": {
    "ExecuteTime": {
     "end_time": "2019-07-11T19:45:18.135836Z",
     "start_time": "2019-07-11T19:45:18.051150Z"
    }
   },
   "outputs": [
    {
     "name": "stdout",
     "output_type": "stream",
     "text": [
      "Total de Recomendações: 6040.0000\n",
      "Média: 0.8503\n",
      "Mediana: 0.8333\n",
      "Variância: 0.0046\n",
      "Desvio Padrão: 0.0678\n",
      "Menor Valor: 0.5556\n",
      "Maior Valor: 1.0000\n"
     ]
    }
   ],
   "source": [
    "dist1 = pso[1:].copy()\n",
    "dist1 = np.core.defchararray.replace(dist1,',','.')\n",
    "dist1 = np.core.defchararray.replace(dist1,'NaN','0.000')\n",
    "dist1 = dist1.astype(float)\n",
    "\n",
    "print('Total de Recomendações: {:.4f}'.format(len(dist1[:,coluna])))\n",
    "print('Média: {:.4f}'.format(np.mean(dist1[:,coluna])))\n",
    "print('Mediana: {:.4f}'.format(np.median(dist1[:,coluna])))\n",
    "print('Variância: {:.4f}'.format(np.var(dist1[:,coluna])))\n",
    "print('Desvio Padrão: {:.4f}'.format(np.std(dist1[:,coluna])))\n",
    "print('Menor Valor: {:.4f}'.format(np.min(dist1[:,coluna])))\n",
    "print('Maior Valor: {:.4f}'.format(np.max(dist1[:,coluna])))"
   ]
  },
  {
   "cell_type": "markdown",
   "metadata": {},
   "source": [
    "Carregar as informações de distribuição do ITS"
   ]
  },
  {
   "cell_type": "code",
   "execution_count": 7,
   "metadata": {
    "ExecuteTime": {
     "end_time": "2019-07-11T19:45:18.208400Z",
     "start_time": "2019-07-11T19:45:18.137499Z"
    }
   },
   "outputs": [],
   "source": [
    "resultados_its = []\n",
    "dados_its = open(\"Comparações/ML-1M/ITS/eval.txt\",\"r\")\n",
    "for linha in dados_its:\n",
    "    aux = linha.split()\n",
    "    try:\n",
    "        aux = [str(float(x)) for x in aux]\n",
    "    except:\n",
    "        pass\n",
    "    resultados_its.append(aux)\n",
    "dados_its.close()\n",
    "resultados_its = np.array(resultados_its,dtype='<U30')"
   ]
  },
  {
   "cell_type": "code",
   "execution_count": 8,
   "metadata": {
    "ExecuteTime": {
     "end_time": "2019-07-11T19:45:18.317955Z",
     "start_time": "2019-07-11T19:45:18.210058Z"
    },
    "scrolled": true
   },
   "outputs": [
    {
     "data": {
      "text/plain": [
       "array([['Div'],\n",
       "       ['0.888889'],\n",
       "       ['0.944444'],\n",
       "       ...,\n",
       "       ['0.888889'],\n",
       "       ['0.833333'],\n",
       "       ['0.888889']], dtype='<U30')"
      ]
     },
     "execution_count": 8,
     "metadata": {},
     "output_type": "execute_result"
    }
   ],
   "source": [
    "its = np.array(resultados_its[:,col_metrica:col_metrica+1][:].copy())\n",
    "its"
   ]
  },
  {
   "cell_type": "code",
   "execution_count": 9,
   "metadata": {
    "ExecuteTime": {
     "end_time": "2019-07-11T19:45:18.413575Z",
     "start_time": "2019-07-11T19:45:18.320791Z"
    }
   },
   "outputs": [
    {
     "name": "stdout",
     "output_type": "stream",
     "text": [
      "Total de Recomendações: 6040.0000\n",
      "Média: 0.8799\n",
      "Mediana: 0.8889\n",
      "Variância: 0.0041\n",
      "Desvio Padrão: 0.0641\n",
      "Menor Valor: 0.5556\n",
      "Maior Valor: 1.0000\n"
     ]
    }
   ],
   "source": [
    "dist2 = its[1:].copy()\n",
    "dist2 = np.core.defchararray.replace(dist2,',','.')\n",
    "dist2 = np.core.defchararray.replace(dist2,'NaN','0.000')\n",
    "dist2 = dist2.astype(float)\n",
    "\n",
    "print('Total de Recomendações: {:.4f}'.format(len(dist2[:,coluna])))\n",
    "print('Média: {:.4f}'.format(np.mean(dist2[:,coluna])))\n",
    "print('Mediana: {:.4f}'.format(np.median(dist2[:,coluna])))\n",
    "print('Variância: {:.4f}'.format(np.var(dist2[:,coluna])))\n",
    "print('Desvio Padrão: {:.4f}'.format(np.std(dist2[:,coluna])))\n",
    "print('Menor Valor: {:.4f}'.format(np.min(dist2[:,coluna])))\n",
    "print('Maior Valor: {:.4f}'.format(np.max(dist2[:,coluna])))"
   ]
  },
  {
   "cell_type": "markdown",
   "metadata": {},
   "source": [
    "Carregar as informações de distribuição do Guloso"
   ]
  },
  {
   "cell_type": "code",
   "execution_count": 10,
   "metadata": {
    "ExecuteTime": {
     "end_time": "2019-07-11T19:45:18.473543Z",
     "start_time": "2019-07-11T19:45:18.415257Z"
    }
   },
   "outputs": [],
   "source": [
    "resultados_Guloso = []\n",
    "dados_Guloso = open(\"Comparações/ML-1M/Guloso/eval.txt\",\"r\")\n",
    "for linha in dados_Guloso:\n",
    "    aux = linha.split()\n",
    "    try:\n",
    "        aux = [str(float(x)) for x in aux]\n",
    "    except:\n",
    "        pass\n",
    "    resultados_Guloso.append(aux)\n",
    "dados_Guloso.close()\n",
    "resultados_Guloso = np.array(resultados_Guloso,dtype='<U30')"
   ]
  },
  {
   "cell_type": "code",
   "execution_count": 11,
   "metadata": {
    "ExecuteTime": {
     "end_time": "2019-07-11T19:45:18.555149Z",
     "start_time": "2019-07-11T19:45:18.475271Z"
    },
    "scrolled": true
   },
   "outputs": [
    {
     "data": {
      "text/plain": [
       "array([['Div'],\n",
       "       ['0.888889'],\n",
       "       ['0.944444'],\n",
       "       ...,\n",
       "       ['0.888889'],\n",
       "       ['0.777778'],\n",
       "       ['0.888889']], dtype='<U30')"
      ]
     },
     "execution_count": 11,
     "metadata": {},
     "output_type": "execute_result"
    }
   ],
   "source": [
    "Guloso = np.array(resultados_Guloso[:,col_metrica:col_metrica+1][:].copy())\n",
    "Guloso"
   ]
  },
  {
   "cell_type": "code",
   "execution_count": 12,
   "metadata": {
    "ExecuteTime": {
     "end_time": "2019-07-11T19:45:18.631101Z",
     "start_time": "2019-07-11T19:45:18.556799Z"
    }
   },
   "outputs": [
    {
     "name": "stdout",
     "output_type": "stream",
     "text": [
      "Total de Recomendações: 6040.0000\n",
      "Média: 0.8603\n",
      "Mediana: 0.8889\n",
      "Variância: 0.0043\n",
      "Desvio Padrão: 0.0659\n",
      "Menor Valor: 0.5556\n",
      "Maior Valor: 1.0000\n"
     ]
    }
   ],
   "source": [
    "dist3 = Guloso[1:].copy()\n",
    "dist3 = np.core.defchararray.replace(dist3,',','.')\n",
    "dist3 = np.core.defchararray.replace(dist3,'NaN','0.000')\n",
    "dist3 = dist3.astype(float)\n",
    "\n",
    "print('Total de Recomendações: {:.4f}'.format(len(dist3[:,coluna])))\n",
    "print('Média: {:.4f}'.format(np.mean(dist3[:,coluna])))\n",
    "print('Mediana: {:.4f}'.format(np.median(dist3[:,coluna])))\n",
    "print('Variância: {:.4f}'.format(np.var(dist3[:,coluna])))\n",
    "print('Desvio Padrão: {:.4f}'.format(np.std(dist3[:,coluna])))\n",
    "print('Menor Valor: {:.4f}'.format(np.min(dist3[:,coluna])))\n",
    "print('Maior Valor: {:.4f}'.format(np.max(dist3[:,coluna])))"
   ]
  },
  {
   "cell_type": "markdown",
   "metadata": {},
   "source": [
    "Carregar as informações da distribuição do recomendação base"
   ]
  },
  {
   "cell_type": "code",
   "execution_count": 13,
   "metadata": {
    "ExecuteTime": {
     "end_time": "2019-07-11T19:45:18.708625Z",
     "start_time": "2019-07-11T19:45:18.633629Z"
    }
   },
   "outputs": [],
   "source": [
    "resultados_base = []\n",
    "dados_base = open(\"Comparações/ML-1M/userKNN/eval.txt\",\"r\")\n",
    "for linha in dados_base:\n",
    "    aux = linha.split()\n",
    "    try:\n",
    "        aux = [str(float(x)) for x in aux]\n",
    "    except:\n",
    "        pass\n",
    "    resultados_base.append(aux)\n",
    "dados_base.close()\n",
    "resultados_base = np.array(resultados_base,dtype='<U30')"
   ]
  },
  {
   "cell_type": "code",
   "execution_count": 14,
   "metadata": {
    "ExecuteTime": {
     "end_time": "2019-07-11T19:45:18.812139Z",
     "start_time": "2019-07-11T19:45:18.710741Z"
    },
    "scrolled": true
   },
   "outputs": [
    {
     "data": {
      "text/plain": [
       "array([['Div'],\n",
       "       ['0.611111'],\n",
       "       ['0.5'],\n",
       "       ...,\n",
       "       ['0.333333'],\n",
       "       ['0.444444'],\n",
       "       ['0.611111']], dtype='<U30')"
      ]
     },
     "execution_count": 14,
     "metadata": {},
     "output_type": "execute_result"
    }
   ],
   "source": [
    "base = np.array(resultados_base[:,col_metrica:col_metrica+1][:].copy())\n",
    "base"
   ]
  },
  {
   "cell_type": "code",
   "execution_count": 15,
   "metadata": {
    "ExecuteTime": {
     "end_time": "2019-07-11T19:45:18.882364Z",
     "start_time": "2019-07-11T19:45:18.814468Z"
    }
   },
   "outputs": [
    {
     "name": "stdout",
     "output_type": "stream",
     "text": [
      "Total de Recomendações: 6040.0000\n",
      "Média: 0.5183\n",
      "Mediana: 0.5000\n",
      "Variância: 0.0106\n",
      "Desvio Padrão: 0.1032\n",
      "Menor Valor: 0.1667\n",
      "Maior Valor: 0.8889\n"
     ]
    }
   ],
   "source": [
    "dist4 = base[1:].copy()\n",
    "dist4 = np.core.defchararray.replace(dist4,',','.')\n",
    "dist4 = np.core.defchararray.replace(dist4,'NaN','0.000')\n",
    "dist4 = dist4.astype(float)\n",
    "\n",
    "print('Total de Recomendações: {:.4f}'.format(len(dist4[:,coluna])))\n",
    "print('Média: {:.4f}'.format(np.mean(dist4[:,coluna])))\n",
    "print('Mediana: {:.4f}'.format(np.median(dist4[:,coluna])))\n",
    "print('Variância: {:.4f}'.format(np.var(dist4[:,coluna])))\n",
    "print('Desvio Padrão: {:.4f}'.format(np.std(dist4[:,coluna])))\n",
    "print('Menor Valor: {:.4f}'.format(np.min(dist4[:,coluna])))\n",
    "print('Maior Valor: {:.4f}'.format(np.max(dist4[:,coluna])))"
   ]
  },
  {
   "cell_type": "markdown",
   "metadata": {},
   "source": [
    "Carregar as informações da distribuição do Guloso Naive"
   ]
  },
  {
   "cell_type": "code",
   "execution_count": 16,
   "metadata": {
    "ExecuteTime": {
     "end_time": "2019-07-11T19:45:18.708625Z",
     "start_time": "2019-07-11T19:45:18.633629Z"
    }
   },
   "outputs": [],
   "source": [
    "resultados_naive = []\n",
    "dados_naive = open(\"Comparações/ML-1M/GulosoNaive/eval.txt\",\"r\")\n",
    "for linha in dados_naive:\n",
    "    aux = linha.split()\n",
    "    try:\n",
    "        aux = [str(float(x)) for x in aux]\n",
    "    except:\n",
    "        pass\n",
    "    resultados_naive.append(aux)\n",
    "dados_naive.close()\n",
    "resultados_naive = np.array(resultados_naive,dtype='<U30')"
   ]
  },
  {
   "cell_type": "code",
   "execution_count": 17,
   "metadata": {
    "ExecuteTime": {
     "end_time": "2019-07-11T19:45:18.812139Z",
     "start_time": "2019-07-11T19:45:18.710741Z"
    },
    "scrolled": true
   },
   "outputs": [
    {
     "data": {
      "text/plain": [
       "array([['Div'],\n",
       "       ['0.722222'],\n",
       "       ['0.777778'],\n",
       "       ...,\n",
       "       ['0.666667'],\n",
       "       ['0.611111'],\n",
       "       ['0.777778']], dtype='<U30')"
      ]
     },
     "execution_count": 17,
     "metadata": {},
     "output_type": "execute_result"
    }
   ],
   "source": [
    "naive = np.array(resultados_naive[:,col_metrica:col_metrica+1][:].copy())\n",
    "naive"
   ]
  },
  {
   "cell_type": "code",
   "execution_count": 18,
   "metadata": {
    "ExecuteTime": {
     "end_time": "2019-07-11T19:45:18.882364Z",
     "start_time": "2019-07-11T19:45:18.814468Z"
    }
   },
   "outputs": [
    {
     "name": "stdout",
     "output_type": "stream",
     "text": [
      "Total de Recomendações: 6040.0000\n",
      "Média: 0.6792\n",
      "Mediana: 0.6667\n",
      "Variância: 0.0092\n",
      "Desvio Padrão: 0.0958\n",
      "Menor Valor: 0.3333\n",
      "Maior Valor: 0.9444\n"
     ]
    }
   ],
   "source": [
    "dist5 = naive[1:].copy()\n",
    "dist5 = np.core.defchararray.replace(dist5,',','.')\n",
    "dist5 = np.core.defchararray.replace(dist5,'NaN','0.000')\n",
    "dist5 = dist5.astype(float)\n",
    "\n",
    "print('Total de Recomendações: {:.4f}'.format(len(dist5[:,coluna])))\n",
    "print('Média: {:.4f}'.format(np.mean(dist5[:,coluna])))\n",
    "print('Mediana: {:.4f}'.format(np.median(dist5[:,coluna])))\n",
    "print('Variância: {:.4f}'.format(np.var(dist5[:,coluna])))\n",
    "print('Desvio Padrão: {:.4f}'.format(np.std(dist5[:,coluna])))\n",
    "print('Menor Valor: {:.4f}'.format(np.min(dist5[:,coluna])))\n",
    "print('Maior Valor: {:.4f}'.format(np.max(dist5[:,coluna])))"
   ]
  },
  {
   "cell_type": "markdown",
   "metadata": {},
   "source": [
    "Teste de Kolmogorov para comparar as duas distribuições com uma distribuição normal (se o valor de \"pvalue\" é menor que 0.05 significa que existe diferença estatística entre as distribuições):"
   ]
  },
  {
   "cell_type": "code",
   "execution_count": 19,
   "metadata": {
    "ExecuteTime": {
     "end_time": "2019-07-11T19:45:18.943723Z",
     "start_time": "2019-07-11T19:45:18.884078Z"
    }
   },
   "outputs": [
    {
     "name": "stdout",
     "output_type": "stream",
     "text": [
      "KstestResult(statistic=0.7433684960880517, pvalue=0.0)\n",
      "KstestResult(statistic=0.7534971592097052, pvalue=0.0)\n",
      "KstestResult(statistic=0.7453845764282483, pvalue=0.0)\n",
      "KstestResult(statistic=0.6750717327971919, pvalue=0.0)\n",
      "KstestResult(statistic=0.6128433022357407, pvalue=0.0)\n"
     ]
    }
   ],
   "source": [
    "print(stats.kstest(dist1[:,coluna], 'norm')) # PSO\n",
    "print(stats.kstest(dist2[:,coluna], 'norm')) # ITS\n",
    "print(stats.kstest(dist3[:,coluna], 'norm')) # Guloso\n",
    "print(stats.kstest(dist5[:,coluna], 'norm')) # Guloso Naive\n",
    "print(stats.kstest(dist4[:,coluna], 'norm')) # Base"
   ]
  },
  {
   "cell_type": "markdown",
   "metadata": {},
   "source": [
    "Teste de Kolmogorov para comparar as duas distribuições entre si:"
   ]
  },
  {
   "cell_type": "code",
   "execution_count": 20,
   "metadata": {
    "ExecuteTime": {
     "end_time": "2019-07-11T19:45:19.013054Z",
     "start_time": "2019-07-11T19:45:18.945599Z"
    },
    "scrolled": true
   },
   "outputs": [
    {
     "name": "stdout",
     "output_type": "stream",
     "text": [
      "Ks_2sampResult(statistic=0.1847682119205298, pvalue=1.7371842778756308e-90)\n"
     ]
    }
   ],
   "source": [
    "print(stats.ks_2samp(dist1[:,coluna], dist2[:,coluna]))"
   ]
  },
  {
   "cell_type": "markdown",
   "metadata": {},
   "source": [
    "Teste de Wilcoxon para comparar as duas distribuições entre si (se o valor de \"pvalue\" é menor que 0.05 significa que há diferença estatística entre as distribuições):"
   ]
  },
  {
   "cell_type": "code",
   "execution_count": 21,
   "metadata": {
    "ExecuteTime": {
     "end_time": "2019-07-11T19:45:19.079437Z",
     "start_time": "2019-07-11T19:45:19.015694Z"
    }
   },
   "outputs": [
    {
     "name": "stdout",
     "output_type": "stream",
     "text": [
      "Base-Guloso:  WilcoxonResult(statistic=0.0, pvalue=0.0)\n"
     ]
    }
   ],
   "source": [
    "print('Base-Guloso: ', stats.wilcoxon(dist4[:,coluna], dist3[:,coluna]))"
   ]
  },
  {
   "cell_type": "code",
   "execution_count": 22,
   "metadata": {
    "ExecuteTime": {
     "end_time": "2019-07-11T19:45:19.079437Z",
     "start_time": "2019-07-11T19:45:19.015694Z"
    }
   },
   "outputs": [
    {
     "name": "stdout",
     "output_type": "stream",
     "text": [
      "Base-Guloso Naive:  WilcoxonResult(statistic=0.0, pvalue=0.0)\n"
     ]
    }
   ],
   "source": [
    "print('Base-Guloso Naive: ', stats.wilcoxon(dist4[:,coluna], dist5[:,coluna]))"
   ]
  },
  {
   "cell_type": "code",
   "execution_count": 23,
   "metadata": {
    "ExecuteTime": {
     "end_time": "2019-07-11T19:45:19.155818Z",
     "start_time": "2019-07-11T19:45:19.082349Z"
    }
   },
   "outputs": [
    {
     "name": "stdout",
     "output_type": "stream",
     "text": [
      "Base-Tabu:  WilcoxonResult(statistic=0.0, pvalue=0.0)\n"
     ]
    }
   ],
   "source": [
    "print('Base-Tabu: ', stats.wilcoxon(dist4[:,coluna], dist2[:,coluna]))"
   ]
  },
  {
   "cell_type": "code",
   "execution_count": 24,
   "metadata": {
    "ExecuteTime": {
     "end_time": "2019-07-11T19:45:19.229526Z",
     "start_time": "2019-07-11T19:45:19.158023Z"
    }
   },
   "outputs": [
    {
     "name": "stdout",
     "output_type": "stream",
     "text": [
      "Base-PSO:  WilcoxonResult(statistic=0.0, pvalue=0.0)\n"
     ]
    }
   ],
   "source": [
    "print('Base-PSO: ', stats.wilcoxon(dist4[:,coluna], dist1[:,coluna]))"
   ]
  },
  {
   "cell_type": "code",
   "execution_count": 25,
   "metadata": {
    "ExecuteTime": {
     "end_time": "2019-07-11T19:45:19.462246Z",
     "start_time": "2019-07-11T19:45:19.398604Z"
    },
    "scrolled": true
   },
   "outputs": [
    {
     "name": "stdout",
     "output_type": "stream",
     "text": [
      "Guloso-Tabu:  WilcoxonResult(statistic=151867.5, pvalue=9.215205467008422e-267)\n"
     ]
    }
   ],
   "source": [
    "print('Guloso-Tabu: ', stats.wilcoxon(dist3[:,coluna], dist2[:,coluna]))"
   ]
  },
  {
   "cell_type": "code",
   "execution_count": 26,
   "metadata": {
    "ExecuteTime": {
     "end_time": "2019-07-11T19:45:19.654373Z",
     "start_time": "2019-07-11T19:45:19.612456Z"
    }
   },
   "outputs": [
    {
     "name": "stdout",
     "output_type": "stream",
     "text": [
      "Guloso-PSO:  WilcoxonResult(statistic=1297396.5, pvalue=6.445914378204714e-50)\n"
     ]
    }
   ],
   "source": [
    "print('Guloso-PSO: ', stats.wilcoxon(dist3[:,coluna], dist1[:,coluna]))"
   ]
  },
  {
   "cell_type": "code",
   "execution_count": 27,
   "metadata": {
    "ExecuteTime": {
     "end_time": "2019-07-11T19:45:19.654373Z",
     "start_time": "2019-07-11T19:45:19.612456Z"
    }
   },
   "outputs": [
    {
     "name": "stdout",
     "output_type": "stream",
     "text": [
      "Guloso-Guloso Naive:  WilcoxonResult(statistic=2919.5, pvalue=0.0)\n"
     ]
    }
   ],
   "source": [
    "print('Guloso-Guloso Naive: ', stats.wilcoxon(dist3[:,coluna], dist5[:,coluna]))"
   ]
  },
  {
   "cell_type": "code",
   "execution_count": 28,
   "metadata": {
    "ExecuteTime": {
     "end_time": "2019-07-11T19:45:19.729933Z",
     "start_time": "2019-07-11T19:45:19.656523Z"
    }
   },
   "outputs": [
    {
     "name": "stdout",
     "output_type": "stream",
     "text": [
      "Tabu-PSO:  WilcoxonResult(statistic=215861.5, pvalue=0.0)\n"
     ]
    }
   ],
   "source": [
    "print('Tabu-PSO: ', stats.wilcoxon(dist2[:,coluna], dist1[:,coluna]))"
   ]
  },
  {
   "cell_type": "code",
   "execution_count": 29,
   "metadata": {
    "ExecuteTime": {
     "end_time": "2019-07-11T19:45:19.729933Z",
     "start_time": "2019-07-11T19:45:19.656523Z"
    }
   },
   "outputs": [
    {
     "name": "stdout",
     "output_type": "stream",
     "text": [
      "Tabu-Guloso Naive:  WilcoxonResult(statistic=950.0, pvalue=0.0)\n"
     ]
    }
   ],
   "source": [
    "print('Tabu-Guloso Naive: ', stats.wilcoxon(dist2[:,coluna], dist5[:,coluna]))"
   ]
  },
  {
   "cell_type": "code",
   "execution_count": 30,
   "metadata": {},
   "outputs": [
    {
     "name": "stdout",
     "output_type": "stream",
     "text": [
      "PSO-Guloso Naive:  WilcoxonResult(statistic=25407.5, pvalue=0.0)\n"
     ]
    }
   ],
   "source": [
    "print('PSO-Guloso Naive: ', stats.wilcoxon(dist1[:,coluna], dist5[:,coluna]))"
   ]
  },
  {
   "cell_type": "code",
   "execution_count": 32,
   "metadata": {
    "ExecuteTime": {
     "end_time": "2019-07-11T19:45:19.853895Z",
     "start_time": "2019-07-11T19:45:19.732135Z"
    }
   },
   "outputs": [
    {
     "name": "stdout",
     "output_type": "stream",
     "text": [
      "32 6041\n",
      "0.005297136235722562\n"
     ]
    }
   ],
   "source": [
    "cont = 0\n",
    "for i in range(len(resultados_naive)):\n",
    "    if resultados_naive[i][col_metrica] == resultados_base[i][col_metrica]:\n",
    "#         print(resultados_its[i][1], resultados_Guloso[i][1])\n",
    "#         break\n",
    "        cont += 1\n",
    "        \n",
    "print(cont, len(resultados_base))\n",
    "print(cont/len(resultados_base))"
   ]
  }
 ],
 "metadata": {
  "kernelspec": {
   "display_name": "Python 3",
   "language": "python",
   "name": "python3"
  },
  "language_info": {
   "codemirror_mode": {
    "name": "ipython",
    "version": 3
   },
   "file_extension": ".py",
   "mimetype": "text/x-python",
   "name": "python",
   "nbconvert_exporter": "python",
   "pygments_lexer": "ipython3",
   "version": "3.6.8"
  },
  "toc": {
   "base_numbering": 1,
   "nav_menu": {},
   "number_sections": true,
   "sideBar": true,
   "skip_h1_title": false,
   "title_cell": "Table of Contents",
   "title_sidebar": "Contents",
   "toc_cell": false,
   "toc_position": {},
   "toc_section_display": true,
   "toc_window_display": false
  },
  "varInspector": {
   "cols": {
    "lenName": 16,
    "lenType": 16,
    "lenVar": 40
   },
   "kernels_config": {
    "python": {
     "delete_cmd_postfix": "",
     "delete_cmd_prefix": "del ",
     "library": "var_list.py",
     "varRefreshCmd": "print(var_dic_list())"
    },
    "r": {
     "delete_cmd_postfix": ") ",
     "delete_cmd_prefix": "rm(",
     "library": "var_list.r",
     "varRefreshCmd": "cat(var_dic_list()) "
    }
   },
   "types_to_exclude": [
    "module",
    "function",
    "builtin_function_or_method",
    "instance",
    "_Feature"
   ],
   "window_display": false
  }
 },
 "nbformat": 4,
 "nbformat_minor": 2
}
