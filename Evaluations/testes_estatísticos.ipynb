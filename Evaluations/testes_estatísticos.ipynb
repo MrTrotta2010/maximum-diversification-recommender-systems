{
 "cells": [
  {
   "cell_type": "code",
   "execution_count": 265,
   "metadata": {
    "ExecuteTime": {
     "end_time": "2019-07-04T17:24:00.519893Z",
     "start_time": "2019-07-04T17:24:00.517500Z"
    }
   },
   "outputs": [],
   "source": [
    "import numpy as np\n",
    "from scipy import stats"
   ]
  },
  {
   "cell_type": "markdown",
   "metadata": {},
   "source": [
    "Definir qual é a coluna inicial de avaliação do arquivo de distribuições:"
   ]
  },
  {
   "cell_type": "code",
   "execution_count": 266,
   "metadata": {
    "ExecuteTime": {
     "end_time": "2019-07-04T17:24:00.590751Z",
     "start_time": "2019-07-04T17:24:00.526569Z"
    }
   },
   "outputs": [],
   "source": [
    "col_metrica = 3"
   ]
  },
  {
   "cell_type": "markdown",
   "metadata": {},
   "source": [
    "Definir qual é a coluna para fazer o teste estatístico: @5 = 0; @10 = 1; @20 = 3"
   ]
  },
  {
   "cell_type": "code",
   "execution_count": 267,
   "metadata": {
    "ExecuteTime": {
     "end_time": "2019-07-04T17:24:00.662161Z",
     "start_time": "2019-07-04T17:24:00.592334Z"
    }
   },
   "outputs": [],
   "source": [
    "coluna = 0"
   ]
  },
  {
   "cell_type": "markdown",
   "metadata": {},
   "source": [
    "Carregar as informações de distribuição do PSO"
   ]
  },
  {
   "cell_type": "code",
   "execution_count": 268,
   "metadata": {
    "ExecuteTime": {
     "end_time": "2019-07-04T17:24:00.748110Z",
     "start_time": "2019-07-04T17:24:00.664217Z"
    }
   },
   "outputs": [],
   "source": [
    "resultados_pso = []\n",
    "dados_pso = open(\"Comparações/ML-1M/PSO/eval.txt\",\"r\")\n",
    "for linha in dados_pso:\n",
    "    resultados_pso.append(linha.split())\n",
    "dados_pso.close()\n",
    "resultados_pso = np.array(resultados_pso,dtype='<U30')"
   ]
  },
  {
   "cell_type": "code",
   "execution_count": 269,
   "metadata": {
    "ExecuteTime": {
     "end_time": "2019-07-04T17:24:00.832421Z",
     "start_time": "2019-07-04T17:24:00.751048Z"
    },
    "scrolled": false
   },
   "outputs": [
    {
     "data": {
      "text/plain": [
       "array([['Div'],\n",
       "       ['0.833333'],\n",
       "       ['0.888889'],\n",
       "       ..., \n",
       "       ['0.888889'],\n",
       "       ['0.833333'],\n",
       "       ['0.888889']],\n",
       "      dtype='<U9')"
      ]
     },
     "execution_count": 269,
     "metadata": {},
     "output_type": "execute_result"
    }
   ],
   "source": [
    "pso = np.array(resultados_pso[:,col_metrica:col_metrica+1][:].copy())\n",
    "pso"
   ]
  },
  {
   "cell_type": "code",
   "execution_count": 270,
   "metadata": {
    "ExecuteTime": {
     "end_time": "2019-07-04T17:24:01.009821Z",
     "start_time": "2019-07-04T17:24:00.836228Z"
    }
   },
   "outputs": [
    {
     "name": "stdout",
     "output_type": "stream",
     "text": [
      "Total de Recomendações: 6040.0000\n",
      "Média: 0.8503\n",
      "Mediana: 0.8333\n",
      "Variância: 0.0046\n",
      "Desvio Padrão: 0.0678\n",
      "Menor Valor: 0.5556\n",
      "Maior Valor: 1.0000\n"
     ]
    }
   ],
   "source": [
    "dist1 = pso[1:].copy()\n",
    "dist1 = np.core.defchararray.replace(dist1,',','.')\n",
    "dist1 = np.core.defchararray.replace(dist1,'NaN','0.000')\n",
    "dist1 = dist1.astype(float)\n",
    "\n",
    "print('Total de Recomendações: {:.4f}'.format(len(dist1[:,coluna])))\n",
    "print('Média: {:.4f}'.format(np.mean(dist1[:,coluna])))\n",
    "print('Mediana: {:.4f}'.format(np.median(dist1[:,coluna])))\n",
    "print('Variância: {:.4f}'.format(np.var(dist1[:,coluna])))\n",
    "print('Desvio Padrão: {:.4f}'.format(np.std(dist1[:,coluna])))\n",
    "print('Menor Valor: {:.4f}'.format(np.min(dist1[:,coluna])))\n",
    "print('Maior Valor: {:.4f}'.format(np.max(dist1[:,coluna])))"
   ]
  },
  {
   "cell_type": "markdown",
   "metadata": {},
   "source": [
    "Carregar as informações de distribuição do ITS"
   ]
  },
  {
   "cell_type": "code",
   "execution_count": 271,
   "metadata": {
    "ExecuteTime": {
     "end_time": "2019-07-04T17:24:01.105927Z",
     "start_time": "2019-07-04T17:24:01.011894Z"
    }
   },
   "outputs": [],
   "source": [
    "resultados_its = []\n",
    "dados_its = open(\"Comparações/ML-1M/ITS/eval.txt\",\"r\")\n",
    "for linha in dados_its:\n",
    "    resultados_its.append(linha.split())\n",
    "dados_its.close()\n",
    "resultados_its = np.array(resultados_its,dtype='<U30')"
   ]
  },
  {
   "cell_type": "code",
   "execution_count": 272,
   "metadata": {
    "ExecuteTime": {
     "end_time": "2019-07-04T17:24:01.178179Z",
     "start_time": "2019-07-04T17:24:01.108228Z"
    },
    "scrolled": true
   },
   "outputs": [
    {
     "data": {
      "text/plain": [
       "array([['Div'],\n",
       "       ['0.888889'],\n",
       "       ['0.944444'],\n",
       "       ..., \n",
       "       ['0.888889'],\n",
       "       ['0.833333'],\n",
       "       ['0.888889']],\n",
       "      dtype='<U9')"
      ]
     },
     "execution_count": 272,
     "metadata": {},
     "output_type": "execute_result"
    }
   ],
   "source": [
    "its = np.array(resultados_its[:,col_metrica:col_metrica+1][:].copy())\n",
    "its"
   ]
  },
  {
   "cell_type": "code",
   "execution_count": 273,
   "metadata": {
    "ExecuteTime": {
     "end_time": "2019-07-04T17:24:01.293250Z",
     "start_time": "2019-07-04T17:24:01.181769Z"
    }
   },
   "outputs": [
    {
     "name": "stdout",
     "output_type": "stream",
     "text": [
      "Total de Recomendações: 6040.0000\n",
      "Média: 0.8799\n",
      "Mediana: 0.8889\n",
      "Variância: 0.0041\n",
      "Desvio Padrão: 0.0641\n",
      "Menor Valor: 0.5556\n",
      "Maior Valor: 1.0000\n"
     ]
    }
   ],
   "source": [
    "dist2 = its[1:].copy()\n",
    "dist2 = np.core.defchararray.replace(dist2,',','.')\n",
    "dist2 = np.core.defchararray.replace(dist2,'NaN','0.000')\n",
    "dist2 = dist2.astype(float)\n",
    "\n",
    "print('Total de Recomendações: {:.4f}'.format(len(dist2[:,coluna])))\n",
    "print('Média: {:.4f}'.format(np.mean(dist2[:,coluna])))\n",
    "print('Mediana: {:.4f}'.format(np.median(dist2[:,coluna])))\n",
    "print('Variância: {:.4f}'.format(np.var(dist2[:,coluna])))\n",
    "print('Desvio Padrão: {:.4f}'.format(np.std(dist2[:,coluna])))\n",
    "print('Menor Valor: {:.4f}'.format(np.min(dist2[:,coluna])))\n",
    "print('Maior Valor: {:.4f}'.format(np.max(dist2[:,coluna])))"
   ]
  },
  {
   "cell_type": "markdown",
   "metadata": {},
   "source": [
    "Carregar as informações de distribuição do Guloso"
   ]
  },
  {
   "cell_type": "code",
   "execution_count": 274,
   "metadata": {
    "ExecuteTime": {
     "end_time": "2019-07-04T17:24:01.360731Z",
     "start_time": "2019-07-04T17:24:01.296349Z"
    }
   },
   "outputs": [],
   "source": [
    "resultados_Guloso = []\n",
    "dados_Guloso = open(\"Comparações/ML-1M/Guloso/eval.txt\",\"r\")\n",
    "for linha in dados_Guloso:\n",
    "    resultados_Guloso.append(linha.split())\n",
    "dados_Guloso.close()\n",
    "resultados_Guloso = np.array(resultados_Guloso,dtype='<U30')"
   ]
  },
  {
   "cell_type": "code",
   "execution_count": 275,
   "metadata": {
    "ExecuteTime": {
     "end_time": "2019-07-04T17:24:01.432846Z",
     "start_time": "2019-07-04T17:24:01.363431Z"
    },
    "scrolled": true
   },
   "outputs": [
    {
     "data": {
      "text/plain": [
       "array([['Div'],\n",
       "       ['0.888889'],\n",
       "       ['0.944444'],\n",
       "       ..., \n",
       "       ['0.888889'],\n",
       "       ['0.777778'],\n",
       "       ['0.888889']],\n",
       "      dtype='<U9')"
      ]
     },
     "execution_count": 275,
     "metadata": {},
     "output_type": "execute_result"
    }
   ],
   "source": [
    "Guloso = np.array(resultados_Guloso[:,col_metrica:col_metrica+1][:].copy())\n",
    "Guloso"
   ]
  },
  {
   "cell_type": "code",
   "execution_count": 276,
   "metadata": {
    "ExecuteTime": {
     "end_time": "2019-07-04T17:24:01.560009Z",
     "start_time": "2019-07-04T17:24:01.435460Z"
    }
   },
   "outputs": [
    {
     "name": "stdout",
     "output_type": "stream",
     "text": [
      "Total de Recomendações: 6040.0000\n",
      "Média: 0.8799\n",
      "Mediana: 0.8889\n",
      "Variância: 0.0041\n",
      "Desvio Padrão: 0.0641\n",
      "Menor Valor: 0.5556\n",
      "Maior Valor: 1.0000\n"
     ]
    }
   ],
   "source": [
    "dist3 = its[1:].copy()\n",
    "dist3 = np.core.defchararray.replace(dist3,',','.')\n",
    "dist3 = np.core.defchararray.replace(dist3,'NaN','0.000')\n",
    "dist3 = dist3.astype(float)\n",
    "\n",
    "print('Total de Recomendações: {:.4f}'.format(len(dist3[:,coluna])))\n",
    "print('Média: {:.4f}'.format(np.mean(dist3[:,coluna])))\n",
    "print('Mediana: {:.4f}'.format(np.median(dist3[:,coluna])))\n",
    "print('Variância: {:.4f}'.format(np.var(dist3[:,coluna])))\n",
    "print('Desvio Padrão: {:.4f}'.format(np.std(dist3[:,coluna])))\n",
    "print('Menor Valor: {:.4f}'.format(np.min(dist3[:,coluna])))\n",
    "print('Maior Valor: {:.4f}'.format(np.max(dist3[:,coluna])))"
   ]
  },
  {
   "cell_type": "markdown",
   "metadata": {},
   "source": [
    "Carregar as informações da distribuição do recomendação base"
   ]
  },
  {
   "cell_type": "code",
   "execution_count": 277,
   "metadata": {
    "ExecuteTime": {
     "end_time": "2019-07-04T17:24:01.709946Z",
     "start_time": "2019-07-04T17:24:01.561774Z"
    }
   },
   "outputs": [],
   "source": [
    "resultados_base = []\n",
    "dados_base = open(\"Comparações/ML-1M/userKNN/eval.txt\",\"r\")\n",
    "for linha in dados_base:\n",
    "    resultados_base.append(linha.split())\n",
    "dados_base.close()\n",
    "resultados_base = np.array(resultados_base,dtype='<U30')"
   ]
  },
  {
   "cell_type": "code",
   "execution_count": 278,
   "metadata": {
    "ExecuteTime": {
     "end_time": "2019-07-04T17:24:01.777884Z",
     "start_time": "2019-07-04T17:24:01.712111Z"
    }
   },
   "outputs": [
    {
     "data": {
      "text/plain": [
       "array([['Div'],\n",
       "       ['0.611111'],\n",
       "       ['0.5'],\n",
       "       ..., \n",
       "       ['0.333333'],\n",
       "       ['0.444444'],\n",
       "       ['0.611111']],\n",
       "      dtype='<U9')"
      ]
     },
     "execution_count": 278,
     "metadata": {},
     "output_type": "execute_result"
    }
   ],
   "source": [
    "base = np.array(resultados_base[:,col_metrica:col_metrica+1][:].copy())\n",
    "base"
   ]
  },
  {
   "cell_type": "code",
   "execution_count": 279,
   "metadata": {
    "ExecuteTime": {
     "end_time": "2019-07-04T17:24:01.873522Z",
     "start_time": "2019-07-04T17:24:01.779804Z"
    }
   },
   "outputs": [
    {
     "name": "stdout",
     "output_type": "stream",
     "text": [
      "Total de Recomendações: 6040.0000\n",
      "Média: 0.5183\n",
      "Mediana: 0.5000\n",
      "Variância: 0.0106\n",
      "Desvio Padrão: 0.1032\n",
      "Menor Valor: 0.1667\n",
      "Maior Valor: 0.8889\n"
     ]
    }
   ],
   "source": [
    "dist4 = base[1:].copy()\n",
    "dist4 = np.core.defchararray.replace(dist4,',','.')\n",
    "dist4 = np.core.defchararray.replace(dist4,'NaN','0.000')\n",
    "dist4 = dist4.astype(float)\n",
    "\n",
    "print('Total de Recomendações: {:.4f}'.format(len(dist4[:,coluna])))\n",
    "print('Média: {:.4f}'.format(np.mean(dist4[:,coluna])))\n",
    "print('Mediana: {:.4f}'.format(np.median(dist4[:,coluna])))\n",
    "print('Variância: {:.4f}'.format(np.var(dist4[:,coluna])))\n",
    "print('Desvio Padrão: {:.4f}'.format(np.std(dist4[:,coluna])))\n",
    "print('Menor Valor: {:.4f}'.format(np.min(dist4[:,coluna])))\n",
    "print('Maior Valor: {:.4f}'.format(np.max(dist4[:,coluna])))"
   ]
  },
  {
   "cell_type": "markdown",
   "metadata": {},
   "source": [
    "Teste de Kolmogorov para comparar as duas distribuições com uma distribuição normal (se o valor de \"pvalue\" é menor que 0.05 significa que existe diferença estatística entre as distribuições):"
   ]
  },
  {
   "cell_type": "code",
   "execution_count": 280,
   "metadata": {
    "ExecuteTime": {
     "end_time": "2019-07-04T17:24:01.935005Z",
     "start_time": "2019-07-04T17:24:01.875353Z"
    }
   },
   "outputs": [
    {
     "name": "stdout",
     "output_type": "stream",
     "text": [
      "KstestResult(statistic=0.74336849608805167, pvalue=0.0)\n",
      "KstestResult(statistic=0.75349715920970517, pvalue=0.0)\n",
      "KstestResult(statistic=0.75349715920970517, pvalue=0.0)\n",
      "KstestResult(statistic=0.61284330223574068, pvalue=0.0)\n"
     ]
    }
   ],
   "source": [
    "print(stats.kstest(dist1[:,coluna], 'norm')) # PSO\n",
    "print(stats.kstest(dist2[:,coluna], 'norm')) # ITS\n",
    "print(stats.kstest(dist3[:,coluna], 'norm')) # Guloso\n",
    "print(stats.kstest(dist4[:,coluna], 'norm')) # Base"
   ]
  },
  {
   "cell_type": "markdown",
   "metadata": {},
   "source": [
    "Teste de Kolmogorov para comparar as duas distribuições entre si:"
   ]
  },
  {
   "cell_type": "code",
   "execution_count": 281,
   "metadata": {
    "ExecuteTime": {
     "end_time": "2019-07-04T17:24:02.001953Z",
     "start_time": "2019-07-04T17:24:01.936809Z"
    },
    "scrolled": true
   },
   "outputs": [
    {
     "name": "stdout",
     "output_type": "stream",
     "text": [
      "Ks_2sampResult(statistic=0.18476821192052978, pvalue=2.2432177375599819e-90)\n"
     ]
    }
   ],
   "source": [
    "print(stats.ks_2samp(dist1[:,coluna], dist2[:,coluna]))"
   ]
  },
  {
   "cell_type": "markdown",
   "metadata": {},
   "source": [
    "Teste de Wilcoxon para comparar as duas distribuições entre si (se o valor de \"pvalue\" é menor que 0.05 significa que há diferença estatística entre as distribuições):"
   ]
  },
  {
   "cell_type": "code",
   "execution_count": 282,
   "metadata": {
    "ExecuteTime": {
     "end_time": "2019-07-04T17:24:02.079920Z",
     "start_time": "2019-07-04T17:24:02.003610Z"
    }
   },
   "outputs": [
    {
     "name": "stdout",
     "output_type": "stream",
     "text": [
      "Base-Guloso:  WilcoxonResult(statistic=0.0, pvalue=0.0)\n",
      "Base-Tabu:  WilcoxonResult(statistic=0.0, pvalue=0.0)\n",
      "Base-PSO:  WilcoxonResult(statistic=0.0, pvalue=0.0)\n",
      "Guloso-Tabu:  WilcoxonResult(statistic=0.0, pvalue=nan)\n",
      "Guloso-PSO:  WilcoxonResult(statistic=215861.5, pvalue=0.0)\n",
      "Tabu-PSO:  WilcoxonResult(statistic=215861.5, pvalue=0.0)\n"
     ]
    },
    {
     "name": "stderr",
     "output_type": "stream",
     "text": [
      "/home/labpi/anaconda3/lib/python3.6/site-packages/scipy/stats/morestats.py:2388: UserWarning: Warning: sample size too small for normal approximation.\n",
      "  warnings.warn(\"Warning: sample size too small for normal approximation.\")\n",
      "/home/labpi/anaconda3/lib/python3.6/site-packages/scipy/stats/morestats.py:2413: RuntimeWarning: invalid value encountered in double_scalars\n",
      "  z = (T - mn - correction) / se\n"
     ]
    }
   ],
   "source": [
    "print('Base-Guloso: ', stats.wilcoxon(dist4[:,coluna], dist3[:,coluna]))\n",
    "print('Base-Tabu: ', stats.wilcoxon(dist4[:,coluna], dist2[:,coluna]))\n",
    "print('Base-PSO: ', stats.wilcoxon(dist4[:,coluna], dist1[:,coluna]))\n",
    "print('Guloso-Tabu: ', stats.wilcoxon(dist3[:,coluna], dist2[:,coluna]))\n",
    "print('Guloso-PSO: ', stats.wilcoxon(dist3[:,coluna], dist1[:,coluna]))\n",
    "print('Tabu-PSO: ', stats.wilcoxon(dist2[:,coluna], dist1[:,coluna]))"
   ]
  }
 ],
 "metadata": {
  "kernelspec": {
   "display_name": "Python 3",
   "language": "python",
   "name": "python3"
  },
  "language_info": {
   "codemirror_mode": {
    "name": "ipython",
    "version": 3
   },
   "file_extension": ".py",
   "mimetype": "text/x-python",
   "name": "python",
   "nbconvert_exporter": "python",
   "pygments_lexer": "ipython3",
   "version": "3.6.5"
  },
  "toc": {
   "base_numbering": 1,
   "nav_menu": {},
   "number_sections": true,
   "sideBar": true,
   "skip_h1_title": false,
   "title_cell": "Table of Contents",
   "title_sidebar": "Contents",
   "toc_cell": false,
   "toc_position": {},
   "toc_section_display": true,
   "toc_window_display": false
  },
  "varInspector": {
   "cols": {
    "lenName": 16,
    "lenType": 16,
    "lenVar": 40
   },
   "kernels_config": {
    "python": {
     "delete_cmd_postfix": "",
     "delete_cmd_prefix": "del ",
     "library": "var_list.py",
     "varRefreshCmd": "print(var_dic_list())"
    },
    "r": {
     "delete_cmd_postfix": ") ",
     "delete_cmd_prefix": "rm(",
     "library": "var_list.r",
     "varRefreshCmd": "cat(var_dic_list()) "
    }
   },
   "types_to_exclude": [
    "module",
    "function",
    "builtin_function_or_method",
    "instance",
    "_Feature"
   ],
   "window_display": false
  }
 },
 "nbformat": 4,
 "nbformat_minor": 2
}
