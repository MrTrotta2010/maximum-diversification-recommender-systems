{
 "cells": [
  {
   "cell_type": "code",
   "execution_count": 5,
   "metadata": {
    "ExecuteTime": {
     "end_time": "2019-01-21T17:24:11.512884Z",
     "start_time": "2019-01-21T17:24:11.510154Z"
    }
   },
   "outputs": [],
   "source": [
    "#recs_list = ['rec_itemKNN', 'rec_userKNN', 'rec_WRMF']\n",
    "recs_list = ['rec_itemAttributeKNN']"
   ]
  },
  {
   "cell_type": "code",
   "execution_count": 6,
   "metadata": {
    "ExecuteTime": {
     "end_time": "2019-01-21T17:24:11.668958Z",
     "start_time": "2019-01-21T17:24:11.517713Z"
    }
   },
   "outputs": [],
   "source": [
    "for rec_list in recs_list:\n",
    "    file_in = open(rec_list+ \".txt\", 'r')\n",
    "    \n",
    "    file_out_5 = open(rec_list+ \"_5_conv.txt\", 'w')\n",
    "    file_out_10 = open(rec_list+ \"_10_conv.txt\", 'w')\n",
    "    file_out_20 = open(rec_list+ \"_20_conv.txt\", 'w')\n",
    "    file_out_conv = open(rec_list+\"_conv.txt\", 'w')\n",
    "    \n",
    "    for file in file_in:\n",
    "        line = file.strip()\n",
    "        values = line.split(\"\\t\")\n",
    "        user_id = values[0]\n",
    "        itens = values[1][1:-1].split(\",\")\n",
    "        #itens = itens.split(\"[\")\n",
    "        #print(itens)\n",
    "        \n",
    "        file_out_5.write(\"%s %s\\n\" % (user_id, \" \".join(itens[:5])))\n",
    "        file_out_10.write(\"%s %s\\n\" % (user_id, \" \".join(itens[:10])))\n",
    "        file_out_20.write(\"%s %s\\n\" % (user_id, \" \".join(itens[:20])))\n",
    "        file_out_conv.write(\"%s %s\\n\" % (user_id, \" \".join(itens)))"
   ]
  }
 ],
 "metadata": {
  "kernelspec": {
   "display_name": "Python 3",
   "language": "python",
   "name": "python3"
  },
  "language_info": {
   "codemirror_mode": {
    "name": "ipython",
    "version": 3
   },
   "file_extension": ".py",
   "mimetype": "text/x-python",
   "name": "python",
   "nbconvert_exporter": "python",
   "pygments_lexer": "ipython3",
   "version": "3.6.5"
  },
  "toc": {
   "base_numbering": 1,
   "nav_menu": {},
   "number_sections": true,
   "sideBar": true,
   "skip_h1_title": false,
   "title_cell": "Table of Contents",
   "title_sidebar": "Contents",
   "toc_cell": false,
   "toc_position": {},
   "toc_section_display": true,
   "toc_window_display": false
  },
  "varInspector": {
   "cols": {
    "lenName": 16,
    "lenType": 16,
    "lenVar": 40
   },
   "kernels_config": {
    "python": {
     "delete_cmd_postfix": "",
     "delete_cmd_prefix": "del ",
     "library": "var_list.py",
     "varRefreshCmd": "print(var_dic_list())"
    },
    "r": {
     "delete_cmd_postfix": ") ",
     "delete_cmd_prefix": "rm(",
     "library": "var_list.r",
     "varRefreshCmd": "cat(var_dic_list()) "
    }
   },
   "types_to_exclude": [
    "module",
    "function",
    "builtin_function_or_method",
    "instance",
    "_Feature"
   ],
   "window_display": false
  }
 },
 "nbformat": 4,
 "nbformat_minor": 2
}
