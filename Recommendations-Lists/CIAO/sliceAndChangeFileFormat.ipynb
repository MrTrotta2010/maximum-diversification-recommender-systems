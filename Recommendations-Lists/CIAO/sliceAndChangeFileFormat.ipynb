{
 "cells": [
  {
   "cell_type": "code",
   "execution_count": 1,
   "metadata": {
    "collapsed": true
   },
   "outputs": [],
   "source": [
    "recs_list = ['rec_itemKNN', 'rec_userKNN', 'rec_WRMF']"
   ]
  },
  {
   "cell_type": "code",
   "execution_count": 12,
   "metadata": {},
   "outputs": [],
   "source": [
    "for rec_list in recs_list:\n",
    "    file_in = open(rec_list+ \".txt\", 'r')\n",
    "    \n",
    "    file_out_5 = open(rec_list+ \"_5.txt\", 'w')\n",
    "    file_out_10 = open(rec_list+ \"_10.txt\", 'w')\n",
    "    file_out_20 = open(rec_list+ \"_20.txt\", 'w')\n",
    "    file_out_conv = open(rec_list+\"_conv.txt\", 'w')\n",
    "    \n",
    "    for file in file_in:\n",
    "        line = file.strip()\n",
    "        values = line.split(\"\\t\")\n",
    "        user_id = values[0]\n",
    "        itens = values[1][1:-1].split(\",\")\n",
    "        #itens = itens.split(\"[\")\n",
    "        #print(itens)\n",
    "        \n",
    "        file_out_5.write(\"%s %s\\n\" % (user_id, \" \".join(itens[:5])))\n",
    "        file_out_10.write(\"%s %s\\n\" % (user_id, \" \".join(itens[:10])))\n",
    "        file_out_20.write(\"%s %s\\n\" % (user_id, \" \".join(itens[:20])))\n",
    "        file_out_conv.write(\"%s %s\\n\" % (user_id, \" \".join(itens)))"
   ]
  }
 ],
 "metadata": {
  "kernelspec": {
   "display_name": "Python 3",
   "language": "python",
   "name": "python3"
  },
  "language_info": {
   "codemirror_mode": {
    "name": "ipython",
    "version": 3
   },
   "file_extension": ".py",
   "mimetype": "text/x-python",
   "name": "python",
   "nbconvert_exporter": "python",
   "pygments_lexer": "ipython3",
   "version": "3.6.1"
  }
 },
 "nbformat": 4,
 "nbformat_minor": 2
}
