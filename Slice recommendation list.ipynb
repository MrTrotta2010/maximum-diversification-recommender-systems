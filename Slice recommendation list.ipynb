{
 "cells": [
  {
   "cell_type": "code",
   "execution_count": 34,
   "metadata": {
    "ExecuteTime": {
     "end_time": "2018-12-19T15:44:18.639995Z",
     "start_time": "2018-12-19T15:44:18.637026Z"
    },
    "collapsed": true
   },
   "outputs": [],
   "source": [
    "recs_list = ['rec_itemKNN', 'rec_MostPopular', 'rec_userKNN', 'rec_WRMF']\n",
    "datasets = ['ML-1M', 'CIAO']"
   ]
  },
  {
   "cell_type": "code",
   "execution_count": 3,
   "metadata": {
    "ExecuteTime": {
     "end_time": "2018-12-19T15:45:21.825829Z",
     "start_time": "2018-12-19T15:45:21.522092Z"
    }
   },
   "outputs": [
    {
     "name": "stdout",
     "output_type": "stream",
     "text": [
      "rec_softMarginRankingMF\n",
      "rec_softMarginRankingMF\n"
     ]
    }
   ],
   "source": [
    "for dataset in datasets:\n",
    "    #for rec_list in recs_list:\n",
    "    rec_list = 'rec_softMarginRankingMF'\n",
    "    print(rec_list)\n",
    "    file_in = open(\"Recommendations-Lists/\" +dataset+ \"/\" +rec_list+ \".txt\", 'r')\n",
    "\n",
    "    file_out_5 = open(\"Recommendations-Lists/\" +dataset+ \"/\" +rec_list+ \"_5.txt\", 'w')\n",
    "    file_out_10 = open(\"Recommendations-Lists/\" +dataset+ \"/\" +rec_list+ \"_10.txt\", 'w')\n",
    "    file_out_20 = open(\"Recommendations-Lists/\" +dataset+ \"/\" +rec_list+ \"_20.txt\", 'w')\n",
    "\n",
    "    for file in file_in:\n",
    "        line = file.strip()\n",
    "        values = line.split(\"\\t\")\n",
    "        user_id = values[0]\n",
    "        itens = values[1][1:-1].split(\",\")\n",
    "\n",
    "\n",
    "        file_out_5.write(\"%s\\t[%s]\\n\" % (user_id, \",\".join(itens[:5])))\n",
    "        file_out_10.write(\"%s\\t[%s]\\n\" % (user_id, \",\".join(itens[:10])))\n",
    "        file_out_20.write(\"%s\\t[%s]\\n\" % (user_id, \",\".join(itens[:20])))"
   ]
  },
  {
   "cell_type": "code",
   "execution_count": 36,
   "metadata": {
    "ExecuteTime": {
     "end_time": "2018-12-19T16:32:56.173086Z",
     "start_time": "2018-12-19T16:32:56.091494Z"
    }
   },
   "outputs": [],
   "source": [
    "rec_list = 'rec_softMarginRankingMF'\n",
    "\n",
    "for dataset in datasets:\n",
    "    file_in = open(\"Recommendations-Lists/\" +dataset+ \"/\" +rec_list+ \".txt\", 'r')\n",
    "\n",
    "    file_out = open(\"Recommendations-Lists/\" +dataset+ \"/\" +rec_list+ \"_conv.txt\", 'w')\n",
    "    file_out_5 = open(\"Recommendations-Lists/\" +dataset+ \"/\" +rec_list+ \"_5_conv.txt\", 'w')\n",
    "    file_out_10 = open(\"Recommendations-Lists/\" +dataset+ \"/\" +rec_list+ \"_10_conv.txt\", 'w')\n",
    "    file_out_20 = open(\"Recommendations-Lists/\" +dataset+ \"/\" +rec_list+ \"_20_conv.txt\", 'w')\n",
    "\n",
    "    for file in file_in:\n",
    "        line = file.strip()\n",
    "        values = line.split(\"\\t\")\n",
    "        user_id = values[0]\n",
    "        #itens = values[1][1:-1].split(\",\")\n",
    "        values[1] = values[1].replace(\"[\", \"\")\n",
    "        values[1] = values[1].replace(\"]\", \"\")\n",
    "        values[1] = values[1].replace(\",\", \" \")\n",
    "        itens = values[1].split(\":\")\n",
    "        #print(intens)\n",
    "        \n",
    "        file_out.write(\"%s %s\\n\" % (user_id, \":\".join(itens)))\n",
    "        file_out_5.write(\"%s %s\\n\" % (user_id, \":\".join(itens[:5])))\n",
    "        file_out_10.write(\"%s %s\\n\" % (user_id, \":\".join(itens[:10])))\n",
    "        file_out_20.write(\"%s %s\\n\" % (user_id, \":\".join(itens[:20])))"
   ]
  },
  {
   "cell_type": "code",
   "execution_count": null,
   "metadata": {
    "collapsed": true
   },
   "outputs": [],
   "source": []
  }
 ],
 "metadata": {
  "kernelspec": {
   "display_name": "Python 3",
   "language": "python",
   "name": "python3"
  },
  "language_info": {
   "codemirror_mode": {
    "name": "ipython",
    "version": 3
   },
   "file_extension": ".py",
   "mimetype": "text/x-python",
   "name": "python",
   "nbconvert_exporter": "python",
   "pygments_lexer": "ipython3",
   "version": "3.6.1"
  },
  "toc": {
   "base_numbering": 1,
   "nav_menu": {},
   "number_sections": true,
   "sideBar": true,
   "skip_h1_title": false,
   "title_cell": "Table of Contents",
   "title_sidebar": "Contents",
   "toc_cell": false,
   "toc_position": {},
   "toc_section_display": true,
   "toc_window_display": false
  },
  "varInspector": {
   "cols": {
    "lenName": 16,
    "lenType": 16,
    "lenVar": 40
   },
   "kernels_config": {
    "python": {
     "delete_cmd_postfix": "",
     "delete_cmd_prefix": "del ",
     "library": "var_list.py",
     "varRefreshCmd": "print(var_dic_list())"
    },
    "r": {
     "delete_cmd_postfix": ") ",
     "delete_cmd_prefix": "rm(",
     "library": "var_list.r",
     "varRefreshCmd": "cat(var_dic_list()) "
    }
   },
   "types_to_exclude": [
    "module",
    "function",
    "builtin_function_or_method",
    "instance",
    "_Feature"
   ],
   "window_display": false
  }
 },
 "nbformat": 4,
 "nbformat_minor": 2
}
